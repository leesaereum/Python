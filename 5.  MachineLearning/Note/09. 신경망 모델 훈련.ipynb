{
 "cells": [
  {
   "cell_type": "code",
   "execution_count": 1,
   "metadata": {},
   "outputs": [],
   "source": [
    "import warnings\n",
    "warnings.filterwarnings('ignore')\n",
    "\n",
    "#import os\n",
    "#os.environ[\"TF_CPP_MIN-LOG_LEVEL\"] = \"3\""
   ]
  },
  {
   "cell_type": "code",
   "execution_count": 2,
   "metadata": {},
   "outputs": [],
   "source": [
    "from tensorflow import keras\n",
    "from sklearn.model_selection import train_test_split\n",
    "(train_input, train_target),(test_input,test_target)= keras.datasets.fashion_mnist.load_data()\n",
    "\n",
    "train_scaled = train_input / 255\n",
    "train_scaled, val_scaled, train_target, val_target = train_test_split(\n",
    "    train_scaled,train_target,test_size=0.2, random_state=42\n",
    ")"
   ]
  },
  {
   "cell_type": "code",
   "execution_count": 3,
   "metadata": {},
   "outputs": [],
   "source": [
    "# Model 함수 구현\n",
    "def model_fn(a_layer=None):\n",
    "    model = keras.Sequential()\n",
    "    model.add(keras.layers.Flatten(input_shape=(28,28)))\n",
    "    model.add(keras.layers.Dense(100, activation='relu'))\n",
    "    if a_layer:\n",
    "        model.add(a_layer)\n",
    "    model.add(keras.layers.Dense(10, activation='softmax'))\n",
    "    return model"
   ]
  },
  {
   "cell_type": "code",
   "execution_count": 4,
   "metadata": {},
   "outputs": [
    {
     "name": "stdout",
     "output_type": "stream",
     "text": [
      "Model: \"sequential\"\n",
      "_________________________________________________________________\n",
      " Layer (type)                Output Shape              Param #   \n",
      "=================================================================\n",
      " flatten (Flatten)           (None, 784)               0         \n",
      "                                                                 \n",
      " dense (Dense)               (None, 100)               78500     \n",
      "                                                                 \n",
      " dense_1 (Dense)             (None, 10)                1010      \n",
      "                                                                 \n",
      "=================================================================\n",
      "Total params: 79,510\n",
      "Trainable params: 79,510\n",
      "Non-trainable params: 0\n",
      "_________________________________________________________________\n"
     ]
    }
   ],
   "source": [
    "model = model_fn()\n",
    "model.summary()"
   ]
  },
  {
   "cell_type": "code",
   "execution_count": 5,
   "metadata": {},
   "outputs": [
    {
     "name": "stdout",
     "output_type": "stream",
     "text": [
      "Epoch 1/5\n"
     ]
    },
    {
     "name": "stderr",
     "output_type": "stream",
     "text": [
      "2022-07-20 16:46:42.367240: W tensorflow/core/platform/profile_utils/cpu_utils.cc:128] Failed to get CPU frequency: 0 Hz\n"
     ]
    },
    {
     "name": "stdout",
     "output_type": "stream",
     "text": [
      "1500/1500 [==============================] - 1s 692us/step - loss: 0.5309 - accuracy: 0.8142\n",
      "Epoch 2/5\n",
      "1500/1500 [==============================] - 1s 742us/step - loss: 0.3910 - accuracy: 0.8600\n",
      "Epoch 3/5\n",
      "1500/1500 [==============================] - 1s 865us/step - loss: 0.3535 - accuracy: 0.8737\n",
      "Epoch 4/5\n",
      "1500/1500 [==============================] - 1s 766us/step - loss: 0.3322 - accuracy: 0.8808\n",
      "Epoch 5/5\n",
      "1500/1500 [==============================] - 1s 714us/step - loss: 0.3166 - accuracy: 0.8874\n"
     ]
    }
   ],
   "source": [
    "model.compile(loss='sparse_categorical_crossentropy', metrics=\"accuracy\")\n",
    "history = model.fit(train_scaled, train_target, epochs=5)"
   ]
  },
  {
   "cell_type": "code",
   "execution_count": 6,
   "metadata": {},
   "outputs": [
    {
     "data": {
      "text/plain": [
       "dict_keys(['loss', 'accuracy'])"
      ]
     },
     "execution_count": 6,
     "metadata": {},
     "output_type": "execute_result"
    }
   ],
   "source": [
    "history.history.keys()"
   ]
  },
  {
   "cell_type": "markdown",
   "metadata": {},
   "source": [
    "---\n",
    "# 손실곡선"
   ]
  },
  {
   "cell_type": "code",
   "execution_count": 7,
   "metadata": {},
   "outputs": [
    {
     "data": {
      "image/png": "[encoded data removed]",
      "text/plain": [
       "<Figure size 432x288 with 1 Axes>"
      ]
     },
     "metadata": {
      "needs_background": "light"
     },
     "output_type": "display_data"
    }
   ],
   "source": [
    "import matplotlib.pyplot as plt\n",
    "plt.plot(history.history['loss'])\n",
    "plt.xlabel('epoch')\n",
    "plt.ylabel('loss')\n",
    "plt.show()"
   ]
  },
  {
   "cell_type": "code",
   "execution_count": 8,
   "metadata": {},
   "outputs": [
    {
     "data": {
      "image/png": "[encoded data removed]",
      "text/plain": [
       "<Figure size 432x288 with 1 Axes>"
      ]
     },
     "metadata": {
      "needs_background": "light"
     },
     "output_type": "display_data"
    }
   ],
   "source": [
    "plt.plot(history.history['accuracy'])\n",
    "plt.xlabel('epoch')\n",
    "plt.ylabel('accuracy')\n",
    "plt.show()"
   ]
  },
  {
   "cell_type": "code",
   "execution_count": null,
   "metadata": {},
   "outputs": [],
   "source": []
  },
  {
   "cell_type": "markdown",
   "metadata": {},
   "source": [
    "---\n",
    "# 반복훈련의 증가"
   ]
  },
  {
   "cell_type": "code",
   "execution_count": 9,
   "metadata": {},
   "outputs": [
    {
     "name": "stdout",
     "output_type": "stream",
     "text": [
      "Epoch 1/50\n",
      "1500/1500 [==============================] - 1s 720us/step - loss: 0.3066 - accuracy: 0.8918\n",
      "Epoch 2/50\n",
      "1500/1500 [==============================] - 1s 922us/step - loss: 0.2966 - accuracy: 0.8963\n",
      "Epoch 3/50\n",
      "1500/1500 [==============================] - 1s 770us/step - loss: 0.2872 - accuracy: 0.9016\n",
      "Epoch 4/50\n",
      "1500/1500 [==============================] - 1s 780us/step - loss: 0.2799 - accuracy: 0.9025\n",
      "Epoch 5/50\n",
      "1500/1500 [==============================] - 1s 821us/step - loss: 0.2730 - accuracy: 0.9055\n",
      "Epoch 6/50\n",
      "1500/1500 [==============================] - 1s 741us/step - loss: 0.2688 - accuracy: 0.9075\n",
      "Epoch 7/50\n",
      "1500/1500 [==============================] - 1s 757us/step - loss: 0.2632 - accuracy: 0.9087\n",
      "Epoch 8/50\n",
      "1500/1500 [==============================] - 1s 791us/step - loss: 0.2587 - accuracy: 0.9114\n",
      "Epoch 9/50\n",
      "1500/1500 [==============================] - 1s 788us/step - loss: 0.2545 - accuracy: 0.9138\n",
      "Epoch 10/50\n",
      "1500/1500 [==============================] - 1s 696us/step - loss: 0.2505 - accuracy: 0.9140\n",
      "Epoch 11/50\n",
      "1500/1500 [==============================] - 1s 736us/step - loss: 0.2464 - accuracy: 0.9150\n",
      "Epoch 12/50\n",
      "1500/1500 [==============================] - 1s 726us/step - loss: 0.2431 - accuracy: 0.9182\n",
      "Epoch 13/50\n",
      "1500/1500 [==============================] - 1s 860us/step - loss: 0.2373 - accuracy: 0.9188\n",
      "Epoch 14/50\n",
      "1500/1500 [==============================] - 1s 809us/step - loss: 0.2354 - accuracy: 0.9211\n",
      "Epoch 15/50\n",
      "1500/1500 [==============================] - 1s 751us/step - loss: 0.2327 - accuracy: 0.9223\n",
      "Epoch 16/50\n",
      "1500/1500 [==============================] - 1s 749us/step - loss: 0.2267 - accuracy: 0.9230\n",
      "Epoch 17/50\n",
      "1500/1500 [==============================] - 1s 721us/step - loss: 0.2267 - accuracy: 0.9236\n",
      "Epoch 18/50\n",
      "1500/1500 [==============================] - 1s 833us/step - loss: 0.2211 - accuracy: 0.9246\n",
      "Epoch 19/50\n",
      "1500/1500 [==============================] - 1s 688us/step - loss: 0.2163 - accuracy: 0.9268\n",
      "Epoch 20/50\n",
      "1500/1500 [==============================] - 1s 746us/step - loss: 0.2167 - accuracy: 0.9273\n",
      "Epoch 21/50\n",
      "1500/1500 [==============================] - 1s 736us/step - loss: 0.2131 - accuracy: 0.9296\n",
      "Epoch 22/50\n",
      "1500/1500 [==============================] - 1s 773us/step - loss: 0.2088 - accuracy: 0.9310\n",
      "Epoch 23/50\n",
      "1500/1500 [==============================] - 1s 728us/step - loss: 0.2050 - accuracy: 0.9321\n",
      "Epoch 24/50\n",
      "1500/1500 [==============================] - 1s 776us/step - loss: 0.2073 - accuracy: 0.9332\n",
      "Epoch 25/50\n",
      "1500/1500 [==============================] - 1s 744us/step - loss: 0.2012 - accuracy: 0.9336\n",
      "Epoch 26/50\n",
      "1500/1500 [==============================] - 1s 759us/step - loss: 0.1975 - accuracy: 0.9361\n",
      "Epoch 27/50\n",
      "1500/1500 [==============================] - 1s 703us/step - loss: 0.1970 - accuracy: 0.9352\n",
      "Epoch 28/50\n",
      "1500/1500 [==============================] - 1s 719us/step - loss: 0.1927 - accuracy: 0.9359\n",
      "Epoch 29/50\n",
      "1500/1500 [==============================] - 1s 710us/step - loss: 0.1960 - accuracy: 0.9376\n",
      "Epoch 30/50\n",
      "1500/1500 [==============================] - 1s 735us/step - loss: 0.1878 - accuracy: 0.9385\n",
      "Epoch 31/50\n",
      "1500/1500 [==============================] - 1s 695us/step - loss: 0.1867 - accuracy: 0.9369\n",
      "Epoch 32/50\n",
      "1500/1500 [==============================] - 1s 697us/step - loss: 0.1883 - accuracy: 0.9401\n",
      "Epoch 33/50\n",
      "1500/1500 [==============================] - 1s 697us/step - loss: 0.1812 - accuracy: 0.9401\n",
      "Epoch 34/50\n",
      "1500/1500 [==============================] - 1s 699us/step - loss: 0.1827 - accuracy: 0.9410\n",
      "Epoch 35/50\n",
      "1500/1500 [==============================] - 1s 701us/step - loss: 0.1810 - accuracy: 0.9407\n",
      "Epoch 36/50\n",
      "1500/1500 [==============================] - 1s 702us/step - loss: 0.1763 - accuracy: 0.9433\n",
      "Epoch 37/50\n",
      "1500/1500 [==============================] - 1s 730us/step - loss: 0.1763 - accuracy: 0.9428\n",
      "Epoch 38/50\n",
      "1500/1500 [==============================] - 1s 695us/step - loss: 0.1724 - accuracy: 0.9445\n",
      "Epoch 39/50\n",
      "1500/1500 [==============================] - 1s 699us/step - loss: 0.1700 - accuracy: 0.9449\n",
      "Epoch 40/50\n",
      "1500/1500 [==============================] - 1s 700us/step - loss: 0.1681 - accuracy: 0.9459\n",
      "Epoch 41/50\n",
      "1500/1500 [==============================] - 1s 704us/step - loss: 0.1638 - accuracy: 0.9474\n",
      "Epoch 42/50\n",
      "1500/1500 [==============================] - 1s 709us/step - loss: 0.1661 - accuracy: 0.9474\n",
      "Epoch 43/50\n",
      "1500/1500 [==============================] - 1s 712us/step - loss: 0.1637 - accuracy: 0.9481\n",
      "Epoch 44/50\n",
      "1500/1500 [==============================] - 1s 738us/step - loss: 0.1644 - accuracy: 0.9469\n",
      "Epoch 45/50\n",
      "1500/1500 [==============================] - 1s 701us/step - loss: 0.1612 - accuracy: 0.9488\n",
      "Epoch 46/50\n",
      "1500/1500 [==============================] - 1s 700us/step - loss: 0.1587 - accuracy: 0.9496\n",
      "Epoch 47/50\n",
      "1500/1500 [==============================] - 1s 704us/step - loss: 0.1565 - accuracy: 0.9495\n",
      "Epoch 48/50\n",
      "1500/1500 [==============================] - 1s 699us/step - loss: 0.1538 - accuracy: 0.9515\n",
      "Epoch 49/50\n",
      "1500/1500 [==============================] - 1s 699us/step - loss: 0.1512 - accuracy: 0.9521\n",
      "Epoch 50/50\n",
      "1500/1500 [==============================] - 1s 699us/step - loss: 0.1521 - accuracy: 0.9514\n"
     ]
    }
   ],
   "source": [
    "model.compile(loss='sparse_categorical_crossentropy', metrics=\"accuracy\")\n",
    "history = model.fit(train_scaled, train_target, epochs=50)"
   ]
  },
  {
   "cell_type": "code",
   "execution_count": 10,
   "metadata": {},
   "outputs": [
    {
     "data": {
      "image/png": "[encoded data removed]",
      "text/plain": [
       "<Figure size 432x288 with 1 Axes>"
      ]
     },
     "metadata": {
      "needs_background": "light"
     },
     "output_type": "display_data"
    }
   ],
   "source": [
    "import matplotlib.pyplot as plt\n",
    "plt.plot(history.history['loss'])\n",
    "plt.xlabel('epoch')\n",
    "plt.ylabel('loss')\n",
    "plt.show()"
   ]
  },
  {
   "cell_type": "code",
   "execution_count": 11,
   "metadata": {},
   "outputs": [
    {
     "data": {
      "image/png": "[encoded data removed]",
      "text/plain": [
       "<Figure size 432x288 with 1 Axes>"
      ]
     },
     "metadata": {
      "needs_background": "light"
     },
     "output_type": "display_data"
    }
   ],
   "source": [
    "plt.plot(history.history['accuracy'])\n",
    "plt.xlabel('epoch')\n",
    "plt.ylabel('accuracy')\n",
    "plt.show()"
   ]
  },
  {
   "cell_type": "markdown",
   "metadata": {},
   "source": [
    "---\n",
    "### 검증 손실\n",
    ": 검증 세트에 대한 정확도를 파악하기 위해 validation data를 사용한다."
   ]
  },
  {
   "cell_type": "code",
   "execution_count": 12,
   "metadata": {},
   "outputs": [
    {
     "name": "stdout",
     "output_type": "stream",
     "text": [
      "Epoch 1/20\n",
      "1500/1500 [==============================] - 1s 839us/step - loss: 0.5330 - accuracy: 0.8128 - val_loss: 0.4336 - val_accuracy: 0.8469\n",
      "Epoch 2/20\n",
      "1500/1500 [==============================] - 1s 862us/step - loss: 0.3893 - accuracy: 0.8596 - val_loss: 0.4438 - val_accuracy: 0.8388\n",
      "Epoch 3/20\n",
      "1500/1500 [==============================] - 1s 861us/step - loss: 0.3533 - accuracy: 0.8713 - val_loss: 0.3737 - val_accuracy: 0.8711\n",
      "Epoch 4/20\n",
      "1500/1500 [==============================] - 1s 786us/step - loss: 0.3319 - accuracy: 0.8807 - val_loss: 0.3614 - val_accuracy: 0.8726\n",
      "Epoch 5/20\n",
      "1500/1500 [==============================] - 1s 830us/step - loss: 0.3168 - accuracy: 0.8864 - val_loss: 0.3685 - val_accuracy: 0.8754\n",
      "Epoch 6/20\n",
      "1500/1500 [==============================] - 1s 797us/step - loss: 0.3062 - accuracy: 0.8918 - val_loss: 0.3666 - val_accuracy: 0.8795\n",
      "Epoch 7/20\n",
      "1500/1500 [==============================] - 1s 799us/step - loss: 0.2963 - accuracy: 0.8943 - val_loss: 0.3753 - val_accuracy: 0.8802\n",
      "Epoch 8/20\n",
      "1500/1500 [==============================] - 1s 889us/step - loss: 0.2906 - accuracy: 0.8976 - val_loss: 0.3837 - val_accuracy: 0.8766\n",
      "Epoch 9/20\n",
      "1500/1500 [==============================] - 1s 920us/step - loss: 0.2820 - accuracy: 0.9011 - val_loss: 0.3787 - val_accuracy: 0.8792\n",
      "Epoch 10/20\n",
      "1500/1500 [==============================] - 1s 786us/step - loss: 0.2756 - accuracy: 0.9031 - val_loss: 0.3778 - val_accuracy: 0.8828\n",
      "Epoch 11/20\n",
      "1500/1500 [==============================] - 1s 766us/step - loss: 0.2711 - accuracy: 0.9062 - val_loss: 0.4168 - val_accuracy: 0.8727\n",
      "Epoch 12/20\n",
      "1500/1500 [==============================] - 1s 774us/step - loss: 0.2639 - accuracy: 0.9079 - val_loss: 0.3883 - val_accuracy: 0.8819\n",
      "Epoch 13/20\n",
      "1500/1500 [==============================] - 1s 766us/step - loss: 0.2595 - accuracy: 0.9103 - val_loss: 0.3932 - val_accuracy: 0.8798\n",
      "Epoch 14/20\n",
      "1500/1500 [==============================] - 1s 766us/step - loss: 0.2543 - accuracy: 0.9114 - val_loss: 0.4080 - val_accuracy: 0.8831\n",
      "Epoch 15/20\n",
      "1500/1500 [==============================] - 1s 770us/step - loss: 0.2508 - accuracy: 0.9136 - val_loss: 0.4074 - val_accuracy: 0.8852\n",
      "Epoch 16/20\n",
      "1500/1500 [==============================] - 1s 782us/step - loss: 0.2459 - accuracy: 0.9156 - val_loss: 0.4244 - val_accuracy: 0.8817\n",
      "Epoch 17/20\n",
      "1500/1500 [==============================] - 1s 802us/step - loss: 0.2413 - accuracy: 0.9181 - val_loss: 0.4165 - val_accuracy: 0.8861\n",
      "Epoch 18/20\n",
      "1500/1500 [==============================] - 1s 778us/step - loss: 0.2359 - accuracy: 0.9191 - val_loss: 0.4349 - val_accuracy: 0.8887\n",
      "Epoch 19/20\n",
      "1500/1500 [==============================] - 1s 774us/step - loss: 0.2355 - accuracy: 0.9197 - val_loss: 0.4545 - val_accuracy: 0.8752\n",
      "Epoch 20/20\n",
      "1500/1500 [==============================] - 1s 963us/step - loss: 0.2311 - accuracy: 0.9219 - val_loss: 0.4529 - val_accuracy: 0.8794\n"
     ]
    }
   ],
   "source": [
    "model = model_fn()\n",
    "model.compile(loss='sparse_categorical_crossentropy', metrics='accuracy')\n",
    "history = model.fit(train_scaled, train_target, epochs=20,\n",
    "                    validation_data = (val_scaled, val_target)\n",
    "                    )"
   ]
  },
  {
   "cell_type": "code",
   "execution_count": 13,
   "metadata": {},
   "outputs": [
    {
     "data": {
      "text/plain": [
       "dict_keys(['loss', 'accuracy', 'val_loss', 'val_accuracy'])"
      ]
     },
     "execution_count": 13,
     "metadata": {},
     "output_type": "execute_result"
    }
   ],
   "source": [
    "history.history.keys()"
   ]
  },
  {
   "cell_type": "code",
   "execution_count": 14,
   "metadata": {},
   "outputs": [
    {
     "data": {
      "image/png": "[encoded data removed]",
      "text/plain": [
       "<Figure size 432x288 with 1 Axes>"
      ]
     },
     "metadata": {
      "needs_background": "light"
     },
     "output_type": "display_data"
    }
   ],
   "source": [
    "plt.plot(history.history['loss'])\n",
    "plt.plot(history.history['val_loss'])\n",
    "plt.xlabel('epoch')\n",
    "plt.ylabel('loss')\n",
    "plt.legend(['train','validation'])\n",
    "plt.show()"
   ]
  },
  {
   "cell_type": "markdown",
   "metadata": {},
   "source": [
    "> 훈련 세트는 epochs가 증가함에 따라 손실이 떨어지고 있으나    \n",
    "> 검증 세트는 epochs가 증가함에 따라 초반에는 손실이 떨어지나 진행하면 할수록 손실율이 증가한다.    \n",
    "> 이 모델은 훈련셑에는 정확도가 높아 좋지만, 검증세트에는 적합하지 않는 과대적합 모델이다."
   ]
  },
  {
   "cell_type": "markdown",
   "metadata": {},
   "source": [
    "---\n",
    "Optimizer(adam)"
   ]
  },
  {
   "cell_type": "code",
   "execution_count": 15,
   "metadata": {},
   "outputs": [
    {
     "name": "stdout",
     "output_type": "stream",
     "text": [
      "Epoch 1/20\n",
      "1500/1500 [==============================] - 2s 889us/step - loss: 0.5264 - accuracy: 0.8158 - val_loss: 0.4709 - val_accuracy: 0.8308\n",
      "Epoch 2/20\n",
      "1500/1500 [==============================] - 1s 839us/step - loss: 0.3940 - accuracy: 0.8589 - val_loss: 0.3830 - val_accuracy: 0.8670\n",
      "Epoch 3/20\n",
      "1500/1500 [==============================] - 1s 756us/step - loss: 0.3559 - accuracy: 0.8716 - val_loss: 0.3741 - val_accuracy: 0.8660\n",
      "Epoch 4/20\n",
      "1500/1500 [==============================] - 1s 758us/step - loss: 0.3291 - accuracy: 0.8796 - val_loss: 0.3447 - val_accuracy: 0.8754\n",
      "Epoch 5/20\n",
      "1500/1500 [==============================] - 1s 784us/step - loss: 0.3081 - accuracy: 0.8869 - val_loss: 0.3417 - val_accuracy: 0.8758\n",
      "Epoch 6/20\n",
      "1500/1500 [==============================] - 1s 773us/step - loss: 0.2932 - accuracy: 0.8930 - val_loss: 0.3404 - val_accuracy: 0.8771\n",
      "Epoch 7/20\n",
      "1500/1500 [==============================] - 1s 707us/step - loss: 0.2800 - accuracy: 0.8975 - val_loss: 0.3273 - val_accuracy: 0.8827\n",
      "Epoch 8/20\n",
      "1500/1500 [==============================] - 1s 760us/step - loss: 0.2683 - accuracy: 0.9019 - val_loss: 0.3330 - val_accuracy: 0.8817\n",
      "Epoch 9/20\n",
      "1500/1500 [==============================] - 1s 787us/step - loss: 0.2590 - accuracy: 0.9043 - val_loss: 0.3584 - val_accuracy: 0.8754\n",
      "Epoch 10/20\n",
      "1500/1500 [==============================] - 1s 747us/step - loss: 0.2498 - accuracy: 0.9076 - val_loss: 0.3319 - val_accuracy: 0.8825\n",
      "Epoch 11/20\n",
      "1500/1500 [==============================] - 1s 738us/step - loss: 0.2412 - accuracy: 0.9101 - val_loss: 0.3279 - val_accuracy: 0.8836\n",
      "Epoch 12/20\n",
      "1500/1500 [==============================] - 1s 738us/step - loss: 0.2314 - accuracy: 0.9137 - val_loss: 0.3294 - val_accuracy: 0.8857\n",
      "Epoch 13/20\n",
      "1500/1500 [==============================] - 1s 741us/step - loss: 0.2277 - accuracy: 0.9167 - val_loss: 0.3264 - val_accuracy: 0.8851\n",
      "Epoch 14/20\n",
      "1500/1500 [==============================] - 1s 740us/step - loss: 0.2201 - accuracy: 0.9175 - val_loss: 0.3152 - val_accuracy: 0.8892\n",
      "Epoch 15/20\n",
      "1500/1500 [==============================] - 1s 744us/step - loss: 0.2127 - accuracy: 0.9211 - val_loss: 0.3341 - val_accuracy: 0.8885\n",
      "Epoch 16/20\n",
      "1500/1500 [==============================] - 1s 765us/step - loss: 0.2072 - accuracy: 0.9220 - val_loss: 0.3114 - val_accuracy: 0.8936\n",
      "Epoch 17/20\n",
      "1500/1500 [==============================] - 1s 741us/step - loss: 0.2037 - accuracy: 0.9246 - val_loss: 0.3428 - val_accuracy: 0.8836\n",
      "Epoch 18/20\n",
      "1500/1500 [==============================] - 1s 735us/step - loss: 0.1963 - accuracy: 0.9259 - val_loss: 0.3553 - val_accuracy: 0.8824\n",
      "Epoch 19/20\n",
      "1500/1500 [==============================] - 1s 739us/step - loss: 0.1914 - accuracy: 0.9294 - val_loss: 0.3473 - val_accuracy: 0.8838\n",
      "Epoch 20/20\n",
      "1500/1500 [==============================] - 1s 750us/step - loss: 0.1846 - accuracy: 0.9309 - val_loss: 0.3434 - val_accuracy: 0.8863\n"
     ]
    }
   ],
   "source": [
    "model = model_fn()\n",
    "model.compile(optimizer='adam',loss='sparse_categorical_crossentropy', metrics='accuracy')\n",
    "history = model.fit(train_scaled, train_target, epochs=20,\n",
    "                    validation_data = (val_scaled, val_target)\n",
    "                    )"
   ]
  },
  {
   "cell_type": "code",
   "execution_count": 16,
   "metadata": {},
   "outputs": [
    {
     "data": {
      "image/png": "[encoded data removed]",
      "text/plain": [
       "<Figure size 432x288 with 1 Axes>"
      ]
     },
     "metadata": {
      "needs_background": "light"
     },
     "output_type": "display_data"
    }
   ],
   "source": [
    "plt.plot(history.history['loss'])\n",
    "plt.plot(history.history['val_loss'])\n",
    "plt.xlabel('epoch')\n",
    "plt.ylabel('loss')\n",
    "plt.legend(['train','validation'])\n",
    "plt.show()"
   ]
  },
  {
   "cell_type": "markdown",
   "metadata": {},
   "source": [
    "> 훈련 세트는 epochs가 증가함에 따라 손실이 떨어지고 있으나    \n",
    "> 검증 세트는 epochs가 증가함에 따라 초반에는 손실이 떨어지나 진행하면 할수록 손실율이 증가한다.    \n",
    "> 이 모델은 훈련셑에는 정확도가 높아 좋지만, 검증세트에는 적합하지 않는 과대적합 모델이다.    \n",
    "> Optimizer(최적화 알고리즘)을 사용한 것이 좀더 나은 모델이나 검증손실에 대한 부분(과대적합)은 아직 해결이 안되었음."
   ]
  },
  {
   "cell_type": "markdown",
   "metadata": {},
   "source": [
    "---\n",
    "# Dropout\n",
    "- 규제\n",
    "- 신경망 모델에만 있음\n",
    "- 훈련시에만 각 sample을 처리할 때 은닉층의 임의의 node를 계산에 포함시키지 않는다."
   ]
  },
  {
   "cell_type": "code",
   "execution_count": 17,
   "metadata": {},
   "outputs": [
    {
     "name": "stdout",
     "output_type": "stream",
     "text": [
      "Model: \"sequential_3\"\n",
      "_________________________________________________________________\n",
      " Layer (type)                Output Shape              Param #   \n",
      "=================================================================\n",
      " flatten_3 (Flatten)         (None, 784)               0         \n",
      "                                                                 \n",
      " dense_6 (Dense)             (None, 100)               78500     \n",
      "                                                                 \n",
      " dropout (Dropout)           (None, 100)               0         \n",
      "                                                                 \n",
      " dense_7 (Dense)             (None, 10)                1010      \n",
      "                                                                 \n",
      "=================================================================\n",
      "Total params: 79,510\n",
      "Trainable params: 79,510\n",
      "Non-trainable params: 0\n",
      "_________________________________________________________________\n"
     ]
    }
   ],
   "source": [
    "# model에 dropout을 추가\n",
    "model = model_fn(keras.layers.Dropout(0.3)) # drop out 30%\n",
    "model.summary()"
   ]
  },
  {
   "cell_type": "code",
   "execution_count": 18,
   "metadata": {},
   "outputs": [
    {
     "name": "stdout",
     "output_type": "stream",
     "text": [
      "Epoch 1/20\n",
      "1500/1500 [==============================] - 2s 876us/step - loss: 0.5906 - accuracy: 0.7920 - val_loss: 0.4188 - val_accuracy: 0.8494\n",
      "Epoch 2/20\n",
      "1500/1500 [==============================] - 1s 769us/step - loss: 0.4384 - accuracy: 0.8444 - val_loss: 0.3889 - val_accuracy: 0.8608\n",
      "Epoch 3/20\n",
      "1500/1500 [==============================] - 1s 772us/step - loss: 0.4013 - accuracy: 0.8542 - val_loss: 0.3710 - val_accuracy: 0.8630\n",
      "Epoch 4/20\n",
      "1500/1500 [==============================] - 1s 730us/step - loss: 0.3798 - accuracy: 0.8615 - val_loss: 0.3599 - val_accuracy: 0.8668\n",
      "Epoch 5/20\n",
      "1500/1500 [==============================] - 1s 769us/step - loss: 0.3690 - accuracy: 0.8664 - val_loss: 0.3508 - val_accuracy: 0.8745\n",
      "Epoch 6/20\n",
      "1500/1500 [==============================] - 1s 772us/step - loss: 0.3533 - accuracy: 0.8703 - val_loss: 0.3491 - val_accuracy: 0.8724\n",
      "Epoch 7/20\n",
      "1500/1500 [==============================] - 1s 743us/step - loss: 0.3422 - accuracy: 0.8745 - val_loss: 0.3346 - val_accuracy: 0.8790\n",
      "Epoch 8/20\n",
      "1500/1500 [==============================] - 1s 740us/step - loss: 0.3343 - accuracy: 0.8757 - val_loss: 0.3325 - val_accuracy: 0.8788\n",
      "Epoch 9/20\n",
      "1500/1500 [==============================] - 1s 739us/step - loss: 0.3271 - accuracy: 0.8805 - val_loss: 0.3234 - val_accuracy: 0.8831\n",
      "Epoch 10/20\n",
      "1500/1500 [==============================] - 1s 742us/step - loss: 0.3170 - accuracy: 0.8827 - val_loss: 0.3543 - val_accuracy: 0.8710\n",
      "Epoch 11/20\n",
      "1500/1500 [==============================] - 1s 745us/step - loss: 0.3138 - accuracy: 0.8833 - val_loss: 0.3258 - val_accuracy: 0.8816\n",
      "Epoch 12/20\n",
      "1500/1500 [==============================] - 1s 772us/step - loss: 0.3120 - accuracy: 0.8844 - val_loss: 0.3238 - val_accuracy: 0.8844\n",
      "Epoch 13/20\n",
      "1500/1500 [==============================] - 1s 748us/step - loss: 0.3030 - accuracy: 0.8871 - val_loss: 0.3240 - val_accuracy: 0.8836\n",
      "Epoch 14/20\n",
      "1500/1500 [==============================] - 1s 784us/step - loss: 0.2999 - accuracy: 0.8876 - val_loss: 0.3281 - val_accuracy: 0.8855\n",
      "Epoch 15/20\n",
      "1500/1500 [==============================] - 1s 766us/step - loss: 0.2954 - accuracy: 0.8883 - val_loss: 0.3165 - val_accuracy: 0.8857\n",
      "Epoch 16/20\n",
      "1500/1500 [==============================] - 1s 751us/step - loss: 0.2918 - accuracy: 0.8909 - val_loss: 0.3274 - val_accuracy: 0.8816\n",
      "Epoch 17/20\n",
      "1500/1500 [==============================] - 1s 750us/step - loss: 0.2887 - accuracy: 0.8907 - val_loss: 0.3250 - val_accuracy: 0.8859\n",
      "Epoch 18/20\n",
      "1500/1500 [==============================] - 1s 742us/step - loss: 0.2825 - accuracy: 0.8930 - val_loss: 0.3247 - val_accuracy: 0.8817\n",
      "Epoch 19/20\n",
      "1500/1500 [==============================] - 1s 743us/step - loss: 0.2785 - accuracy: 0.8945 - val_loss: 0.3140 - val_accuracy: 0.8877\n",
      "Epoch 20/20\n",
      "1500/1500 [==============================] - 1s 751us/step - loss: 0.2745 - accuracy: 0.8966 - val_loss: 0.3302 - val_accuracy: 0.8847\n"
     ]
    }
   ],
   "source": [
    "model.compile(optimizer='adam',loss='sparse_categorical_crossentropy', metrics='accuracy')\n",
    "history = model.fit(train_scaled, train_target, epochs=20,\n",
    "                    validation_data = (val_scaled, val_target)\n",
    "                    )"
   ]
  },
  {
   "cell_type": "code",
   "execution_count": 19,
   "metadata": {},
   "outputs": [
    {
     "data": {
      "image/png": "[encoded data removed]",
      "text/plain": [
       "<Figure size 432x288 with 1 Axes>"
      ]
     },
     "metadata": {
      "needs_background": "light"
     },
     "output_type": "display_data"
    }
   ],
   "source": [
    "plt.plot(history.history['loss'])\n",
    "plt.plot(history.history['val_loss'])\n",
    "plt.xlabel('epoch')\n",
    "plt.ylabel('loss')\n",
    "plt.legend(['train','validation'])\n",
    "plt.show()"
   ]
  },
  {
   "cell_type": "markdown",
   "metadata": {},
   "source": [
    "> epochs가 10일 경우가 train과 val의 차이가 적은 것 같다.    \n",
    "> 기본적으로 훈련세트의 손실이 검증세트보다 적게 나오는 epoch의 갯수를 선택한다."
   ]
  },
  {
   "cell_type": "markdown",
   "metadata": {},
   "source": [
    "---\n",
    "### 모델의 저장과 복원\n",
    "- hdf5 format으로 저장\n"
   ]
  },
  {
   "cell_type": "code",
   "execution_count": 20,
   "metadata": {},
   "outputs": [],
   "source": [
    "# model 저장\n",
    "model.save(\"../Data/model-whole.h5\")"
   ]
  },
  {
   "cell_type": "code",
   "execution_count": 21,
   "metadata": {},
   "outputs": [],
   "source": [
    "# 복원\n",
    "model = keras.models.load_model(\"../Data/model-whole.h5\")"
   ]
  },
  {
   "cell_type": "code",
   "execution_count": 22,
   "metadata": {},
   "outputs": [
    {
     "name": "stdout",
     "output_type": "stream",
     "text": [
      "375/375 [==============================] - 0s 408us/step - loss: 0.3302 - accuracy: 0.8847\n"
     ]
    },
    {
     "data": {
      "text/plain": [
       "[0.3302460014820099, 0.8846666812896729]"
      ]
     },
     "execution_count": 22,
     "metadata": {},
     "output_type": "execute_result"
    }
   ],
   "source": [
    "# 사용\n",
    "model.evaluate(val_scaled, val_target)"
   ]
  },
  {
   "cell_type": "markdown",
   "metadata": {},
   "source": [
    "---\n",
    "# Callbacks\n",
    "- 훈련수행시 손실값이 제일 작은 함수를 저장해준다. <- 굉장히 편함 ㅋㅋㅋㅋㅋㅋ"
   ]
  },
  {
   "cell_type": "code",
   "execution_count": 23,
   "metadata": {},
   "outputs": [
    {
     "name": "stdout",
     "output_type": "stream",
     "text": [
      "Epoch 1/20\n",
      "1500/1500 [==============================] - 2s 975us/step - loss: 0.5990 - accuracy: 0.7893 - val_loss: 0.4519 - val_accuracy: 0.8398\n",
      "Epoch 2/20\n",
      "1500/1500 [==============================] - 1s 962us/step - loss: 0.4509 - accuracy: 0.8419 - val_loss: 0.4272 - val_accuracy: 0.8468\n",
      "Epoch 3/20\n",
      "1500/1500 [==============================] - 1s 851us/step - loss: 0.4254 - accuracy: 0.8524 - val_loss: 0.3973 - val_accuracy: 0.8613\n",
      "Epoch 4/20\n",
      "1500/1500 [==============================] - 1s 826us/step - loss: 0.4106 - accuracy: 0.8590 - val_loss: 0.3712 - val_accuracy: 0.8713\n",
      "Epoch 5/20\n",
      "1500/1500 [==============================] - 1s 826us/step - loss: 0.4042 - accuracy: 0.8620 - val_loss: 0.3771 - val_accuracy: 0.8742\n",
      "Epoch 6/20\n",
      "1500/1500 [==============================] - 1s 824us/step - loss: 0.3994 - accuracy: 0.8649 - val_loss: 0.4100 - val_accuracy: 0.8720\n",
      "Epoch 7/20\n",
      "1500/1500 [==============================] - 1s 830us/step - loss: 0.3948 - accuracy: 0.8683 - val_loss: 0.3826 - val_accuracy: 0.8771\n",
      "Epoch 8/20\n",
      "1500/1500 [==============================] - 1s 859us/step - loss: 0.3945 - accuracy: 0.8704 - val_loss: 0.4145 - val_accuracy: 0.8705\n",
      "Epoch 9/20\n",
      "1500/1500 [==============================] - 1s 843us/step - loss: 0.3876 - accuracy: 0.8710 - val_loss: 0.3797 - val_accuracy: 0.8789\n",
      "Epoch 10/20\n",
      "1500/1500 [==============================] - 1s 833us/step - loss: 0.3838 - accuracy: 0.8720 - val_loss: 0.3866 - val_accuracy: 0.8774\n",
      "Epoch 11/20\n",
      "1500/1500 [==============================] - 1s 830us/step - loss: 0.3852 - accuracy: 0.8728 - val_loss: 0.4168 - val_accuracy: 0.8759\n",
      "Epoch 12/20\n",
      "1500/1500 [==============================] - 1s 830us/step - loss: 0.3854 - accuracy: 0.8732 - val_loss: 0.4484 - val_accuracy: 0.8681\n",
      "Epoch 13/20\n",
      "1500/1500 [==============================] - 1s 831us/step - loss: 0.3819 - accuracy: 0.8767 - val_loss: 0.4061 - val_accuracy: 0.8792\n",
      "Epoch 14/20\n",
      "1500/1500 [==============================] - 1s 846us/step - loss: 0.3834 - accuracy: 0.8753 - val_loss: 0.4221 - val_accuracy: 0.8773\n",
      "Epoch 15/20\n",
      "1500/1500 [==============================] - 1s 911us/step - loss: 0.3737 - accuracy: 0.8787 - val_loss: 0.4212 - val_accuracy: 0.8766\n",
      "Epoch 16/20\n",
      "1500/1500 [==============================] - 1s 872us/step - loss: 0.3778 - accuracy: 0.8796 - val_loss: 0.4402 - val_accuracy: 0.8733\n",
      "Epoch 17/20\n",
      "1500/1500 [==============================] - 1s 828us/step - loss: 0.3761 - accuracy: 0.8786 - val_loss: 0.4274 - val_accuracy: 0.8727\n",
      "Epoch 18/20\n",
      "1500/1500 [==============================] - 1s 814us/step - loss: 0.3787 - accuracy: 0.8795 - val_loss: 0.4308 - val_accuracy: 0.8817\n",
      "Epoch 19/20\n",
      "1500/1500 [==============================] - 1s 826us/step - loss: 0.3741 - accuracy: 0.8813 - val_loss: 0.4494 - val_accuracy: 0.8753\n",
      "Epoch 20/20\n",
      "1500/1500 [==============================] - 1s 821us/step - loss: 0.3759 - accuracy: 0.8817 - val_loss: 0.4634 - val_accuracy: 0.8749\n"
     ]
    }
   ],
   "source": [
    "model = model_fn(keras.layers.Dropout(0.3))\n",
    "model.compile(loss='sparse_categorical_crossentropy', metrics='accuracy')\n",
    "checkpoint_cb = keras.callbacks.ModelCheckpoint(\"../Data/best-model.h5\")\n",
    "history = model.fit(train_scaled, train_target, epochs=20,\n",
    "                    validation_data = (val_scaled, val_target),\n",
    "                    callbacks = [checkpoint_cb]\n",
    "                    )"
   ]
  },
  {
   "cell_type": "code",
   "execution_count": 24,
   "metadata": {},
   "outputs": [
    {
     "name": "stdout",
     "output_type": "stream",
     "text": [
      "375/375 [==============================] - 0s 432us/step - loss: 0.4634 - accuracy: 0.8749\n"
     ]
    },
    {
     "data": {
      "text/plain": [
       "[0.4634200930595398, 0.874916672706604]"
      ]
     },
     "execution_count": 24,
     "metadata": {},
     "output_type": "execute_result"
    }
   ],
   "source": [
    "model = keras.models.load_model(\"../Data/best-model.h5\")\n",
    "model.evaluate(val_scaled,val_target)"
   ]
  },
  {
   "cell_type": "markdown",
   "metadata": {},
   "source": [
    "---\n",
    "# Early-Stopping(조기 종료)\n",
    "- callbacks처럼 끝까지 기다리는 것이 아니고 hyper parameter를 선정하여 한계값을 정해 실행한다."
   ]
  },
  {
   "cell_type": "code",
   "execution_count": 25,
   "metadata": {},
   "outputs": [
    {
     "name": "stdout",
     "output_type": "stream",
     "text": [
      "Epoch 1/20\n",
      "1500/1500 [==============================] - 2s 1ms/step - loss: 0.5915 - accuracy: 0.7928 - val_loss: 0.4280 - val_accuracy: 0.8457\n",
      "Epoch 2/20\n",
      "1500/1500 [==============================] - 1s 978us/step - loss: 0.4464 - accuracy: 0.8409 - val_loss: 0.4128 - val_accuracy: 0.8512\n",
      "Epoch 3/20\n",
      "1500/1500 [==============================] - 1s 820us/step - loss: 0.4201 - accuracy: 0.8516 - val_loss: 0.3819 - val_accuracy: 0.8665\n",
      "Epoch 4/20\n",
      "1500/1500 [==============================] - 1s 819us/step - loss: 0.4056 - accuracy: 0.8587 - val_loss: 0.3955 - val_accuracy: 0.8674\n",
      "Epoch 5/20\n",
      "1500/1500 [==============================] - 1s 824us/step - loss: 0.3990 - accuracy: 0.8623 - val_loss: 0.3774 - val_accuracy: 0.8752\n",
      "Epoch 6/20\n",
      "1500/1500 [==============================] - 1s 836us/step - loss: 0.3930 - accuracy: 0.8653 - val_loss: 0.4011 - val_accuracy: 0.8646\n",
      "Epoch 7/20\n",
      "1500/1500 [==============================] - 1s 819us/step - loss: 0.3918 - accuracy: 0.8688 - val_loss: 0.3763 - val_accuracy: 0.8742\n",
      "Epoch 8/20\n",
      "1500/1500 [==============================] - 1s 846us/step - loss: 0.3825 - accuracy: 0.8717 - val_loss: 0.4179 - val_accuracy: 0.8719\n",
      "Epoch 9/20\n",
      "1500/1500 [==============================] - 1s 850us/step - loss: 0.3893 - accuracy: 0.8701 - val_loss: 0.3978 - val_accuracy: 0.8732\n"
     ]
    }
   ],
   "source": [
    "model = model_fn(keras.layers.Dropout(0.3))\n",
    "model.compile(loss='sparse_categorical_crossentropy', metrics='accuracy')\n",
    "\n",
    "checkpoint_cb = keras.callbacks.ModelCheckpoint(\"../Data/best-model.h5\")\n",
    "early_stopping_cb = keras.callbacks.EarlyStopping(patience=2, restore_best_weights=True)\n",
    "\n",
    "history = model.fit(train_scaled, train_target, epochs=20,\n",
    "                    validation_data = (val_scaled, val_target),\n",
    "                    callbacks = [checkpoint_cb, early_stopping_cb],\n",
    "                    )"
   ]
  },
  {
   "cell_type": "code",
   "execution_count": 26,
   "metadata": {},
   "outputs": [
    {
     "data": {
      "text/plain": [
       "8"
      ]
     },
     "execution_count": 26,
     "metadata": {},
     "output_type": "execute_result"
    }
   ],
   "source": [
    "# 몇번째 epochs에서 stop 되었는가\n",
    "early_stopping_cb.stopped_epoch"
   ]
  },
  {
   "cell_type": "code",
   "execution_count": 27,
   "metadata": {},
   "outputs": [
    {
     "data": {
      "image/png": "[encoded data removed]",
      "text/plain": [
       "<Figure size 432x288 with 1 Axes>"
      ]
     },
     "metadata": {
      "needs_background": "light"
     },
     "output_type": "display_data"
    }
   ],
   "source": [
    "plt.plot(history.history['loss'])\n",
    "plt.plot(history.history['val_loss'])\n",
    "plt.xlabel('epoch')\n",
    "plt.ylabel('loss')\n",
    "plt.legend(['train','validation'])\n",
    "plt.show()"
   ]
  },
  {
   "cell_type": "code",
   "execution_count": null,
   "metadata": {},
   "outputs": [],
   "source": []
  },
  {
   "cell_type": "code",
   "execution_count": null,
   "metadata": {},
   "outputs": [],
   "source": []
  },
  {
   "cell_type": "code",
   "execution_count": null,
   "metadata": {},
   "outputs": [],
   "source": []
  },
  {
   "cell_type": "code",
   "execution_count": null,
   "metadata": {},
   "outputs": [],
   "source": []
  },
  {
   "cell_type": "code",
   "execution_count": null,
   "metadata": {},
   "outputs": [],
   "source": []
  }
 ],
 "metadata": {
  "kernelspec": {
   "display_name": "Python 3.9.13 ('tensorflow')",
   "language": "python",
   "name": "python3"
  },
  "language_info": {
   "codemirror_mode": {
    "name": "ipython",
    "version": 3
   },
   "file_extension": ".py",
   "mimetype": "text/x-python",
   "name": "python",
   "nbconvert_exporter": "python",
   "pygments_lexer": "ipython3",
   "version": "3.9.12"
  },
  "orig_nbformat": 4,
  "vscode": {
   "interpreter": {
    "hash": "dd812dac8ac7f193983fdab392279396e380ee0807f18f6dc7fe840cd918acd3"
   }
  }
 },
 "nbformat": 4,
 "nbformat_minor": 2
}
