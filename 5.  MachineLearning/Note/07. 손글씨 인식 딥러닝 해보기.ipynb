{
 "cells": [
  {
   "cell_type": "markdown",
   "metadata": {},
   "source": [
    "# Keras를 이용한 손글씨 인식 딥러닝\n",
    "- Tensorflow로 작성된 프로그램은 sklearn Library를 사용할 때보다 어렵다.\n",
    "- Keras는 머신러닝 라이브러리 테아노(Theano)와 Tensorflow를 Wrapping한 라이브러리\n"
   ]
  },
  {
   "cell_type": "code",
   "execution_count": 2,
   "metadata": {},
   "outputs": [
    {
     "name": "stdout",
     "output_type": "stream",
     "text": [
      "   0    1    2    3    4    5    6    7    8    9    ...  775  776  777  778  \\\n",
      "0    5    0    0    0    0    0    0    0    0    0  ...    0    0    0    0   \n",
      "1    0    0    0    0    0    0    0    0    0    0  ...    0    0    0    0   \n",
      "2    4    0    0    0    0    0    0    0    0    0  ...    0    0    0    0   \n",
      "3    1    0    0    0    0    0    0    0    0    0  ...    0    0    0    0   \n",
      "4    9    0    0    0    0    0    0    0    0    0  ...    0    0    0    0   \n",
      "\n",
      "   779  780  781  782  783  784  \n",
      "0    0    0    0    0    0    0  \n",
      "1    0    0    0    0    0    0  \n",
      "2    0    0    0    0    0    0  \n",
      "3    0    0    0    0    0    0  \n",
      "4    0    0    0    0    0    0  \n",
      "\n",
      "[5 rows x 785 columns]\n",
      "   0    1    2    3    4    5    6    7    8    9    ...  775  776  777  778  \\\n",
      "0    7    0    0    0    0    0    0    0    0    0  ...    0    0    0    0   \n",
      "1    2    0    0    0    0    0    0    0    0    0  ...    0    0    0    0   \n",
      "2    1    0    0    0    0    0    0    0    0    0  ...    0    0    0    0   \n",
      "3    0    0    0    0    0    0    0    0    0    0  ...    0    0    0    0   \n",
      "4    4    0    0    0    0    0    0    0    0    0  ...    0    0    0    0   \n",
      "\n",
      "   779  780  781  782  783  784  \n",
      "0    0    0    0    0    0    0  \n",
      "1    0    0    0    0    0    0  \n",
      "2    0    0    0    0    0    0  \n",
      "3    0    0    0    0    0    0  \n",
      "4    0    0    0    0    0    0  \n",
      "\n",
      "[5 rows x 785 columns]\n",
      "0      20001\n",
      "1      20001\n",
      "2      20001\n",
      "3      20001\n",
      "4      20001\n",
      "       ...  \n",
      "780    20001\n",
      "781    20001\n",
      "782    20001\n",
      "783    20001\n",
      "784    20001\n",
      "Length: 785, dtype: int64\n",
      "0      1001\n",
      "1      1001\n",
      "2      1001\n",
      "3      1001\n",
      "4      1001\n",
      "       ... \n",
      "780    1001\n",
      "781    1001\n",
      "782    1001\n",
      "783    1001\n",
      "784    1001\n",
      "Length: 785, dtype: int64\n"
     ]
    }
   ],
   "source": [
    "import pandas as pd\n",
    "train = pd.read_csv(\"../Data/train_20k.csv\",header=None)\n",
    "test = pd.read_csv(\"../Data/test_1k.csv\",header=None)\n",
    "print(train.head())\n",
    "print(test.head())\n",
    "print(train.count())\n",
    "print(test.count())"
   ]
  },
  {
   "cell_type": "markdown",
   "metadata": {},
   "source": [
    "---\n",
    "# Preprocessing(전처리)"
   ]
  },
  {
   "cell_type": "code",
   "execution_count": 5,
   "metadata": {},
   "outputs": [
    {
     "name": "stdout",
     "output_type": "stream",
     "text": [
      "0\n",
      "0\n"
     ]
    }
   ],
   "source": [
    "# null\n",
    "print(train.isnull().sum().sum())\n",
    "print(test.isnull().sum().sum())"
   ]
  },
  {
   "cell_type": "markdown",
   "metadata": {},
   "source": [
    "> null값 없음"
   ]
  },
  {
   "cell_type": "code",
   "execution_count": 13,
   "metadata": {},
   "outputs": [],
   "source": [
    "# train과 test를 Feature와 Target으로 분리하고 정규화하기\n",
    "train_label = train.iloc[:,0]\n",
    "train_data = train.iloc[:,1:]\n",
    "train_data = train_data / 255\n",
    "\n",
    "test_label = test.iloc[:,0]\n",
    "test_data = test.iloc[:,1:]\n",
    "test_data = test_data / 255"
   ]
  },
  {
   "cell_type": "code",
   "execution_count": 22,
   "metadata": {},
   "outputs": [
    {
     "name": "stdout",
     "output_type": "stream",
     "text": [
      "(20001, 784)\n",
      "(20001,)\n"
     ]
    }
   ],
   "source": [
    "print(train_data.shape)\n",
    "print(train_label.shape)"
   ]
  },
  {
   "cell_type": "markdown",
   "metadata": {},
   "source": [
    "# Deep Learning 만들기"
   ]
  },
  {
   "cell_type": "code",
   "execution_count": 15,
   "metadata": {},
   "outputs": [],
   "source": [
    "# GPU 사용 설정\n",
    "\n",
    "import os\n",
    "os.environ['TF_CPP_MIN_LOG_LEVEL'] = '3'"
   ]
  },
  {
   "cell_type": "code",
   "execution_count": 16,
   "metadata": {},
   "outputs": [],
   "source": [
    "from tensorflow import keras"
   ]
  },
  {
   "cell_type": "code",
   "execution_count": 17,
   "metadata": {},
   "outputs": [],
   "source": [
    "model = keras.Sequential()\n",
    "model.add(keras.layers.Dense(512, activation='tanh',input_shape=(784,)))\n",
    "model.add(keras.layers.Dense(10, activation='softmax'))\n"
   ]
  },
  {
   "cell_type": "code",
   "execution_count": 23,
   "metadata": {},
   "outputs": [],
   "source": [
    "model.compile(\n",
    "    optimizer = 'adam',\n",
    "    loss='sparse_categorical_crossentropy',\n",
    "    metrics = ['accuracy']\n",
    ")"
   ]
  },
  {
   "cell_type": "code",
   "execution_count": 42,
   "metadata": {},
   "outputs": [
    {
     "name": "stdout",
     "output_type": "stream",
     "text": [
      "Epoch 1/50\n",
      "626/626 [==============================] - 1s 1ms/step - loss: 7.7810e-05 - accuracy: 1.0000\n",
      "Epoch 2/50\n",
      "626/626 [==============================] - 1s 1ms/step - loss: 6.2840e-05 - accuracy: 1.0000\n",
      "Epoch 3/50\n",
      "626/626 [==============================] - 1s 1ms/step - loss: 5.0929e-05 - accuracy: 1.0000\n",
      "Epoch 4/50\n",
      "626/626 [==============================] - 1s 1ms/step - loss: 4.2001e-05 - accuracy: 1.0000\n",
      "Epoch 5/50\n",
      "626/626 [==============================] - 1s 1ms/step - loss: 3.4775e-05 - accuracy: 1.0000\n",
      "Epoch 6/50\n",
      "626/626 [==============================] - 1s 1ms/step - loss: 2.8771e-05 - accuracy: 1.0000\n",
      "Epoch 7/50\n",
      "626/626 [==============================] - 1s 1ms/step - loss: 2.3815e-05 - accuracy: 1.0000\n",
      "Epoch 8/50\n",
      "626/626 [==============================] - 1s 1ms/step - loss: 1.9737e-05 - accuracy: 1.0000\n",
      "Epoch 9/50\n",
      "626/626 [==============================] - 1s 1ms/step - loss: 1.6993e-05 - accuracy: 1.0000\n",
      "Epoch 10/50\n",
      "626/626 [==============================] - 1s 1ms/step - loss: 1.3103e-05 - accuracy: 1.0000\n",
      "Epoch 11/50\n",
      "626/626 [==============================] - 1s 1ms/step - loss: 1.0908e-05 - accuracy: 1.0000\n",
      "Epoch 12/50\n",
      "626/626 [==============================] - 1s 1ms/step - loss: 8.8122e-06 - accuracy: 1.0000\n",
      "Epoch 13/50\n",
      "626/626 [==============================] - 1s 1ms/step - loss: 6.9821e-06 - accuracy: 1.0000\n",
      "Epoch 14/50\n",
      "626/626 [==============================] - 1s 2ms/step - loss: 5.6371e-06 - accuracy: 1.0000\n",
      "Epoch 15/50\n",
      "626/626 [==============================] - 1s 1ms/step - loss: 4.5136e-06 - accuracy: 1.0000\n",
      "Epoch 16/50\n",
      "626/626 [==============================] - 1s 1ms/step - loss: 3.5980e-06 - accuracy: 1.0000\n",
      "Epoch 17/50\n",
      "626/626 [==============================] - 1s 1ms/step - loss: 2.8312e-06 - accuracy: 1.0000\n",
      "Epoch 18/50\n",
      "626/626 [==============================] - 1s 1ms/step - loss: 2.2091e-06 - accuracy: 1.0000\n",
      "Epoch 19/50\n",
      "626/626 [==============================] - 1s 1ms/step - loss: 1.8016e-06 - accuracy: 1.0000\n",
      "Epoch 20/50\n",
      "626/626 [==============================] - 1s 1ms/step - loss: 1.2912e-06 - accuracy: 1.0000\n",
      "Epoch 21/50\n",
      "626/626 [==============================] - 1s 1ms/step - loss: 9.9706e-07 - accuracy: 1.0000\n",
      "Epoch 22/50\n",
      "626/626 [==============================] - 1s 1ms/step - loss: 7.6624e-07 - accuracy: 1.0000\n",
      "Epoch 23/50\n",
      "626/626 [==============================] - 1s 1ms/step - loss: 5.8153e-07 - accuracy: 1.0000\n",
      "Epoch 24/50\n",
      "626/626 [==============================] - 1s 1ms/step - loss: 4.4806e-07 - accuracy: 1.0000\n",
      "Epoch 25/50\n",
      "626/626 [==============================] - 1s 1ms/step - loss: 4.3836e-07 - accuracy: 1.0000\n",
      "Epoch 26/50\n",
      "626/626 [==============================] - 1s 1ms/step - loss: 2.6010e-07 - accuracy: 1.0000\n",
      "Epoch 27/50\n",
      "626/626 [==============================] - 1s 1ms/step - loss: 2.0101e-07 - accuracy: 1.0000\n",
      "Epoch 28/50\n",
      "626/626 [==============================] - 1s 1ms/step - loss: 1.5705e-07 - accuracy: 1.0000\n",
      "Epoch 29/50\n",
      "626/626 [==============================] - 1s 1ms/step - loss: 1.2488e-07 - accuracy: 1.0000\n",
      "Epoch 30/50\n",
      "626/626 [==============================] - 1s 1ms/step - loss: 9.8802e-08 - accuracy: 1.0000\n",
      "Epoch 31/50\n",
      "626/626 [==============================] - 1s 1ms/step - loss: 7.9985e-08 - accuracy: 1.0000\n",
      "Epoch 32/50\n",
      "626/626 [==============================] - 1s 1ms/step - loss: 6.5872e-08 - accuracy: 1.0000\n",
      "Epoch 33/50\n",
      "626/626 [==============================] - 1s 1ms/step - loss: 5.4637e-08 - accuracy: 1.0000\n",
      "Epoch 34/50\n",
      "626/626 [==============================] - 1s 1ms/step - loss: 4.5399e-08 - accuracy: 1.0000\n",
      "Epoch 35/50\n",
      "626/626 [==============================] - 1s 1ms/step - loss: 3.8598e-08 - accuracy: 1.0000\n",
      "Epoch 36/50\n",
      "626/626 [==============================] - 1s 1ms/step - loss: 3.4134e-08 - accuracy: 1.0000\n",
      "Epoch 37/50\n",
      "626/626 [==============================] - 1s 1ms/step - loss: 2.8829e-08 - accuracy: 1.0000\n",
      "Epoch 38/50\n",
      "626/626 [==============================] - 1s 1ms/step - loss: 2.5104e-08 - accuracy: 1.0000\n",
      "Epoch 39/50\n",
      "626/626 [==============================] - 1s 1ms/step - loss: 2.2422e-08 - accuracy: 1.0000\n",
      "Epoch 40/50\n",
      "626/626 [==============================] - 1s 1ms/step - loss: 2.0098e-08 - accuracy: 1.0000\n",
      "Epoch 41/50\n",
      "626/626 [==============================] - 1s 1ms/step - loss: 1.8196e-08 - accuracy: 1.0000\n",
      "Epoch 42/50\n",
      "626/626 [==============================] - 1s 1ms/step - loss: 1.6641e-08 - accuracy: 1.0000\n",
      "Epoch 43/50\n",
      "626/626 [==============================] - 1s 1ms/step - loss: 1.5383e-08 - accuracy: 1.0000\n",
      "Epoch 44/50\n",
      "626/626 [==============================] - 1s 1ms/step - loss: 1.4167e-08 - accuracy: 1.0000\n",
      "Epoch 45/50\n",
      "626/626 [==============================] - 1s 1ms/step - loss: 1.3154e-08 - accuracy: 1.0000\n",
      "Epoch 46/50\n",
      "626/626 [==============================] - 1s 1ms/step - loss: 1.2338e-08 - accuracy: 1.0000\n",
      "Epoch 47/50\n",
      "626/626 [==============================] - 1s 1ms/step - loss: 1.1479e-08 - accuracy: 1.0000\n",
      "Epoch 48/50\n",
      "626/626 [==============================] - 1s 1ms/step - loss: 1.0716e-08 - accuracy: 1.0000\n",
      "Epoch 49/50\n",
      "626/626 [==============================] - 1s 1ms/step - loss: 1.0329e-08 - accuracy: 1.0000\n",
      "Epoch 50/50\n",
      "626/626 [==============================] - 1s 1ms/step - loss: 9.7032e-09 - accuracy: 1.0000\n"
     ]
    },
    {
     "data": {
      "text/plain": [
       "<keras.callbacks.History at 0x15593fdc0>"
      ]
     },
     "execution_count": 42,
     "metadata": {},
     "output_type": "execute_result"
    }
   ],
   "source": [
    "import numpy as np\n",
    "model.fit(\n",
    "    np.array(train_data),\n",
    "    np.array(train_label),\n",
    "    epochs=50\n",
    ")"
   ]
  },
  {
   "cell_type": "code",
   "execution_count": 41,
   "metadata": {},
   "outputs": [
    {
     "name": "stdout",
     "output_type": "stream",
     "text": [
      "32/32 [==============================] - 0s 782us/step - loss: 0.1071 - accuracy: 0.9760\n",
      "loss : 0.10706745088100433\n",
      "accuracy : 0.9760239720344543\n"
     ]
    }
   ],
   "source": [
    "# 테스트 데이터로 평가하기\n",
    "score = model.evaluate(test_data,test_label)\n",
    "print('loss :',score[0])\n",
    "print('accuracy :',score[1]) "
   ]
  },
  {
   "cell_type": "markdown",
   "metadata": {},
   "source": [
    "---\n",
    "# 번외 : Image 만들기"
   ]
  },
  {
   "cell_type": "code",
   "execution_count": 43,
   "metadata": {},
   "outputs": [],
   "source": [
    "from PIL import Image"
   ]
  },
  {
   "cell_type": "code",
   "execution_count": 44,
   "metadata": {},
   "outputs": [
    {
     "data": {
      "text/plain": [
       "(20001, 784)"
      ]
     },
     "execution_count": 44,
     "metadata": {},
     "output_type": "execute_result"
    }
   ],
   "source": [
    "# 0번의 정답을 제외한 데이터 만들기\n",
    "train1 = train.loc[:,train.columns!=0]\n",
    "train1.shape"
   ]
  },
  {
   "cell_type": "code",
   "execution_count": 45,
   "metadata": {},
   "outputs": [
    {
     "data": {
      "text/plain": [
       "(28, 28)"
      ]
     },
     "execution_count": 45,
     "metadata": {},
     "output_type": "execute_result"
    }
   ],
   "source": [
    "# train_data의 50번의 크기 조절하기\n",
    "abc = np.array(train1.iloc[50]).reshape(28,28)\n",
    "abc.shape"
   ]
  },
  {
   "cell_type": "code",
   "execution_count": 46,
   "metadata": {},
   "outputs": [
    {
     "data": {
      "image/png": "[encoded data removed]",
      "text/plain": [
       "<PIL.Image.Image image mode=L size=28x28>"
      ]
     },
     "execution_count": 46,
     "metadata": {},
     "output_type": "execute_result"
    }
   ],
   "source": [
    "# Image 만들기\n",
    "image = Image.fromarray((abc).astype(np.uint8))\n",
    "image"
   ]
  },
  {
   "cell_type": "code",
   "execution_count": 47,
   "metadata": {},
   "outputs": [],
   "source": [
    "# image 저장하기\n",
    "image.save(\"../Data/mnist_test3.jpg\",\"JPEG\")"
   ]
  },
  {
   "cell_type": "code",
   "execution_count": 49,
   "metadata": {},
   "outputs": [
    {
     "data": {
      "image/png": "[encoded data removed]",
      "text/plain": [
       "<Figure size 432x288 with 1 Axes>"
      ]
     },
     "metadata": {
      "needs_background": "light"
     },
     "output_type": "display_data"
    }
   ],
   "source": [
    "import matplotlib.pyplot as plt\n",
    "plt.imshow(image)\n",
    "plt.show()"
   ]
  },
  {
   "cell_type": "code",
   "execution_count": 53,
   "metadata": {},
   "outputs": [
    {
     "data": {
      "text/plain": [
       "(784,)"
      ]
     },
     "execution_count": 53,
     "metadata": {},
     "output_type": "execute_result"
    }
   ],
   "source": [
    "# image를 numpy 배열로 변환\n",
    "imgArray = np.array(image)\n",
    "imgArray = imgArray / 255\n",
    "\n",
    "# 2차원인 배열을 1차원으로 변환\n",
    "imgArray2 = imgArray.reshape(-1)\n",
    "imgArray2.shape"
   ]
  },
  {
   "cell_type": "code",
   "execution_count": 54,
   "metadata": {},
   "outputs": [],
   "source": [
    "imgArray3 = imgArray2.tolist()"
   ]
  },
  {
   "cell_type": "code",
   "execution_count": 57,
   "metadata": {},
   "outputs": [
    {
     "data": {
      "text/html": [
       "<div>\n",
       "<style scoped>\n",
       "    .dataframe tbody tr th:only-of-type {\n",
       "        vertical-align: middle;\n",
       "    }\n",
       "\n",
       "    .dataframe tbody tr th {\n",
       "        vertical-align: top;\n",
       "    }\n",
       "\n",
       "    .dataframe thead th {\n",
       "        text-align: right;\n",
       "    }\n",
       "</style>\n",
       "<table border=\"1\" class=\"dataframe\">\n",
       "  <thead>\n",
       "    <tr style=\"text-align: right;\">\n",
       "      <th></th>\n",
       "      <th>0</th>\n",
       "      <th>1</th>\n",
       "      <th>2</th>\n",
       "      <th>3</th>\n",
       "      <th>4</th>\n",
       "      <th>5</th>\n",
       "      <th>6</th>\n",
       "      <th>7</th>\n",
       "      <th>8</th>\n",
       "      <th>9</th>\n",
       "      <th>...</th>\n",
       "      <th>774</th>\n",
       "      <th>775</th>\n",
       "      <th>776</th>\n",
       "      <th>777</th>\n",
       "      <th>778</th>\n",
       "      <th>779</th>\n",
       "      <th>780</th>\n",
       "      <th>781</th>\n",
       "      <th>782</th>\n",
       "      <th>783</th>\n",
       "    </tr>\n",
       "  </thead>\n",
       "  <tbody>\n",
       "    <tr>\n",
       "      <th>0</th>\n",
       "      <td>0.0</td>\n",
       "      <td>0.0</td>\n",
       "      <td>0.0</td>\n",
       "      <td>0.0</td>\n",
       "      <td>0.0</td>\n",
       "      <td>0.0</td>\n",
       "      <td>0.0</td>\n",
       "      <td>0.0</td>\n",
       "      <td>0.0</td>\n",
       "      <td>0.0</td>\n",
       "      <td>...</td>\n",
       "      <td>0.0</td>\n",
       "      <td>0.0</td>\n",
       "      <td>0.0</td>\n",
       "      <td>0.0</td>\n",
       "      <td>0.0</td>\n",
       "      <td>0.0</td>\n",
       "      <td>0.0</td>\n",
       "      <td>0.0</td>\n",
       "      <td>0.0</td>\n",
       "      <td>0.0</td>\n",
       "    </tr>\n",
       "  </tbody>\n",
       "</table>\n",
       "<p>1 rows × 784 columns</p>\n",
       "</div>"
      ],
      "text/plain": [
       "   0    1    2    3    4    5    6    7    8    9    ...  774  775  776  777  \\\n",
       "0  0.0  0.0  0.0  0.0  0.0  0.0  0.0  0.0  0.0  0.0  ...  0.0  0.0  0.0  0.0   \n",
       "\n",
       "   778  779  780  781  782  783  \n",
       "0  0.0  0.0  0.0  0.0  0.0  0.0  \n",
       "\n",
       "[1 rows x 784 columns]"
      ]
     },
     "execution_count": 57,
     "metadata": {},
     "output_type": "execute_result"
    }
   ],
   "source": [
    "dfArray = pd.DataFrame(imgArray3).T\n",
    "dfArray"
   ]
  },
  {
   "cell_type": "code",
   "execution_count": 58,
   "metadata": {},
   "outputs": [
    {
     "name": "stdout",
     "output_type": "stream",
     "text": [
      "1/1 [==============================] - 0s 60ms/step\n",
      "예측값 : [3]\n"
     ]
    }
   ],
   "source": [
    "print(\"예측값 :\",np.argmax(model.predict(dfArray),axis=1))"
   ]
  },
  {
   "cell_type": "code",
   "execution_count": null,
   "metadata": {},
   "outputs": [],
   "source": []
  }
 ],
 "metadata": {
  "kernelspec": {
   "display_name": "Python 3.9.13 ('tensorflow')",
   "language": "python",
   "name": "python3"
  },
  "language_info": {
   "codemirror_mode": {
    "name": "ipython",
    "version": 3
   },
   "file_extension": ".py",
   "mimetype": "text/x-python",
   "name": "python",
   "nbconvert_exporter": "python",
   "pygments_lexer": "ipython3",
   "version": "3.9.12"
  },
  "orig_nbformat": 4,
  "vscode": {
   "interpreter": {
    "hash": "dd812dac8ac7f193983fdab392279396e380ee0807f18f6dc7fe840cd918acd3"
   }
  }
 },
 "nbformat": 4,
 "nbformat_minor": 2
}
