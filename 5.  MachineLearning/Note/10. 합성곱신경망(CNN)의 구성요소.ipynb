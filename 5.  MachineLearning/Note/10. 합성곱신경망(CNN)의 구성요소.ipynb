{
 "cells": [
  {
   "cell_type": "markdown",
   "metadata": {},
   "source": [
    "### CNN(Convolution Neural Network)에서 본 심층신경망(다층 퍼셉트론)의 단점\n",
    "- 입력값으로 고유 이미지 생김새 정보를 알 수 없다.\n",
    "- 2차원 배열 자료를 1차원으로 변경하여 작업이 시작된다.\n",
    "- 심층신경망은 픽셀 하나 하나의 변화에 상당히 민감하다.\n",
    "- 이미지 생김새를 사용할 수 없으므로 한두개의 픽셀이 모델 예측에 영향을 끼친다\n",
    "- 픽셀 한두개의 정보에도 민감하게 반응하기 위해 상당히 많은 변수를 모델 안에 가지고 있다."
   ]
  },
  {
   "cell_type": "markdown",
   "metadata": {},
   "source": [
    "### 합성곱 신경망(CNN)의 구성 요소\n",
    "- 밀집층\n",
    "- 1차원 합성곱    \n",
    ":  합성곱 신경망은 노드의 가중치 갯수가 전체 갯수가 아니고 정하여 사용함(3,5개 : 가중치가 3개 혹은 5개)    \n",
    "    입력층을 아래로 한칸 이동하여 위에서 계산한 동일한 가중치와 절편을 사용한다.    \n",
    "    밀집층 보다 가중치의 갯수가 훨씬 작음.    \n",
    "    ex] 10개의 입력이 있으면 출력은 8개만 만들어짐\n",
    "    3개씩 있는 것을 필터라고 하며 핉터의 커널은 3이다.\n",
    "\n",
    "- 2차원 합성곱\n",
    ":\n",
    "\n",
    "\n"
   ]
  },
  {
   "cell_type": "code",
   "execution_count": null,
   "metadata": {},
   "outputs": [],
   "source": []
  }
 ],
 "metadata": {
  "kernelspec": {
   "display_name": "Python 3.9.13 ('tensorflow')",
   "language": "python",
   "name": "python3"
  },
  "language_info": {
   "codemirror_mode": {
    "name": "ipython",
    "version": 3
   },
   "file_extension": ".py",
   "mimetype": "text/x-python",
   "name": "python",
   "nbconvert_exporter": "python",
   "pygments_lexer": "ipython3",
   "version": "3.9.12"
  },
  "orig_nbformat": 4,
  "vscode": {
   "interpreter": {
    "hash": "dd812dac8ac7f193983fdab392279396e380ee0807f18f6dc7fe840cd918acd3"
   }
  }
 },
 "nbformat": 4,
 "nbformat_minor": 2
}
