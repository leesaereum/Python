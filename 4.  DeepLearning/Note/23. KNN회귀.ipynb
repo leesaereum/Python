{
 "cells": [
  {
   "cell_type": "markdown",
   "metadata": {},
   "source": [
    "#### 생선의 길이를 사용하여 무게를 예측"
   ]
  },
  {
   "cell_type": "code",
   "execution_count": 1,
   "metadata": {},
   "outputs": [],
   "source": [
    "import numpy as np\n"
   ]
  },
  {
   "cell_type": "code",
   "execution_count": 2,
   "metadata": {},
   "outputs": [],
   "source": [
    "fish_length = np.array(\n",
    "    [8.4, 13.7, 15.0, 16.2, 17.4, 18.0, 18.7, 19.0, 19.6, 20.0, \n",
    "     21.0, 21.0, 21.0, 21.3, 22.0, 22.0, 22.0, 22.0, 22.0, 22.5, \n",
    "     22.5, 22.7, 23.0, 23.5, 24.0, 24.0, 24.6, 25.0, 25.6, 26.5, \n",
    "     27.3, 27.5, 27.5, 27.5, 28.0, 28.7, 30.0, 32.8, 34.5, 35.0, \n",
    "     36.5, 36.0, 37.0, 37.0, 39.0, 39.0, 39.0, 40.0, 40.0, 40.0, \n",
    "     40.0, 42.0, 43.0, 43.0, 43.5, 44.0]\n",
    "     )\n",
    "fish_weight = np.array(\n",
    "    [5.9, 32.0, 40.0, 51.5, 70.0, 100.0, 78.0, 80.0, 85.0, 85.0, \n",
    "     110.0, 115.0, 125.0, 130.0, 120.0, 120.0, 130.0, 135.0, 110.0, \n",
    "     130.0, 150.0, 145.0, 150.0, 170.0, 225.0, 145.0, 188.0, 180.0, \n",
    "     197.0, 218.0, 300.0, 260.0, 265.0, 250.0, 250.0, 300.0, 320.0, \n",
    "     514.0, 556.0, 840.0, 685.0, 700.0, 700.0, 690.0, 900.0, 650.0, \n",
    "     820.0, 850.0, 900.0, 1015.0, 820.0, 1100.0, 1000.0, 1100.0, \n",
    "     1000.0, 1000.0]\n",
    "     )"
   ]
  },
  {
   "cell_type": "markdown",
   "metadata": {},
   "source": [
    "### 길이과 무게를 산포도로 표현"
   ]
  },
  {
   "cell_type": "code",
   "execution_count": 3,
   "metadata": {},
   "outputs": [],
   "source": [
    "import matplotlib.pyplot as plt"
   ]
  },
  {
   "cell_type": "code",
   "execution_count": 29,
   "metadata": {},
   "outputs": [
    {
     "data": {
      "image/png": "[encoded data removed]",
      "text/plain": [
       "<Figure size 720x360 with 1 Axes>"
      ]
     },
     "metadata": {
      "needs_background": "light"
     },
     "output_type": "display_data"
    }
   ],
   "source": [
    "plt.figure(figsize=(10,5))\n",
    "plt.scatter(\n",
    "    fish_length, # featuer\n",
    "    fish_weight # target\n",
    ")\n",
    "\n",
    "plt.xlabel('Lenght')\n",
    "plt.ylabel('Weight')\n",
    "plt.show()"
   ]
  },
  {
   "cell_type": "markdown",
   "metadata": {},
   "source": [
    "# Train Set, Test Set의 분리 "
   ]
  },
  {
   "cell_type": "code",
   "execution_count": 5,
   "metadata": {},
   "outputs": [],
   "source": [
    "from sklearn.model_selection import train_test_split"
   ]
  },
  {
   "cell_type": "code",
   "execution_count": 6,
   "metadata": {},
   "outputs": [],
   "source": [
    "train_input,test_input,train_target,test_target = \\\n",
    "    train_test_split(fish_length,fish_weight,random_state=42)"
   ]
  },
  {
   "cell_type": "markdown",
   "metadata": {},
   "source": [
    "> KNN 분류에서 사용되었던 stratify는 분류 문제가 아니므로 사용하지 않는다."
   ]
  },
  {
   "cell_type": "code",
   "execution_count": 7,
   "metadata": {},
   "outputs": [
    {
     "name": "stdout",
     "output_type": "stream",
     "text": [
      "(42,) (14,)\n"
     ]
    }
   ],
   "source": [
    "# 분리된 결과 확인\n",
    "print(train_input.shape, test_input.shape)"
   ]
  },
  {
   "cell_type": "code",
   "execution_count": 8,
   "metadata": {},
   "outputs": [
    {
     "name": "stdout",
     "output_type": "stream",
     "text": [
      "(42, 1) (14, 1)\n"
     ]
    }
   ],
   "source": [
    "# 1열로 구성된 배열로 재구성\n",
    "train_input = train_input.reshape(-1,1)\n",
    "test_input = test_input.reshape(-1,1)\n",
    "print(train_input.shape, test_input.shape)"
   ]
  },
  {
   "cell_type": "markdown",
   "metadata": {},
   "source": [
    "### 회귀모델 사용"
   ]
  },
  {
   "cell_type": "code",
   "execution_count": 15,
   "metadata": {},
   "outputs": [],
   "source": [
    "from sklearn.neighbors import KNeighborsRegressor"
   ]
  },
  {
   "cell_type": "code",
   "execution_count": 16,
   "metadata": {},
   "outputs": [
    {
     "data": {
      "text/plain": [
       "KNeighborsRegressor()"
      ]
     },
     "execution_count": 16,
     "metadata": {},
     "output_type": "execute_result"
    }
   ],
   "source": [
    "knr = KNeighborsRegressor()\n",
    "knr.fit(train_input,train_target)"
   ]
  },
  {
   "cell_type": "code",
   "execution_count": 17,
   "metadata": {},
   "outputs": [
    {
     "data": {
      "text/plain": [
       "0.992809406101064"
      ]
     },
     "execution_count": 17,
     "metadata": {},
     "output_type": "execute_result"
    }
   ],
   "source": [
    "knr.score(test_input,test_target)"
   ]
  },
  {
   "cell_type": "markdown",
   "metadata": {},
   "source": [
    "### 회귀모델은 분류모델처럼 예측값과 정답값을 비교할 수 없음\n",
    "y값의 예측값에 수렴한다는 뜻이지 같다는것은 아님.\n",
    "### 결정계수($R^2$) : 평균 절대값 오차\n",
    "$R^2 = 1 - (타켓-예측)^2 의 합 \\div (타켓-평균)^2 의 합$"
   ]
  },
  {
   "cell_type": "code",
   "execution_count": 19,
   "metadata": {},
   "outputs": [],
   "source": [
    "from sklearn.metrics import mean_absolute_error"
   ]
  },
  {
   "cell_type": "code",
   "execution_count": 22,
   "metadata": {},
   "outputs": [
    {
     "name": "stdout",
     "output_type": "stream",
     "text": [
      "19.157142857142862\n"
     ]
    }
   ],
   "source": [
    "# 테스트 세트에 대한 예측을 만듦\n",
    "test_prediction = knr.predict(test_input)\n",
    "\n",
    "# 테스트 세트에 대한 평균 절대값 오차를 계산\n",
    "means = mean_absolute_error(test_target, test_prediction)\n",
    "print(means)"
   ]
  },
  {
   "cell_type": "markdown",
   "metadata": {},
   "source": [
    "### 과대적합(Overfitting)과 과소적합(Underfitting)"
   ]
  },
  {
   "cell_type": "code",
   "execution_count": 26,
   "metadata": {},
   "outputs": [
    {
     "data": {
      "text/plain": [
       "0.9698823289099254"
      ]
     },
     "execution_count": 26,
     "metadata": {},
     "output_type": "execute_result"
    }
   ],
   "source": [
    "# train data로 score 측정\n",
    "knr.score(train_input,train_target)"
   ]
  },
  {
   "cell_type": "code",
   "execution_count": 27,
   "metadata": {},
   "outputs": [
    {
     "data": {
      "text/plain": [
       "0.992809406101064"
      ]
     },
     "execution_count": 27,
     "metadata": {},
     "output_type": "execute_result"
    }
   ],
   "source": [
    "# test data로 score 측정\n",
    "knr.score(test_input,test_target)"
   ]
  },
  {
   "cell_type": "markdown",
   "metadata": {},
   "source": [
    "> train보다 test의 정확도가 더 높게 나옴 -> 과소적합    \n",
    "> 훈련이 잘못됨    \n",
    "> 보통은 train 점수가 test의 점수보다 조금 더 잘나온 과대적합 기준으로 한다."
   ]
  },
  {
   "cell_type": "markdown",
   "metadata": {},
   "source": [
    "### knn의 Hyper Parameter를 조절"
   ]
  },
  {
   "cell_type": "code",
   "execution_count": 31,
   "metadata": {},
   "outputs": [
    {
     "name": "stdout",
     "output_type": "stream",
     "text": [
      "train score 0.9804899950518966\n",
      "test score 0.9746459963987609\n"
     ]
    }
   ],
   "source": [
    "# 이웃의 갯수가 default는 5, 이웃의 갯수를 3으로 설정한다.\n",
    "# 과소적합을 과대적합으로 만들려고 이웃의 갯수를 줄임\n",
    "knr.n_neighbors = 3\n",
    "\n",
    "# 모델 훈련\n",
    "knr.fit(train_input,train_target)\n",
    "print(\"train score\",knr.score(train_input,train_target))\n",
    "print(\"test score\",knr.score(test_input,test_target))"
   ]
  },
  {
   "cell_type": "code",
   "execution_count": 34,
   "metadata": {},
   "outputs": [
    {
     "name": "stdout",
     "output_type": "stream",
     "text": [
      "train score 0.9515761381539326\n",
      "test score 0.970279643030474\n"
     ]
    }
   ],
   "source": [
    "# 이웃의 갯수가 default는 5, 이웃의 갯수를 11으로 설정한다.\n",
    "knr.n_neighbors = 11\n",
    "\n",
    "# 모델 훈련\n",
    "knr.fit(train_input,train_target)\n",
    "print(\"train score\",knr.score(train_input,train_target))\n",
    "print(\"test score\",knr.score(test_input,test_target))"
   ]
  },
  {
   "cell_type": "markdown",
   "metadata": {},
   "source": [
    "---\n",
    "# 이웃의 갯수 조절로 확인"
   ]
  },
  {
   "cell_type": "code",
   "execution_count": 39,
   "metadata": {},
   "outputs": [
    {
     "name": "stdout",
     "output_type": "stream",
     "text": [
      "K ====> 1\n",
      "Train : 0.9852830341215901\n",
      "Test : 0.991309195814175\n"
     ]
    },
    {
     "data": {
      "image/png": "[encoded data removed]",
      "text/plain": [
       "<Figure size 720x360 with 1 Axes>"
      ]
     },
     "metadata": {
      "needs_background": "light"
     },
     "output_type": "display_data"
    },
    {
     "name": "stdout",
     "output_type": "stream",
     "text": [
      "K ====> 3\n",
      "Train : 0.9804899950518966\n",
      "Test : 0.9746459963987609\n"
     ]
    },
    {
     "data": {
      "image/png": "[encoded data removed]",
      "text/plain": [
       "<Figure size 720x360 with 1 Axes>"
      ]
     },
     "metadata": {
      "needs_background": "light"
     },
     "output_type": "display_data"
    },
    {
     "name": "stdout",
     "output_type": "stream",
     "text": [
      "K ====> 5\n",
      "Train : 0.9698823289099254\n",
      "Test : 0.992809406101064\n"
     ]
    },
    {
     "data": {
      "image/png": "[encoded data removed]",
      "text/plain": [
       "<Figure size 720x360 with 1 Axes>"
      ]
     },
     "metadata": {
      "needs_background": "light"
     },
     "output_type": "display_data"
    },
    {
     "name": "stdout",
     "output_type": "stream",
     "text": [
      "K ====> 10\n",
      "Train : 0.96164569026043\n",
      "Test : 0.9737908255822255\n"
     ]
    },
    {
     "data": {
      "image/png": "[encoded data removed]",
      "text/plain": [
       "<Figure size 720x360 with 1 Axes>"
      ]
     },
     "metadata": {
      "needs_background": "light"
     },
     "output_type": "display_data"
    }
   ],
   "source": [
    "knr = KNeighborsRegressor()\n",
    "\n",
    "# 5에서 45까지 x좌표를 만듦\n",
    "x = np.arange(5, 45).reshape(-1,1)\n",
    "\n",
    "# n = 1, 3, 5, 10 일때 예측 결과를 그래프로 그린다\n",
    "for n in [1,3,5,10]:\n",
    "    # 모델 훈력\n",
    "    knr.n_neighbors = n\n",
    "    knr.fit(train_input,train_target)\n",
    "    print(\"K ====>\",n)\n",
    "    print(\"Train :\",knr.score(train_input,train_target))\n",
    "    print(\"Test :\",knr.score(test_input,test_target))\n",
    "\n",
    "    # 지정한 범위 x에 대한 예측 구하기 \n",
    "    prediction = knr.predict(x)\n",
    "\n",
    "    # 훈련 세트와 검증 세트의 예측결과 그래프 그리기\n",
    "    plt.figure(figsize=(10,5))\n",
    "    plt.scatter(train_input,train_target)\n",
    "    plt.scatter(test_input,test_target)\n",
    "    plt.plot(x,prediction)\n",
    "    plt.title(\"n_neighots = %d\"%n)\n",
    "    plt.xlabel('length')\n",
    "    plt.ylabel('weight')\n",
    "    plt.show()"
   ]
  },
  {
   "cell_type": "markdown",
   "metadata": {},
   "source": [
    "> 일반화 성능이 잘되어있어야 쓸 수 있다.   \n",
    "지금은 n_neighors = 3 인 경우가 잘 되어있다!!!"
   ]
  }
 ],
 "metadata": {
  "kernelspec": {
   "display_name": "Python 3.9.7 ('base')",
   "language": "python",
   "name": "python3"
  },
  "language_info": {
   "codemirror_mode": {
    "name": "ipython",
    "version": 3
   },
   "file_extension": ".py",
   "mimetype": "text/x-python",
   "name": "python",
   "nbconvert_exporter": "python",
   "pygments_lexer": "ipython3",
   "version": "3.9.7"
  },
  "orig_nbformat": 4,
  "vscode": {
   "interpreter": {
    "hash": "f3b43e4bd4bbcc86dd5566c7a363c0ccf178284afe72937e9ac3cb2743b4c23c"
   }
  }
 },
 "nbformat": 4,
 "nbformat_minor": 2
}
