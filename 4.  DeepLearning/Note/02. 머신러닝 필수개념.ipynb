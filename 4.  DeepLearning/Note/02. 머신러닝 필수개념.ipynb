{
 "cells": [
  {
   "cell_type": "markdown",
   "metadata": {},
   "source": [
    "# 지도학습과 비지도학습\n",
    "- 학습 : 데이터를 특별한 알고리즘에 적용해 머신러닝 모델을 정의된 문제에 최적화 과정을 의미\n",
    "\n",
    "### 지도 학습(Supervised Learning)\n",
    "- 정답을 알려주면서 진행되는 학습\n",
    "- 정답, 실제값, 레이블, 타깃, 클래스, y값 : 동일한 의미\n",
    "- 머신러닝 모델을 통해 예측된 값을 예측값, 분류값, Y^(hat) 등으로 표현\n",
    "- 지도학습의 예로는 분류(Classification)와 회귀(regression)이 대표적\n",
    "\n",
    "### 비지도 학습(Unsupervised Learning)\n",
    "- 정답(레이블)이 없이 진행되는 학습\n",
    "- 데이터 자체에서 패턴을 찾아내야할 때 사용\n",
    "- 예로는 군집화와 차원축소가 대표적\n"
   ]
  },
  {
   "cell_type": "markdown",
   "metadata": {},
   "source": [
    "---\n",
    "# 분류와 회귀\n",
    "- 분류와 회귀의 큰 차이점은 데이터가 입력되었을때 분류는 분리된 값(객관식)으로 예측, 회귀는 연속된 값(범주, 주관식)으로 예측하다.\n",
    "\n",
    "### 분류(Classification)\n",
    "- 분류는 데이터가 입력되었을때 지도학습을 통해 미리 학습된 레이블 중 하나 또는 여러개의 레이블(정답)로 예측하는 것\n",
    "\n",
    "##### 이진분류\n",
    "- 둘 중 하나의 값으로 분류하는 경우 (sigmoid)\n",
    "\n",
    "##### 다중분류\n",
    "- 여러개의 분류값 중에서 하나이 값으로 예측하는 경우 (softmax)\n"
   ]
  },
  {
   "cell_type": "markdown",
   "metadata": {},
   "source": [
    "---\n",
    "# 과대적합(overfitting)과 과소적합(underfitting)\n",
    "- 데이터에서 충분히 특징을 찾아내지 못하고 머신러닝 모델 학습을 할 경우 모델이 과소접합이 되기 쉽고\n",
    "- 필요 이상의 특징으로 학습할 경우 모델이 과대적합이 되기 쉽다.\n",
    "\n",
    "### 과소적합 \n",
    "- 보통 테스트 데이터 뿐만 아니라 학습 데이터에 대해서도 정확도가 낮게  나올 경우 과속적합된 모델일 가능성이 높음 \n",
    "\n",
    "### 과대 적합 \n",
    "- 학습 데이터외의 데이터에는 정확도가 낮게 나오는 모델\n",
    "- 데이터의 특징들의 수치값을 정규화함으로써 특정 특징에 의한 편항(bias)을 줄이는 것도 과대적합을 피하는 좋은 방법이다.\n",
    "- 딥러닝 같은 경우 조기종료(early stopping), 드롭 아웃(drop out)을 사용해 과대적합을 피할 수 있다.\n"
   ]
  },
  {
   "cell_type": "markdown",
   "metadata": {},
   "source": [
    "---\n",
    "# 혼돈행렬(confusion matrix)\n",
    "- 모델의 성능을 평가할 때 사용되는 지표\n",
    "- 실제값과 예측값을 비교하여 실제값에 예측값이 어느정도 일치되었는지를 파악\n",
    "- 모델의 성능은 이 혼동행렬을 기반으로 단 하나의 수치로 표현 가능하다."
   ]
  },
  {
   "cell_type": "markdown",
   "metadata": {},
   "source": [
    "# 머신러닝 모델의 성능 평가\n",
    "- TP(True Positive) : 맞는것을 올바르게 예측한것\n",
    "- TN(True Negative) : 틀린것을 올바르게 예측한것\n",
    "- FP(False Positive) : 틀린것을 맞다고 잘못 예측한것\n",
    "- FN(False Negative) : 맞는것을 틀렸다고 잘못 예측한것\n",
    "### 정확도(Accuracy) \n",
    "- 가장 일반적인 모델 성능 평가 지표\n",
    "- 혼돈행렬상에서는 TP를 전체 셀로 나눈 값에 해당\n"
   ]
  },
  {
   "cell_type": "markdown",
   "metadata": {},
   "source": [
    "![](../Image/%EB%A8%B8%EC%8B%A0%EB%9F%AC%EB%8B%9D%20%EC%B2%AB%EA%B1%B8%EC%9D%8C(2).png)"
   ]
  },
  {
   "cell_type": "code",
   "execution_count": 11,
   "metadata": {},
   "outputs": [
    {
     "name": "stdout",
     "output_type": "stream",
     "text": [
      "78.75 %\n"
     ]
    }
   ],
   "source": [
    "ovr = [[9,1,0,0],[1,15,3,1],[5,0,24,1],[0,4,1,15]]\n",
    "sum = 0\n",
    "tp = 0\n",
    "num1 = 1\n",
    "for i in ovr:\n",
    "    num2 = 0\n",
    "    for j in i:\n",
    "       num2 +=1 \n",
    "       sum +=j\n",
    "       if num2==num1:\n",
    "        tp+=j\n",
    "    num1 += 1\n",
    "\n",
    "print(tp/sum*100,\"%\") "
   ]
  },
  {
   "cell_type": "markdown",
   "metadata": {},
   "source": [
    "---\n",
    "# 정밀도(Precision)\n",
    "- 각 모델들의 예측값이 얼마나 정확하게 얘측 됐는가를 나타내는 지표"
   ]
  },
  {
   "cell_type": "code",
   "execution_count": 13,
   "metadata": {},
   "outputs": [
    {
     "name": "stdout",
     "output_type": "stream",
     "text": [
      "A Model 정확도 : 69.0 %\n",
      "B Model 정확도 : 71.0 %\n"
     ]
    }
   ],
   "source": [
    "# 2가지 모델의 정확도\n",
    "ovr = [[9,1],[30,60]]\n",
    "sum = 0\n",
    "tp = 0\n",
    "num1 = 1\n",
    "for i in ovr:\n",
    "    num2 = 0\n",
    "    for j in i:\n",
    "       num2 +=1 \n",
    "       sum +=j\n",
    "       if num2==num1:\n",
    "        tp+=j\n",
    "    num1 += 1\n",
    "\n",
    "print(\"A Model 정확도 :\",tp/sum*100,\"%\") \n",
    "\n",
    "ovr = [[1,9],[20,70]]\n",
    "sum = 0\n",
    "tp = 0\n",
    "num1 = 1\n",
    "for i in ovr:\n",
    "    num2 = 0\n",
    "    for j in i:\n",
    "       num2 +=1 \n",
    "       sum +=j\n",
    "       if num2==num1:\n",
    "        tp+=j\n",
    "    num1 += 1\n",
    "\n",
    "print(\"B Model 정확도 :\",tp/sum*100,\"%\") "
   ]
  },
  {
   "cell_type": "code",
   "execution_count": 49,
   "metadata": {},
   "outputs": [
    {
     "name": "stdout",
     "output_type": "stream",
     "text": [
      "A Model의 암환자 정밀도 : 0.23076923076923078\n",
      "A Model의 암환자 정밀도 : 0.047619047619047616\n"
     ]
    }
   ],
   "source": [
    "### 2가지 모델의 암환자 정밀도 : TP / (TP+FP)\n",
    "print(\"A Model의 암환자 정밀도 :\",9/39)\n",
    "print(\"A Model의 암환자 정밀도 :\",1/21)"
   ]
  },
  {
   "cell_type": "markdown",
   "metadata": {},
   "source": [
    "> 암확자의 예측력의 정밀도는 A모델이 더 우수하다.    \n",
    "> 정밀도는 1과 가까울수록 높다고 봄"
   ]
  },
  {
   "cell_type": "markdown",
   "metadata": {},
   "source": [
    "# 재현율(Recall)\n",
    "- 실제값 중에서 모델이 검출한 실제값의 비율을 나타내는 지표\n",
    "- 재현율 = TP/(TP+FN)"
   ]
  },
  {
   "cell_type": "code",
   "execution_count": 27,
   "metadata": {},
   "outputs": [
    {
     "name": "stdout",
     "output_type": "stream",
     "text": [
      "A Model의 암환자 재현율 : 0.9\n",
      "B Model의 암환자 재현율 : 0.1\n"
     ]
    }
   ],
   "source": [
    "\n",
    "print(\"A Model의 암환자 재현율 :\",9/10)\n",
    "print(\"B Model의 암환자 재현율 :\",1/10)"
   ]
  },
  {
   "cell_type": "markdown",
   "metadata": {},
   "source": [
    "> 암확자의 재현율은 A모델이 더 우수하다.    \n",
    "> 정밀도는 1과 가까울수록 높다고 봄"
   ]
  },
  {
   "cell_type": "markdown",
   "metadata": {},
   "source": [
    "# F1점수(F1 Score)\n",
    "- 정밀도도 중요하고 재현율도 중요한데 어떤것을 선택할지 혼돈시 이 두값의 조화 평균내서 수치로 나타낸 지표를 F1 Score라고 한다.\n",
    "- 조화평균 2 * a * b / (a + b)\n",
    "- F1점수 = 2 * 재현율 * 정밀도 / (재현율 + 정밀도)"
   ]
  },
  {
   "cell_type": "code",
   "execution_count": 40,
   "metadata": {},
   "outputs": [
    {
     "data": {
      "text/plain": [
       "0.3673469387755102"
      ]
     },
     "execution_count": 40,
     "metadata": {},
     "output_type": "execute_result"
    }
   ],
   "source": [
    "# A Model \n",
    "2 * 0.9 * (9/39) / (0.9 + 9/39)"
   ]
  },
  {
   "cell_type": "code",
   "execution_count": 41,
   "metadata": {},
   "outputs": [
    {
     "data": {
      "text/plain": [
       "0.06451612903225806"
      ]
     },
     "execution_count": 41,
     "metadata": {},
     "output_type": "execute_result"
    }
   ],
   "source": [
    "# B Model \n",
    "2 * 0.1 * (1/21) / (0.1 + 1/21)"
   ]
  },
  {
   "cell_type": "markdown",
   "metadata": {},
   "source": [
    "---\n",
    "### k-폴드 교차 검증(k-fold cross validation)\n",
    "- 모든 학습 데이터를 한번씩 검증 데이터로 활용해 검증 데이터가 한쪽 데이터에 편향되어 있지 않아 검증데이터를 분리하지 않고도 학습 데이터에 대한 전반적인 검증 정확도를 구할 수 있음"
   ]
  },
  {
   "cell_type": "markdown",
   "metadata": {},
   "source": [
    "![](../Image/%EB%A8%B8%EC%8B%A0%EB%9F%AC%EB%8B%9D%20%EC%B2%AB%EA%B1%B8%EC%9D%8C(3).png)"
   ]
  }
 ],
 "metadata": {
  "kernelspec": {
   "display_name": "Python 3.9.7 ('base')",
   "language": "python",
   "name": "python3"
  },
  "language_info": {
   "codemirror_mode": {
    "name": "ipython",
    "version": 3
   },
   "file_extension": ".py",
   "mimetype": "text/x-python",
   "name": "python",
   "nbconvert_exporter": "python",
   "pygments_lexer": "ipython3",
   "version": "3.9.7"
  },
  "orig_nbformat": 4,
  "vscode": {
   "interpreter": {
    "hash": "f3b43e4bd4bbcc86dd5566c7a363c0ccf178284afe72937e9ac3cb2743b4c23c"
   }
  }
 },
 "nbformat": 4,
 "nbformat_minor": 2
}
