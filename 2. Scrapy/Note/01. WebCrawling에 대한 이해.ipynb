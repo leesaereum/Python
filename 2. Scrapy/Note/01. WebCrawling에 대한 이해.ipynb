{
 "cells": [
  {
   "cell_type": "markdown",
   "metadata": {},
   "source": [
    "# Web Crawling이란?\n",
    "- Web Scraping이라고 하며 Computer Software 기술로 각종 웹 사이트들에서 원하는 정보를 추출하는 것을 의미\n",
    "- 선행 학습 : Python 기초, HTML, CSS, JavaScript 구조 및 Tag"
   ]
  },
  {
   "cell_type": "markdown",
   "metadata": {},
   "source": [
    "# Web Crawling 기법\n",
    "- HTML Page를 가져와서 HTML/CSS등을 Parsing하고 필요한 데이터만 추출하는 기법.\n",
    "- Open API(Rest API)를 제공하는 서비스에 Open API를 호출해서 받은 데이터중 필요한 데이터만 추출하는 기법\n",
    "- Web Browser를 Programming으로 조작해서 필요한 데이터만 추출하는 기법"
   ]
  },
  {
   "cell_type": "markdown",
   "metadata": {},
   "source": [
    "# Web Crwaling의 합법 여부 판단\n",
    "- Site명 뒤에 /robots.txt를 실행하여 허용범위 확인\n",
    "(robots.txt 사용시 아무것도 안뜨면 사용 가능, disallow는 사용 불가능, allow 사용 가능)\n",
    "- Job Korea vs 사람인\n",
    "- 야놀자 vs 여기어때"
   ]
  },
  {
   "cell_type": "markdown",
   "metadata": {},
   "source": []
  }
 ],
 "metadata": {
  "kernelspec": {
   "display_name": "Python 3.8.9 64-bit",
   "language": "python",
   "name": "python3"
  },
  "language_info": {
   "codemirror_mode": {
    "name": "ipython",
    "version": 3
   },
   "file_extension": ".py",
   "mimetype": "text/x-python",
   "name": "python",
   "nbconvert_exporter": "python",
   "pygments_lexer": "ipython3",
   "version": "3.8.9"
  },
  "orig_nbformat": 4,
  "vscode": {
   "interpreter": {
    "hash": "31f2aee4e71d21fbe5cf8b01ff0e069b9275f58929596ceb00d14d90e3e16cd6"
   }
  }
 },
 "nbformat": 4,
 "nbformat_minor": 2
}
