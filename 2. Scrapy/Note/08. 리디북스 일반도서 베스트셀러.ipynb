{
 "cells": [
  {
   "cell_type": "markdown",
   "metadata": {},
   "source": [
    "# 리디북스 일반도서 베스트 셀러\n",
    "https://ridibooks.com/bestsellers/general?order=monthly&page=1"
   ]
  },
  {
   "cell_type": "code",
   "execution_count": 3,
   "metadata": {},
   "outputs": [
    {
     "data": {
      "text/plain": [
       "[<span class=\"title_text js_highlight_helper hidden\">          \n",
       "                         원씽\n",
       "             </span>]"
      ]
     },
     "execution_count": 3,
     "metadata": {},
     "output_type": "execute_result"
    }
   ],
   "source": [
    "from bs4 import BeautifulSoup\n",
    "import urllib.request as req\n",
    "\n",
    "url = \"https://ridibooks.com/bestsellers/general?order=monthly&page=1\"\n",
    "res = req.urlopen(url)\n",
    "soup = BeautifulSoup(res,\"html.parser\")\n",
    "\n",
    "soup.select(\"#page_best > div.book_macro_wrapper.js_book_macro_wrapper > div.book_macro_110.book_macro_portrait.book_macro_column_6.recommended_book > div.book_metadata_wrapper > h3 > a > span\")"
   ]
  },
  {
   "cell_type": "markdown",
   "metadata": {},
   "source": [
    "> copy seletor로 가져오니 class 이름이 보임"
   ]
  },
  {
   "cell_type": "code",
   "execution_count": 21,
   "metadata": {},
   "outputs": [
    {
     "name": "stdout",
     "output_type": "stream",
     "text": [
      "[<span class=\"title_text js_highlight_helper hidden\">          \n",
      "                        원씽\n",
      "            </span>, <span class=\"title_text js_highlight_helper hidden\">          \n",
      "                        역행자\n",
      "            </span>, <span class=\"title_text js_highlight_helper hidden\">          \n",
      "                        작별인사\n",
      "            </span>, <span class=\"title_text js_highlight_helper hidden\">          \n",
      "                        인플레이션에서 살아남기\n",
      "            </span>, <span class=\"title_text js_highlight_helper hidden\">          \n",
      "                        변화하는 세계 질서\n",
      "            </span>, <span class=\"title_text js_highlight_helper hidden\">          \n",
      "                        피스타운\n",
      "            </span>, <span class=\"title_text js_highlight_helper hidden\">          \n",
      "                        악마의 계약서는 만기 되지 않는다\n",
      "            </span>, <span class=\"title_text js_highlight_helper hidden\">          \n",
      "                        불편한 편의점\n",
      "            </span>, <span class=\"title_text js_highlight_helper hidden\">          \n",
      "                        내가 틀릴 수도 있습니다\n",
      "            </span>, <span class=\"title_text js_highlight_helper hidden\">          \n",
      "                        최재천의 공부\n",
      "            </span>, <span class=\"title_text js_highlight_helper hidden\">          \n",
      "                                  개정판 | 하얀 늑대들\n",
      "                    </span>, <span class=\"title_text js_highlight_helper hidden\">          \n",
      "                        잠시 동안 빛은 이곳에\n",
      "            </span>, <span class=\"title_text js_highlight_helper hidden\">          \n",
      "                        심해어\n",
      "            </span>, <span class=\"title_text js_highlight_helper hidden\">          \n",
      "                        사이후이, 싸이파이\n",
      "            </span>, <span class=\"title_text js_highlight_helper hidden\">          \n",
      "                        친밀한 이방인\n",
      "            </span>, <span class=\"title_text js_highlight_helper hidden\">          \n",
      "                        도파민네이션\n",
      "            </span>, <span class=\"title_text js_highlight_helper hidden\">          \n",
      "                        구글 엔지니어는 이렇게 일한다\n",
      "            </span>, <span class=\"title_text js_highlight_helper hidden\">          \n",
      "                        멘탈을 바꿔야 인생이 바뀐다\n",
      "            </span>, <span class=\"title_text js_highlight_helper hidden\">          \n",
      "                        플라스틱 세대\n",
      "            </span>, <span class=\"title_text js_highlight_helper hidden\">          \n",
      "                        덫\n",
      "            </span>, <span class=\"title_text js_highlight_helper hidden\">          \n",
      "                        나의 투자는 새벽 4시에 시작된다\n",
      "            </span>, <span class=\"title_text js_highlight_helper hidden\">          \n",
      "                        레스토랑 안의 낯선 자들\n",
      "            </span>, <span class=\"title_text js_highlight_helper hidden\">          \n",
      "                        물고기는 존재하지 않는다\n",
      "            </span>, <span class=\"title_text js_highlight_helper hidden\">          \n",
      "                        원씽\n",
      "            </span>, <span class=\"title_text js_highlight_helper hidden\">          \n",
      "                        버드나무\n",
      "            </span>, <span class=\"title_text js_highlight_helper hidden\">          \n",
      "                        브라질에 비가 내리면 스타벅스 주식을 사라\n",
      "            </span>, <span class=\"title_text js_highlight_helper hidden\">          \n",
      "                        모든 것은 기본에서 시작한다\n",
      "            </span>, <span class=\"title_text js_highlight_helper hidden\">          \n",
      "                        밝은 밤\n",
      "            </span>, <span class=\"title_text js_highlight_helper hidden\">          \n",
      "                        부자 아빠 가난한 아빠 20주년 특별 기념판\n",
      "            </span>, <span class=\"title_text js_highlight_helper hidden\">          \n",
      "                        나를 단단하게 만드는 심리학\n",
      "            </span>, <span class=\"title_text js_highlight_helper hidden\">          \n",
      "                        프로젝트 헤일메리\n",
      "            </span>]\n"
     ]
    }
   ],
   "source": [
    "# selector를 간단하게 사용하기\n",
    "from bs4 import BeautifulSoup\n",
    "import urllib.request as req\n",
    "\n",
    "url = \"https://ridibooks.com/bestsellers/general?order=monthly&page=1\"\n",
    "res = req.urlopen(url)\n",
    "soup = BeautifulSoup(res,\"html.parser\")\n",
    "\n",
    "scraping_lists = soup.select(\".title_text\")\n",
    "print(scraping_lists)"
   ]
  },
  {
   "cell_type": "code",
   "execution_count": 22,
   "metadata": {},
   "outputs": [
    {
     "data": {
      "text/plain": [
       "31"
      ]
     },
     "execution_count": 22,
     "metadata": {},
     "output_type": "execute_result"
    }
   ],
   "source": [
    "# 책 권수 확인\n",
    "len(scraping_lists)"
   ]
  },
  {
   "cell_type": "markdown",
   "metadata": {},
   "source": [
    "> 별표 붙은 책때문에 31권을 가져왔음"
   ]
  },
  {
   "cell_type": "code",
   "execution_count": 18,
   "metadata": {},
   "outputs": [
    {
     "name": "stdout",
     "output_type": "stream",
     "text": [
      "[<span class=\"title_text js_highlight_helper hidden\">          \n",
      "                        인플레이션에서 살아남기\n",
      "            인플레이션에서 살아남기</span>, <span class=\"title_text js_highlight_helper hidden\">          \n",
      "                        변화하는 세계 질서\n",
      "            변화하는 세계 질서</span>, <span class=\"title_text js_highlight_helper hidden\">          \n",
      "                        피스타운\n",
      "            피스타운</span>, <span class=\"title_text js_highlight_helper hidden\">          \n",
      "                        악마의 계약서는 만기 되지 않는다\n",
      "            악마의 계약서는 만기 되지 않는다</span>, <span class=\"title_text js_highlight_helper hidden\">          \n",
      "                        불편한 편의점\n",
      "            불편한 편의점</span>, <span class=\"title_text js_highlight_helper hidden\">          \n",
      "                        내가 틀릴 수도 있습니다\n",
      "            내가 틀릴 수도 있습니다</span>, <span class=\"title_text js_highlight_helper hidden\">          \n",
      "                        최재천의 공부\n",
      "            최재천의 공부</span>, <span class=\"title_text js_highlight_helper hidden\">          \n",
      "                                  개정판 | 하얀 늑대들\n",
      "                    개정판 | 하얀 늑대들</span>, <span class=\"title_text js_highlight_helper hidden\">          \n",
      "                        잠시 동안 빛은 이곳에\n",
      "            잠시 동안 빛은 이곳에</span>, <span class=\"title_text js_highlight_helper hidden\">          \n",
      "                        심해어\n",
      "            심해어</span>, <span class=\"title_text js_highlight_helper hidden\">          \n",
      "                        사이후이, 싸이파이\n",
      "            사이후이, 싸이파이</span>, <span class=\"title_text js_highlight_helper hidden\">          \n",
      "                        친밀한 이방인\n",
      "            친밀한 이방인</span>, <span class=\"title_text js_highlight_helper hidden\">          \n",
      "                        도파민네이션\n",
      "            도파민네이션</span>, <span class=\"title_text js_highlight_helper hidden\">          \n",
      "                        구글 엔지니어는 이렇게 일한다\n",
      "            구글 엔지니어는 이렇게 일한다</span>, <span class=\"title_text js_highlight_helper hidden\">          \n",
      "                        멘탈을 바꿔야 인생이 바뀐다\n",
      "            멘탈을 바꿔야 인생이 바뀐다</span>, <span class=\"title_text js_highlight_helper hidden\">          \n",
      "                        플라스틱 세대\n",
      "            플라스틱 세대</span>, <span class=\"title_text js_highlight_helper hidden\">          \n",
      "                        덫\n",
      "            덫</span>, <span class=\"title_text js_highlight_helper hidden\">          \n",
      "                        나의 투자는 새벽 4시에 시작된다\n",
      "            나의 투자는 새벽 4시에 시작된다</span>, <span class=\"title_text js_highlight_helper hidden\">          \n",
      "                        레스토랑 안의 낯선 자들\n",
      "            레스토랑 안의 낯선 자들</span>, <span class=\"title_text js_highlight_helper hidden\">          \n",
      "                        물고기는 존재하지 않는다\n",
      "            물고기는 존재하지 않는다</span>, <span class=\"title_text js_highlight_helper hidden\">          \n",
      "                        원씽\n",
      "            원씽</span>, <span class=\"title_text js_highlight_helper hidden\">          \n",
      "                        버드나무\n",
      "            버드나무</span>, <span class=\"title_text js_highlight_helper hidden\">          \n",
      "                        브라질에 비가 내리면 스타벅스 주식을 사라\n",
      "            브라질에 비가 내리면 스타벅스 주식을 사라</span>, <span class=\"title_text js_highlight_helper hidden\">          \n",
      "                        모든 것은 기본에서 시작한다\n",
      "            모든 것은 기본에서 시작한다</span>, <span class=\"title_text js_highlight_helper hidden\">          \n",
      "                        밝은 밤\n",
      "            밝은 밤</span>, <span class=\"title_text js_highlight_helper hidden\">          \n",
      "                        부자 아빠 가난한 아빠 20주년 특별 기념판\n",
      "            부자 아빠 가난한 아빠 20주년 특별 기념판</span>, <span class=\"title_text js_highlight_helper hidden\">          \n",
      "                        나를 단단하게 만드는 심리학\n",
      "            나를 단단하게 만드는 심리학</span>, <span class=\"title_text js_highlight_helper hidden\">          \n",
      "                        프로젝트 헤일메리\n",
      "            프로젝트 헤일메리</span>]\n"
     ]
    }
   ],
   "source": [
    "# 첫번째 책을 제거 후 List를 재구성\n",
    "scraping_lists = scraping_lists[1:]\n",
    "len(scraping_lists)\n",
    "print(scraping_lists)"
   ]
  },
  {
   "cell_type": "code",
   "execution_count": 24,
   "metadata": {},
   "outputs": [
    {
     "name": "stdout",
     "output_type": "stream",
     "text": [
      "['역행자', '작별인사', '인플레이션에서 살아남기', '변화하는 세계 질서', '피스타운', '악마의 계약서는 만기 되지 않는다', '불편한 편의점', '내가 틀릴 수도 있습니다', '최재천의 공부', '개정판 | 하얀 늑대들', '잠시 동안 빛은 이곳에', '심해어', '사이후이, 싸이파이', '친밀한 이방인', '도파민네이션', '구글 엔지니어는 이렇게 일한다', '멘탈을 바꿔야 인생이 바뀐다', '플라스틱 세대', '덫', '나의 투자는 새벽 4시에 시작된다', '레스토랑 안의 낯선 자들', '물고기는 존재하지 않는다', '원씽', '버드나무', '브라질에 비가 내리면 스타벅스 주식을 사라', '모든 것은 기본에서 시작한다', '밝은 밤', '부자 아빠 가난한 아빠 20주년 특별 기념판', '나를 단단하게 만드는 심리학', '프로젝트 헤일메리']\n"
     ]
    }
   ],
   "source": [
    "#scraping_lists = scraping_lists[1:]\n",
    "book_lists = []\n",
    "for book_list in scraping_lists:\n",
    "    book_lists.append(book_list.string.strip())\n",
    "\n",
    "print(book_lists)"
   ]
  },
  {
   "cell_type": "markdown",
   "metadata": {},
   "source": [
    "# DataFrame 만들기"
   ]
  },
  {
   "cell_type": "markdown",
   "metadata": {},
   "source": []
  },
  {
   "cell_type": "code",
   "execution_count": 16,
   "metadata": {},
   "outputs": [],
   "source": [
    "# Rank List 만들기\n",
    "rank = list(range(1,31))"
   ]
  },
  {
   "cell_type": "code",
   "execution_count": 25,
   "metadata": {},
   "outputs": [],
   "source": [
    "data = []\n",
    "for i,j in zip(rank,book_lists):\n",
    "    data.append([i,j])"
   ]
  },
  {
   "cell_type": "code",
   "execution_count": 26,
   "metadata": {},
   "outputs": [
    {
     "data": {
      "text/plain": [
       "[[1, '역행자'], [2, '작별인사'], [3, '인플레이션에서 살아남기'], [4, '변화하는 세계 질서'], [5, '피스타운']]"
      ]
     },
     "execution_count": 26,
     "metadata": {},
     "output_type": "execute_result"
    }
   ],
   "source": [
    "data[:5]"
   ]
  },
  {
   "cell_type": "code",
   "execution_count": 35,
   "metadata": {},
   "outputs": [
    {
     "data": {
      "text/html": [
       "<div>\n",
       "<style scoped>\n",
       "    .dataframe tbody tr th:only-of-type {\n",
       "        vertical-align: middle;\n",
       "    }\n",
       "\n",
       "    .dataframe tbody tr th {\n",
       "        vertical-align: top;\n",
       "    }\n",
       "\n",
       "    .dataframe thead tr th {\n",
       "        text-align: left;\n",
       "    }\n",
       "</style>\n",
       "<table border=\"1\" class=\"dataframe\">\n",
       "  <thead>\n",
       "    <tr>\n",
       "      <th></th>\n",
       "      <th>Rank</th>\n",
       "      <th>bookTitle</th>\n",
       "    </tr>\n",
       "  </thead>\n",
       "  <tbody>\n",
       "    <tr>\n",
       "      <th>0</th>\n",
       "      <td>1</td>\n",
       "      <td>역행자</td>\n",
       "    </tr>\n",
       "    <tr>\n",
       "      <th>1</th>\n",
       "      <td>2</td>\n",
       "      <td>작별인사</td>\n",
       "    </tr>\n",
       "    <tr>\n",
       "      <th>2</th>\n",
       "      <td>3</td>\n",
       "      <td>인플레이션에서 살아남기</td>\n",
       "    </tr>\n",
       "    <tr>\n",
       "      <th>3</th>\n",
       "      <td>4</td>\n",
       "      <td>변화하는 세계 질서</td>\n",
       "    </tr>\n",
       "    <tr>\n",
       "      <th>4</th>\n",
       "      <td>5</td>\n",
       "      <td>피스타운</td>\n",
       "    </tr>\n",
       "  </tbody>\n",
       "</table>\n",
       "</div>"
      ],
      "text/plain": [
       "  Rank     bookTitle\n",
       "0    1           역행자\n",
       "1    2          작별인사\n",
       "2    3  인플레이션에서 살아남기\n",
       "3    4    변화하는 세계 질서\n",
       "4    5          피스타운"
      ]
     },
     "execution_count": 35,
     "metadata": {},
     "output_type": "execute_result"
    }
   ],
   "source": [
    "import pandas as pd \n",
    "\n",
    "page1 = pd.DataFrame(data=data, columns=[['Rank','bookTitle']])\n",
    "page1.head()"
   ]
  },
  {
   "cell_type": "code",
   "execution_count": 103,
   "metadata": {},
   "outputs": [],
   "source": [
    "# csv로 저장\n",
    "page1.to_csv(\"../Data/ridi_page1.csv\", index=False)\n",
    "ridibooks = pd.read_csv(\"../Data/ridi_page1.csv\")"
   ]
  },
  {
   "cell_type": "markdown",
   "metadata": {},
   "source": [
    "---\n",
    "### 1page의 도서명과 hyperlink를 통한 작품 소개 내용 가져오기"
   ]
  },
  {
   "cell_type": "code",
   "execution_count": 34,
   "metadata": {},
   "outputs": [],
   "source": [
    "# Hyper Link 정보 가져오기\n",
    "#page_best > div.book_macro_wrapper.js_book_macro_wrapper > div.book_macro_110.book_macro_portrait.book_macro_column_6.recommended_book > div.book_metadata_wrapper > h3 > a"
   ]
  },
  {
   "cell_type": "code",
   "execution_count": 63,
   "metadata": {},
   "outputs": [
    {
     "name": "stdout",
     "output_type": "stream",
     "text": [
      "[<a class=\"title_link\" data-track-params=\"\" data-track-type=\"\" href=\"/books/1468000044?_rdt_sid=bestseller_star&amp;_rdt_idx=0\">\n",
      "<span class=\"title_text js_highlight_helper hidden\">          \n",
      "                        원씽\n",
      "            </span>\n",
      "</a>, <a class=\"title_link\" data-track-params=\"\" data-track-type=\"\" href=\"/books/606002388?_rdt_sid=bestseller&amp;_rdt_idx=0\">\n",
      "<span class=\"title_text js_highlight_helper hidden\">          \n",
      "                        역행자\n",
      "            </span>\n",
      "</a>, <a class=\"title_link\" data-track-params=\"\" data-track-type=\"\" href=\"/books/4271000014?_rdt_sid=bestseller&amp;_rdt_idx=1\">\n",
      "<span class=\"title_text js_highlight_helper hidden\">          \n",
      "                        작별인사\n",
      "            </span>\n",
      "</a>, <a class=\"title_link\" data-track-params=\"\" data-track-type=\"\" href=\"/books/4139000033?_rdt_sid=bestseller&amp;_rdt_idx=2\">\n",
      "<span class=\"title_text js_highlight_helper hidden\">          \n",
      "                        인플레이션에서 살아남기\n",
      "            </span>\n",
      "</a>, <a class=\"title_link\" data-track-params=\"\" data-track-type=\"\" href=\"/books/1890000285?_rdt_sid=bestseller&amp;_rdt_idx=3\">\n",
      "<span class=\"title_text js_highlight_helper hidden\">          \n",
      "                        변화하는 세계 질서\n",
      "            </span>\n",
      "</a>, <a class=\"title_link\" data-track-params=\"\" data-track-type=\"\" href=\"/books/4575000003?_rdt_sid=bestseller&amp;_rdt_idx=4\">\n",
      "<span class=\"title_text js_highlight_helper hidden\">          \n",
      "                        피스타운\n",
      "            </span>\n",
      "</a>, <a class=\"title_link\" data-track-params=\"\" data-track-type=\"\" href=\"/books/1648000475?_rdt_sid=bestseller&amp;_rdt_idx=5\">\n",
      "<span class=\"title_text js_highlight_helper hidden\">          \n",
      "                        악마의 계약서는 만기 되지 않는다\n",
      "            </span>\n",
      "</a>, <a class=\"title_link\" data-track-params=\"\" data-track-type=\"\" href=\"/books/2177000101?_rdt_sid=bestseller&amp;_rdt_idx=6\">\n",
      "<span class=\"title_text js_highlight_helper hidden\">          \n",
      "                        불편한 편의점\n",
      "            </span>\n",
      "</a>, <a class=\"title_link\" data-track-params=\"\" data-track-type=\"\" href=\"/books/4803001974?_rdt_sid=bestseller&amp;_rdt_idx=7\">\n",
      "<span class=\"title_text js_highlight_helper hidden\">          \n",
      "                        내가 틀릴 수도 있습니다\n",
      "            </span>\n",
      "</a>, <a class=\"title_link\" data-track-params=\"\" data-track-type=\"\" href=\"/books/1546000953?_rdt_sid=bestseller&amp;_rdt_idx=8\">\n",
      "<span class=\"title_text js_highlight_helper hidden\">          \n",
      "                        최재천의 공부\n",
      "            </span>\n",
      "</a>, <a class=\"title_link\" data-track-params=\"\" data-track-type=\"\" href=\"/books/1176000018?_rdt_sid=bestseller&amp;_rdt_idx=9\">\n",
      "<span class=\"title_text js_highlight_helper hidden\">          \n",
      "                                  개정판 | 하얀 늑대들\n",
      "                    </span>\n",
      "</a>, <a class=\"title_link\" data-track-params=\"\" data-track-type=\"\" href=\"/books/4578000004?_rdt_sid=bestseller&amp;_rdt_idx=10\">\n",
      "<span class=\"title_text js_highlight_helper hidden\">          \n",
      "                        잠시 동안 빛은 이곳에\n",
      "            </span>\n",
      "</a>, <a class=\"title_link\" data-track-params=\"\" data-track-type=\"\" href=\"/books/4912000001?_rdt_sid=bestseller&amp;_rdt_idx=11\">\n",
      "<span class=\"title_text js_highlight_helper hidden\">          \n",
      "                        심해어\n",
      "            </span>\n",
      "</a>, <a class=\"title_link\" data-track-params=\"\" data-track-type=\"\" href=\"/books/4926000001?_rdt_sid=bestseller&amp;_rdt_idx=12\">\n",
      "<span class=\"title_text js_highlight_helper hidden\">          \n",
      "                        사이후이, 싸이파이\n",
      "            </span>\n",
      "</a>, <a class=\"title_link\" data-track-params=\"\" data-track-type=\"\" href=\"/books/371001540?_rdt_sid=bestseller&amp;_rdt_idx=13\">\n",
      "<span class=\"title_text js_highlight_helper hidden\">          \n",
      "                        친밀한 이방인\n",
      "            </span>\n",
      "</a>, <a class=\"title_link\" data-track-params=\"\" data-track-type=\"\" href=\"/books/745000210?_rdt_sid=bestseller&amp;_rdt_idx=14\">\n",
      "<span class=\"title_text js_highlight_helper hidden\">          \n",
      "                        도파민네이션\n",
      "            </span>\n",
      "</a>, <a class=\"title_link\" data-track-params=\"\" data-track-type=\"\" href=\"/books/443001038?_rdt_sid=bestseller&amp;_rdt_idx=15\">\n",
      "<span class=\"title_text js_highlight_helper hidden\">          \n",
      "                        구글 엔지니어는 이렇게 일한다\n",
      "            </span>\n",
      "</a>, <a class=\"title_link\" data-track-params=\"\" data-track-type=\"\" href=\"/books/4239000039?_rdt_sid=bestseller&amp;_rdt_idx=16\">\n",
      "<span class=\"title_text js_highlight_helper hidden\">          \n",
      "                        멘탈을 바꿔야 인생이 바뀐다\n",
      "            </span>\n",
      "</a>, <a class=\"title_link\" data-track-params=\"\" data-track-type=\"\" href=\"/books/4647000003?_rdt_sid=bestseller&amp;_rdt_idx=17\">\n",
      "<span class=\"title_text js_highlight_helper hidden\">          \n",
      "                        플라스틱 세대\n",
      "            </span>\n",
      "</a>, <a class=\"title_link\" data-track-params=\"\" data-track-type=\"\" href=\"/books/4909000001?_rdt_sid=bestseller&amp;_rdt_idx=18\">\n",
      "<span class=\"title_text js_highlight_helper hidden\">          \n",
      "                        덫\n",
      "            </span>\n",
      "</a>, <a class=\"title_link\" data-track-params=\"\" data-track-type=\"\" href=\"/books/606002383?_rdt_sid=bestseller&amp;_rdt_idx=19\">\n",
      "<span class=\"title_text js_highlight_helper hidden\">          \n",
      "                        나의 투자는 새벽 4시에 시작된다\n",
      "            </span>\n",
      "</a>, <a class=\"title_link\" data-track-params=\"\" data-track-type=\"\" href=\"/books/4927000001?_rdt_sid=bestseller&amp;_rdt_idx=20\">\n",
      "<span class=\"title_text js_highlight_helper hidden\">          \n",
      "                        레스토랑 안의 낯선 자들\n",
      "            </span>\n",
      "</a>, <a class=\"title_link\" data-track-params=\"\" data-track-type=\"\" href=\"/books/1508006000?_rdt_sid=bestseller&amp;_rdt_idx=21\">\n",
      "<span class=\"title_text js_highlight_helper hidden\">          \n",
      "                        물고기는 존재하지 않는다\n",
      "            </span>\n",
      "</a>, <a class=\"title_link\" data-track-params=\"\" data-track-type=\"\" href=\"/books/1468000044?_rdt_sid=bestseller&amp;_rdt_idx=22\">\n",
      "<span class=\"title_text js_highlight_helper hidden\">          \n",
      "                        원씽\n",
      "            </span>\n",
      "</a>, <a class=\"title_link\" data-track-params=\"\" data-track-type=\"\" href=\"/books/4910000001?_rdt_sid=bestseller&amp;_rdt_idx=23\">\n",
      "<span class=\"title_text js_highlight_helper hidden\">          \n",
      "                        버드나무\n",
      "            </span>\n",
      "</a>, <a class=\"title_link\" data-track-params=\"\" data-track-type=\"\" href=\"/books/2596000037?_rdt_sid=bestseller&amp;_rdt_idx=24\">\n",
      "<span class=\"title_text js_highlight_helper hidden\">          \n",
      "                        브라질에 비가 내리면 스타벅스 주식을 사라\n",
      "            </span>\n",
      "</a>, <a class=\"title_link\" data-track-params=\"\" data-track-type=\"\" href=\"/books/2337000035?_rdt_sid=bestseller&amp;_rdt_idx=25\">\n",
      "<span class=\"title_text js_highlight_helper hidden\">          \n",
      "                        모든 것은 기본에서 시작한다\n",
      "            </span>\n",
      "</a>, <a class=\"title_link\" data-track-params=\"\" data-track-type=\"\" href=\"/books/371002440?_rdt_sid=bestseller&amp;_rdt_idx=26\">\n",
      "<span class=\"title_text js_highlight_helper hidden\">          \n",
      "                        밝은 밤\n",
      "            </span>\n",
      "</a>, <a class=\"title_link\" data-track-params=\"\" data-track-type=\"\" href=\"/books/682000717?_rdt_sid=bestseller&amp;_rdt_idx=27\">\n",
      "<span class=\"title_text js_highlight_helper hidden\">          \n",
      "                        부자 아빠 가난한 아빠 20주년 특별 기념판\n",
      "            </span>\n",
      "</a>, <a class=\"title_link\" data-track-params=\"\" data-track-type=\"\" href=\"/books/4698000005?_rdt_sid=bestseller&amp;_rdt_idx=28\">\n",
      "<span class=\"title_text js_highlight_helper hidden\">          \n",
      "                        나를 단단하게 만드는 심리학\n",
      "            </span>\n",
      "</a>, <a class=\"title_link\" data-track-params=\"\" data-track-type=\"\" href=\"/books/510001099?_rdt_sid=bestseller&amp;_rdt_idx=29\">\n",
      "<span class=\"title_text js_highlight_helper hidden\">          \n",
      "                        프로젝트 헤일메리\n",
      "            </span>\n",
      "</a>]\n"
     ]
    }
   ],
   "source": [
    "from bs4 import BeautifulSoup\n",
    "import urllib.request as req\n",
    "\n",
    "url = \"https://ridibooks.com/bestsellers/general?order=monthly&page=1\"\n",
    "res = req.urlopen(url)\n",
    "soup = BeautifulSoup(res,\"html.parser\")\n",
    "\n",
    "hyper_link_lists = soup.select(\".title_link\")\n",
    "print(hyper_link_lists)"
   ]
  },
  {
   "cell_type": "code",
   "execution_count": 64,
   "metadata": {},
   "outputs": [
    {
     "data": {
      "text/plain": [
       "30"
      ]
     },
     "execution_count": 64,
     "metadata": {},
     "output_type": "execute_result"
    }
   ],
   "source": [
    "hyper_link_lists = hyper_link_lists[1:]\n",
    "len(hyper_link_lists)"
   ]
  },
  {
   "cell_type": "code",
   "execution_count": 67,
   "metadata": {},
   "outputs": [
    {
     "name": "stdout",
     "output_type": "stream",
     "text": [
      "['https://ridibooks.com/books/606002388?_rdt_sid=bestseller&_rdt_idx=0', 'https://ridibooks.com/books/4271000014?_rdt_sid=bestseller&_rdt_idx=1', 'https://ridibooks.com/books/4139000033?_rdt_sid=bestseller&_rdt_idx=2', 'https://ridibooks.com/books/1890000285?_rdt_sid=bestseller&_rdt_idx=3', 'https://ridibooks.com/books/4575000003?_rdt_sid=bestseller&_rdt_idx=4', 'https://ridibooks.com/books/1648000475?_rdt_sid=bestseller&_rdt_idx=5', 'https://ridibooks.com/books/2177000101?_rdt_sid=bestseller&_rdt_idx=6', 'https://ridibooks.com/books/4803001974?_rdt_sid=bestseller&_rdt_idx=7', 'https://ridibooks.com/books/1546000953?_rdt_sid=bestseller&_rdt_idx=8', 'https://ridibooks.com/books/1176000018?_rdt_sid=bestseller&_rdt_idx=9', 'https://ridibooks.com/books/4578000004?_rdt_sid=bestseller&_rdt_idx=10', 'https://ridibooks.com/books/4912000001?_rdt_sid=bestseller&_rdt_idx=11', 'https://ridibooks.com/books/4926000001?_rdt_sid=bestseller&_rdt_idx=12', 'https://ridibooks.com/books/371001540?_rdt_sid=bestseller&_rdt_idx=13', 'https://ridibooks.com/books/745000210?_rdt_sid=bestseller&_rdt_idx=14', 'https://ridibooks.com/books/443001038?_rdt_sid=bestseller&_rdt_idx=15', 'https://ridibooks.com/books/4239000039?_rdt_sid=bestseller&_rdt_idx=16', 'https://ridibooks.com/books/4647000003?_rdt_sid=bestseller&_rdt_idx=17', 'https://ridibooks.com/books/4909000001?_rdt_sid=bestseller&_rdt_idx=18', 'https://ridibooks.com/books/606002383?_rdt_sid=bestseller&_rdt_idx=19', 'https://ridibooks.com/books/4927000001?_rdt_sid=bestseller&_rdt_idx=20', 'https://ridibooks.com/books/1508006000?_rdt_sid=bestseller&_rdt_idx=21', 'https://ridibooks.com/books/1468000044?_rdt_sid=bestseller&_rdt_idx=22', 'https://ridibooks.com/books/4910000001?_rdt_sid=bestseller&_rdt_idx=23', 'https://ridibooks.com/books/2596000037?_rdt_sid=bestseller&_rdt_idx=24', 'https://ridibooks.com/books/2337000035?_rdt_sid=bestseller&_rdt_idx=25', 'https://ridibooks.com/books/371002440?_rdt_sid=bestseller&_rdt_idx=26', 'https://ridibooks.com/books/682000717?_rdt_sid=bestseller&_rdt_idx=27', 'https://ridibooks.com/books/4698000005?_rdt_sid=bestseller&_rdt_idx=28', 'https://ridibooks.com/books/510001099?_rdt_sid=bestseller&_rdt_idx=29']\n"
     ]
    }
   ],
   "source": [
    "hyperlink = []\n",
    "ridiURL =\"https://ridibooks.com\"\n",
    "for hyper_link_list in hyper_link_lists:\n",
    "    hyperlink.append(ridiURL+hyper_link_list['href'])\n",
    "\n",
    "print(hyperlink)"
   ]
  },
  {
   "cell_type": "code",
   "execution_count": 98,
   "metadata": {},
   "outputs": [],
   "source": [
    "# 1번 책으로 hyper link test\n",
    "\n",
    "url = hyperlink[0]\n",
    "res = req.urlopen(url)\n",
    "soup = BeautifulSoup(res,\"html.parser\")\n",
    "\n",
    "book_contents = soup.select_one(\".folded\")"
   ]
  },
  {
   "cell_type": "code",
   "execution_count": 99,
   "metadata": {},
   "outputs": [
    {
     "data": {
      "text/plain": [
       "'<역행자> 오타쿠 흙수저에서 월 1억 자동수익을 실현한 무자본 연쇄창업마,\\r\\n라이프해커 자청의 인생 역주행 공식 대공개!\\r\\n“절대 읽지 마라!\\r\\n죽을 때까지 순리자로 살고 싶다면!”\\n\\r\\n운명과 본능의 지배에서 벗어나\\r\\n경제적 자유와 행복한 인생을 쟁취하는 라이프해킹의 비밀\\n\\r\\n95퍼센트의 인간은 타고난 유전자와 본성의 꼭두각시로 살아간다. 그래서 평생 평범함을 벗어나지 못하고 불행하게 산다. 본성에 따라 결정된 인생을 사는 자, 이들은 ‘순리자’다. 그러나 5퍼센트의 인간은 다르다. 그들은 타고난 유전자와 본성을 역행해 경제적 자유와 행복을 쟁취한다. 이들이 바로 ‘역행자’다.\\r\\n어느 날 혜성처럼 나타나 자수성가의 아이콘이 된 청년, 자기계발 유튜버 자청이 깨달은 인생의 치트기를 탈탈 털어 넣은 그의 첫 책 《역행자》가 5월 30일, 드디어 출간된다. 수많은 ‘자청 챌린저’들이 기다려온 책이자, 독자들의 인생을 송두리째 바꿔줄 문제작이다. ‘연봉 10억 무자본 창업가’로 유명해진 그는 2020년, 단 20개의 영상으로 10만 구독자를 넘어서며 화제를 모았으나 곧장 미련 없이 유튜브를 그만뒀다. 이후 본업인 온라인 마케팅 비즈니스를 비롯해 다방면으로 사업을 확장하고 있다.\\r\\n이 책에는 가난한 인생에서 벗어나 경제적 자유와 행복을 얻은 저자 자청이 깨달은 인생 레벨업 치트키가 빼곡히 담겨 있다. 10대 때의 그는 외모, 돈, 공부, 그 어떤 것에서도 최하위였다. 그러던 스무 살 무렵, ‘인생에도 게임처럼 공략집이 있다’는 사실을 깨닫고 삶이 180도 바뀌기 시작했다. 200여 권의 책을 독파하며 얻은 인생의 치트키들을 활용해 창업에 성공했다.\\n\\r\\n‘부자는 다른 세상 사람들이야. 우리 집 꼴을 봐’, ‘인서울 대학에 가는 건 천재들이나 하는 거야’, ‘내가 월 300 이상 버는 날은 영원히 없겠지’… 인생의 밑바닥에서 힘든 친구들은 비슷한 심정일 거라 생각한다. 하지만 지금 내 정체성은 완전히 다르다. 나는 평생에 걸쳐 정체성을 인위적으로 바꿔왔기 때문이다.\\r\\n20대에 책을 읽게 된 게 그 시작이었고, 그 뒤로도 끊임없이 내 머릿속 소프트웨어를 새로 깔고 있다. 이렇게 정체성을 먼저 바꾸면 변화가 쉽게 만들어진다. 반면 정체성을 바꿀 수 있는 기회를 놓치면 계속 순리자로 살게 된다. 나는 책이라는 형태로 다가온 행운을 꼭 잡고 놓지 않았다. 그 책들은 패배주의에 사로잡힌 내 머릿속에 새로운 소프트웨어를 깔아주는 설치 가이드였다. 그때 내 발밑에 깔린 철로를 보게 되었고, 절망으로 가는 전철에서 내릴 수 있었다. 그리고 나만의 내비게이션을 달고 인생의 지름길을, 부의 추월차선을 찾아 나섰다. 모두가 머릿속에 새 소프트웨어를 깐 덕분이었다! _ 본문 중에서\\n\\r\\n그가 하는 대부분의 비즈니스 모델은 ‘초보가 되어, 왕초보를 가르치는 것’이다. 어느 분야든 저렴한 가격에 도움을 받고 싶은 왕초보의 수요는 분명히 존재한다. 이때 도와주는 사람은 초보여도 상관없다는 점에 착안해 여러 컨설팅 비즈니스를 설계했다. 그는 무료 홈페이지 제작 플랫폼을 통해 하루 만에 홈페이지를 제작하고, 네이버 블로그 등 SNS 채널을 통해 무료로 마케팅을 했다. 투자비용 자체가 들어가지 않는 ‘무자본 창업’ 형태였다. ‘라이프해커 자청’이라는 캐릭터와 ‘무자본 창업’이라는 개념은 사람들의 고정관념을 깨는 시그널이 됐다.\\r\\n자청이 찾아낸 ‘역행자의 7단계 모델’을 통해, 부와 행복을 갈망하는 독자들은 저자가 겪은 10년 동안의 시행착오를 단 3년으로 줄일 수 있다. 못 믿겠는가? 불안과 의심을 버리고, 저자와 함께 ‘인생의 추월차선’을 타러 가보자.'"
      ]
     },
     "execution_count": 99,
     "metadata": {},
     "output_type": "execute_result"
    }
   ],
   "source": [
    "book_contents.text"
   ]
  },
  {
   "cell_type": "code",
   "execution_count": 100,
   "metadata": {},
   "outputs": [],
   "source": [
    "# Test후 적용\n",
    "bookContents = []\n",
    "for url in hyperlink:\n",
    "    res = req.urlopen(url)\n",
    "    soup = BeautifulSoup(res,\"html.parser\")\n",
    "    book_content = soup.select_one(\".folded\")\n",
    "    bookContents.append(book_content.text)"
   ]
  },
  {
   "cell_type": "code",
   "execution_count": 102,
   "metadata": {},
   "outputs": [
    {
     "data": {
      "text/plain": [
       "'<작별인사> 누구도 도와줄 수 없는 상황, 혼자 헤쳐나가야 한다\\r\\n지켜야 할 약속, 붙잡고 싶은 온기\\r\\n김영하가 『살인자의 기억법』 이후 9 년 만에 내놓는 장편소설 『작별인사』는 그리 멀지 않은 미래를 배경으로, 별안간 삶이 송두리째 뒤흔들린 한 소년의 여정을 좇는다. 유명한 IT 기업의 연구원인 아버지와 쾌적하고 평화롭게 살아가던 철이는 어느날 갑자기 수용소로 끌려가 난생처음 날것의 감정으로 가득한 혼돈의 세계에 맞닥뜨리게 되면서 정신적, 신체적 위기에 직면한다. 동시에 자신처럼 사회에서 배제된 자들을 만나 처음으로 생생한 소속감을 느끼고 따뜻한 우정도 싹틔운다. 철이는 그들과 함께 수용소를 탈출하여 집으로 돌아가기 위해 길을 떠나지만 그 여정에는 피할 수 없는 질문이 기다리고 있다.\\n\\r\\n세계보건기구 WHO가 팬데믹을 선언한 지 2년이 지나서야 작가는 『작별인사』의 개작을 마쳤다. 420매 분량이던 원고는 약 800매로 늘었고, 주제도 완전히 달라졌다. ‘인간을 인간으로 만드는 것은 무엇인가?’, ‘인간과 인간이 아닌 존재들을 가르는 경계는 어디인가’를 묻던 소설은 ‘삶이란 과연 계속될 가치가 있는 것인가?’, ‘세상에 만연한 고통을 어떻게 하면 줄일 수 있을 것인가’, ‘어쩔 수 없이 태어났다면 어떻게 살고 어떻게 죽어야 할 것인가’와 같은 질문을 던지는 이야기로 바뀌었다. 팬데믹이 개작에 영향을 주었을 수도 있고, 원래 『작별인사』의 구상에 담긴 어떤 맹아가 오랜 개작을 거치며 발아했는지도 모른다. 그것에 대해 작가는 이렇게 말하고 있다.\\n\\r\\n마치 제목이 어떤 마력이 있어서 나로 하여금 자기에게 어울리는 이야기로 다시 쓰도록 한 것 같은 느낌이다. 탈고를 하고 얼마 지나지 않아 원고를 다시 읽어보았다. 이제야 비로소 애초에 내가 쓰려고 했던 어떤 것이 제대로, 남김 없이 다 흘러나왔다는 생각이 들었다. _’작가의 말’에서\\n\\r\\n전면적인 수정을 통해 2022년의 『작별인사』는 2020년의 『작별인사』를 마치 시놉시스나 초고처럼 보이게 할 정도로 확연하게 달라졌다. 그리고 김영하의 이전 문학 세계와의 연결점들이 분명해졌다.'"
      ]
     },
     "execution_count": 102,
     "metadata": {},
     "output_type": "execute_result"
    }
   ],
   "source": [
    "bookContents[1]"
   ]
  },
  {
   "cell_type": "code",
   "execution_count": 104,
   "metadata": {},
   "outputs": [
    {
     "data": {
      "text/html": [
       "<div>\n",
       "<style scoped>\n",
       "    .dataframe tbody tr th:only-of-type {\n",
       "        vertical-align: middle;\n",
       "    }\n",
       "\n",
       "    .dataframe tbody tr th {\n",
       "        vertical-align: top;\n",
       "    }\n",
       "\n",
       "    .dataframe thead th {\n",
       "        text-align: right;\n",
       "    }\n",
       "</style>\n",
       "<table border=\"1\" class=\"dataframe\">\n",
       "  <thead>\n",
       "    <tr style=\"text-align: right;\">\n",
       "      <th></th>\n",
       "      <th>Rank</th>\n",
       "      <th>bookTitle</th>\n",
       "      <th>Contents</th>\n",
       "    </tr>\n",
       "  </thead>\n",
       "  <tbody>\n",
       "    <tr>\n",
       "      <th>0</th>\n",
       "      <td>1</td>\n",
       "      <td>역행자</td>\n",
       "      <td>&lt;역행자&gt; 오타쿠 흙수저에서 월 1억 자동수익을 실현한 무자본 연쇄창업마,\\r\\n라...</td>\n",
       "    </tr>\n",
       "    <tr>\n",
       "      <th>1</th>\n",
       "      <td>2</td>\n",
       "      <td>작별인사</td>\n",
       "      <td>&lt;작별인사&gt; 누구도 도와줄 수 없는 상황, 혼자 헤쳐나가야 한다\\r\\n지켜야 할 약...</td>\n",
       "    </tr>\n",
       "    <tr>\n",
       "      <th>2</th>\n",
       "      <td>3</td>\n",
       "      <td>인플레이션에서 살아남기</td>\n",
       "      <td>&lt;인플레이션에서 살아남기&gt; \\n\\n40년 만에 찾아온 인플레의 역습, \\r\\n당신의...</td>\n",
       "    </tr>\n",
       "    <tr>\n",
       "      <th>3</th>\n",
       "      <td>4</td>\n",
       "      <td>변화하는 세계 질서</td>\n",
       "      <td>&lt;변화하는 세계 질서&gt; \\n\\n《원칙 Principles: Life &amp; Work》으...</td>\n",
       "    </tr>\n",
       "    <tr>\n",
       "      <th>4</th>\n",
       "      <td>5</td>\n",
       "      <td>피스타운</td>\n",
       "      <td>&lt;피스타운&gt; -“여긴 너무 비현실적이야, 그렇지 않아?”\\r\\n-뭐든지 이룰 수 있...</td>\n",
       "    </tr>\n",
       "  </tbody>\n",
       "</table>\n",
       "</div>"
      ],
      "text/plain": [
       "   Rank     bookTitle                                           Contents\n",
       "0     1           역행자  <역행자> 오타쿠 흙수저에서 월 1억 자동수익을 실현한 무자본 연쇄창업마,\\r\\n라...\n",
       "1     2          작별인사  <작별인사> 누구도 도와줄 수 없는 상황, 혼자 헤쳐나가야 한다\\r\\n지켜야 할 약...\n",
       "2     3  인플레이션에서 살아남기  <인플레이션에서 살아남기> \\n\\n40년 만에 찾아온 인플레의 역습, \\r\\n당신의...\n",
       "3     4    변화하는 세계 질서  <변화하는 세계 질서> \\n\\n《원칙 Principles: Life & Work》으...\n",
       "4     5          피스타운  <피스타운> -“여긴 너무 비현실적이야, 그렇지 않아?”\\r\\n-뭐든지 이룰 수 있..."
      ]
     },
     "execution_count": 104,
     "metadata": {},
     "output_type": "execute_result"
    }
   ],
   "source": [
    "ridibooks['Contents'] = pd.Series(bookContents)\n",
    "ridibooks.head()"
   ]
  },
  {
   "cell_type": "code",
   "execution_count": 109,
   "metadata": {},
   "outputs": [],
   "source": [
    "titlelist = []\n",
    "bookContentslist = []\n",
    "ridiURL =\"https://ridibooks.com\"\n",
    "for i in range(1,8):\n",
    "    url = \"https://ridibooks.com/bestsellers/general?order=monthly&page=%d\"%i\n",
    "    res = req.urlopen(url)\n",
    "    soup = BeautifulSoup(res,\"html.parser\")\n",
    "\n",
    "    title_lists = soup.select(\".title_text\")\n",
    "    for title in title_lists:\n",
    "        titlelist.append(title.string.strip())\n",
    "\n",
    "    hyper_link_lists = soup.select(\".title_link\")\n",
    "    for hyper_link in hyper_link_lists:\n",
    "        res = req.urlopen(ridiURL+hyper_link['href'])\n",
    "        soup = BeautifulSoup(res,\"html.parser\")\n",
    "        book_content = soup.select_one(\".folded\")\n",
    "        bookContentslist.append(book_content.text)"
   ]
  },
  {
   "cell_type": "code",
   "execution_count": 128,
   "metadata": {},
   "outputs": [],
   "source": [
    "rank = list(range(0,201))\n",
    "ridi = []\n",
    "for i,j,k in zip(rank,titlelist,bookContentslist):\n",
    "    ridi.append([i,j,k])\n",
    "    "
   ]
  },
  {
   "cell_type": "code",
   "execution_count": 130,
   "metadata": {},
   "outputs": [],
   "source": [
    "ridi = ridi[1:]"
   ]
  },
  {
   "cell_type": "code",
   "execution_count": 131,
   "metadata": {},
   "outputs": [
    {
     "data": {
      "text/plain": [
       "200"
      ]
     },
     "execution_count": 131,
     "metadata": {},
     "output_type": "execute_result"
    }
   ],
   "source": [
    "len(ridi)"
   ]
  },
  {
   "cell_type": "code",
   "execution_count": 132,
   "metadata": {},
   "outputs": [
    {
     "data": {
      "text/html": [
       "<div>\n",
       "<style scoped>\n",
       "    .dataframe tbody tr th:only-of-type {\n",
       "        vertical-align: middle;\n",
       "    }\n",
       "\n",
       "    .dataframe tbody tr th {\n",
       "        vertical-align: top;\n",
       "    }\n",
       "\n",
       "    .dataframe thead tr th {\n",
       "        text-align: left;\n",
       "    }\n",
       "</style>\n",
       "<table border=\"1\" class=\"dataframe\">\n",
       "  <thead>\n",
       "    <tr>\n",
       "      <th></th>\n",
       "      <th>Rank</th>\n",
       "      <th>bookTitle</th>\n",
       "      <th>bookContents</th>\n",
       "    </tr>\n",
       "  </thead>\n",
       "  <tbody>\n",
       "    <tr>\n",
       "      <th>0</th>\n",
       "      <td>1</td>\n",
       "      <td>역행자</td>\n",
       "      <td>&lt;역행자&gt; 오타쿠 흙수저에서 월 1억 자동수익을 실현한 무자본 연쇄창업마,\\r\\n라...</td>\n",
       "    </tr>\n",
       "    <tr>\n",
       "      <th>1</th>\n",
       "      <td>2</td>\n",
       "      <td>작별인사</td>\n",
       "      <td>&lt;작별인사&gt; 누구도 도와줄 수 없는 상황, 혼자 헤쳐나가야 한다\\r\\n지켜야 할 약...</td>\n",
       "    </tr>\n",
       "    <tr>\n",
       "      <th>2</th>\n",
       "      <td>3</td>\n",
       "      <td>인플레이션에서 살아남기</td>\n",
       "      <td>&lt;인플레이션에서 살아남기&gt; \\n\\n40년 만에 찾아온 인플레의 역습, \\r\\n당신의...</td>\n",
       "    </tr>\n",
       "    <tr>\n",
       "      <th>3</th>\n",
       "      <td>4</td>\n",
       "      <td>변화하는 세계 질서</td>\n",
       "      <td>&lt;변화하는 세계 질서&gt; \\n\\n《원칙 Principles: Life &amp; Work》으...</td>\n",
       "    </tr>\n",
       "    <tr>\n",
       "      <th>4</th>\n",
       "      <td>5</td>\n",
       "      <td>피스타운</td>\n",
       "      <td>&lt;피스타운&gt; -“여긴 너무 비현실적이야, 그렇지 않아?”\\r\\n-뭐든지 이룰 수 있...</td>\n",
       "    </tr>\n",
       "  </tbody>\n",
       "</table>\n",
       "</div>"
      ],
      "text/plain": [
       "  Rank     bookTitle                                       bookContents\n",
       "0    1           역행자  <역행자> 오타쿠 흙수저에서 월 1억 자동수익을 실현한 무자본 연쇄창업마,\\r\\n라...\n",
       "1    2          작별인사  <작별인사> 누구도 도와줄 수 없는 상황, 혼자 헤쳐나가야 한다\\r\\n지켜야 할 약...\n",
       "2    3  인플레이션에서 살아남기  <인플레이션에서 살아남기> \\n\\n40년 만에 찾아온 인플레의 역습, \\r\\n당신의...\n",
       "3    4    변화하는 세계 질서  <변화하는 세계 질서> \\n\\n《원칙 Principles: Life & Work》으...\n",
       "4    5          피스타운  <피스타운> -“여긴 너무 비현실적이야, 그렇지 않아?”\\r\\n-뭐든지 이룰 수 있..."
      ]
     },
     "execution_count": 132,
     "metadata": {},
     "output_type": "execute_result"
    }
   ],
   "source": [
    "import pandas as pd \n",
    "\n",
    "ridibooks = pd.DataFrame(data=ridi, columns=[['Rank','bookTitle','bookContents']])\n",
    "ridibooks.head()"
   ]
  },
  {
   "cell_type": "code",
   "execution_count": 133,
   "metadata": {},
   "outputs": [],
   "source": [
    "# csv로 저장\n",
    "ridibooks.to_csv(\"../Data/ridibooks.csv\", index=False)\n",
    "ridibook = pd.read_csv(\"../Data/ridibooks.csv\")"
   ]
  },
  {
   "cell_type": "code",
   "execution_count": null,
   "metadata": {},
   "outputs": [],
   "source": []
  },
  {
   "cell_type": "code",
   "execution_count": null,
   "metadata": {},
   "outputs": [],
   "source": []
  }
 ],
 "metadata": {
  "kernelspec": {
   "display_name": "Python 3.9.7 ('base')",
   "language": "python",
   "name": "python3"
  },
  "language_info": {
   "codemirror_mode": {
    "name": "ipython",
    "version": 3
   },
   "file_extension": ".py",
   "mimetype": "text/x-python",
   "name": "python",
   "nbconvert_exporter": "python",
   "pygments_lexer": "ipython3",
   "version": "3.9.7"
  },
  "orig_nbformat": 4,
  "vscode": {
   "interpreter": {
    "hash": "c34e8390e776d2ee205b71ed5a6130fee3cef8da5e87e926ce18e14f4a070d72"
   }
  }
 },
 "nbformat": 4,
 "nbformat_minor": 2
}
