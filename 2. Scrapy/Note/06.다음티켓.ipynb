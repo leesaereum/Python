{
 "cells": [
  {
   "cell_type": "markdown",
   "metadata": {},
   "source": [
    "# 다음 영화 크롤링 해서 DataFrame 생성하고 csv로 저장하기 \n"
   ]
  },
  {
   "cell_type": "code",
   "execution_count": 1,
   "metadata": {},
   "outputs": [],
   "source": [
    "from bs4 import BeautifulSoup\n",
    "from urllib.request import urlopen\n",
    "import pandas as pd \n"
   ]
  },
  {
   "cell_type": "code",
   "execution_count": 2,
   "metadata": {},
   "outputs": [],
   "source": [
    "url = \"https://movie.daum.net/ranking/boxoffice/weekly\"\n",
    "page = urlopen(url)\n",
    "soup = BeautifulSoup(page, 'html.parser')"
   ]
  },
  {
   "cell_type": "code",
   "execution_count": 3,
   "metadata": {},
   "outputs": [
    {
     "name": "stdout",
     "output_type": "stream",
     "text": [
      "1 탑건: 매버릭\n",
      "2 마녀(魔女) Part2. The Other One\n",
      "3 범죄도시 2\n",
      "4 브로커\n",
      "5 버즈 라이트이어\n",
      "6 쥬라기 월드: 도미니언\n",
      "7 극장판 윌벤져스 : 수상한 캠핑 대소동\n",
      "8 극장판 포켓몬스터DP: 기라티나와 하늘의 꽃다발 쉐이미\n",
      "9 헤어질 결심\n",
      "10 룸 쉐어링\n",
      "11 니 부모 얼굴이 보고 싶다\n",
      "12 로스트 시티\n",
      "13 모어\n",
      "14 니얼굴\n",
      "15 애프터 양\n"
     ]
    }
   ],
   "source": [
    "# 순위 / 영화제목 가져와서 리스트 만들기 \n",
    "\n",
    "#mainContent > div > div.box_boxoffice > ol > li > div > div.thumb_cont > strong > a\n",
    "li_list = soup.select(\"#mainContent .link_txt\")\n",
    "\n",
    "count = 0 # 순위 매기는 숫자 \n",
    "titleLists = [] # 영화제목 리스트 \n",
    "countLists = [] # 순위 리스트 \n",
    "for list in li_list : \n",
    "    count += 1 \n",
    "    print(count, list.string.strip())\n",
    "    countLists.append(count)\n",
    "    titleLists.append(list.string.strip())\n"
   ]
  },
  {
   "cell_type": "code",
   "execution_count": 4,
   "metadata": {},
   "outputs": [
    {
     "name": "stdout",
     "output_type": "stream",
     "text": [
      "[1, 2, 3, 4, 5, 6, 7, 8, 9, 10, 11, 12, 13, 14, 15]\n",
      "['탑건: 매버릭', '마녀(魔女) Part2. The Other One', '범죄도시 2', '브로커', '버즈 라이트이어', '쥬라기 월드: 도미니언', '극장판 윌벤져스 : 수상한 캠핑 대소동', '극장판 포켓몬스터DP: 기라티나와 하늘의 꽃다발 쉐이미', '헤어질 결심', '룸 쉐어링', '니 부모 얼굴이 보고 싶다', '로스트 시티', '모어', '니얼굴', '애프터 양']\n"
     ]
    }
   ],
   "source": [
    "# Lists 확인 \n",
    "print(countLists)\n",
    "print(titleLists)"
   ]
  },
  {
   "cell_type": "code",
   "execution_count": 5,
   "metadata": {},
   "outputs": [
    {
     "data": {
      "text/html": [
       "<div>\n",
       "<style scoped>\n",
       "    .dataframe tbody tr th:only-of-type {\n",
       "        vertical-align: middle;\n",
       "    }\n",
       "\n",
       "    .dataframe tbody tr th {\n",
       "        vertical-align: top;\n",
       "    }\n",
       "\n",
       "    .dataframe thead th {\n",
       "        text-align: right;\n",
       "    }\n",
       "</style>\n",
       "<table border=\"1\" class=\"dataframe\">\n",
       "  <thead>\n",
       "    <tr style=\"text-align: right;\">\n",
       "      <th></th>\n",
       "      <th>순위</th>\n",
       "    </tr>\n",
       "  </thead>\n",
       "  <tbody>\n",
       "    <tr>\n",
       "      <th>0</th>\n",
       "      <td>1</td>\n",
       "    </tr>\n",
       "    <tr>\n",
       "      <th>1</th>\n",
       "      <td>2</td>\n",
       "    </tr>\n",
       "    <tr>\n",
       "      <th>2</th>\n",
       "      <td>3</td>\n",
       "    </tr>\n",
       "    <tr>\n",
       "      <th>3</th>\n",
       "      <td>4</td>\n",
       "    </tr>\n",
       "    <tr>\n",
       "      <th>4</th>\n",
       "      <td>5</td>\n",
       "    </tr>\n",
       "    <tr>\n",
       "      <th>5</th>\n",
       "      <td>6</td>\n",
       "    </tr>\n",
       "    <tr>\n",
       "      <th>6</th>\n",
       "      <td>7</td>\n",
       "    </tr>\n",
       "    <tr>\n",
       "      <th>7</th>\n",
       "      <td>8</td>\n",
       "    </tr>\n",
       "    <tr>\n",
       "      <th>8</th>\n",
       "      <td>9</td>\n",
       "    </tr>\n",
       "    <tr>\n",
       "      <th>9</th>\n",
       "      <td>10</td>\n",
       "    </tr>\n",
       "    <tr>\n",
       "      <th>10</th>\n",
       "      <td>11</td>\n",
       "    </tr>\n",
       "    <tr>\n",
       "      <th>11</th>\n",
       "      <td>12</td>\n",
       "    </tr>\n",
       "    <tr>\n",
       "      <th>12</th>\n",
       "      <td>13</td>\n",
       "    </tr>\n",
       "    <tr>\n",
       "      <th>13</th>\n",
       "      <td>14</td>\n",
       "    </tr>\n",
       "    <tr>\n",
       "      <th>14</th>\n",
       "      <td>15</td>\n",
       "    </tr>\n",
       "  </tbody>\n",
       "</table>\n",
       "</div>"
      ],
      "text/plain": [
       "    순위\n",
       "0    1\n",
       "1    2\n",
       "2    3\n",
       "3    4\n",
       "4    5\n",
       "5    6\n",
       "6    7\n",
       "7    8\n",
       "8    9\n",
       "9   10\n",
       "10  11\n",
       "11  12\n",
       "12  13\n",
       "13  14\n",
       "14  15"
      ]
     },
     "execution_count": 5,
     "metadata": {},
     "output_type": "execute_result"
    }
   ],
   "source": [
    "# countLists만으로 DataFrame 생성 \n",
    "df = pd.DataFrame(data = countLists, columns = ['순위'])\n",
    "df"
   ]
  },
  {
   "cell_type": "code",
   "execution_count": 6,
   "metadata": {},
   "outputs": [
    {
     "data": {
      "text/html": [
       "<div>\n",
       "<style scoped>\n",
       "    .dataframe tbody tr th:only-of-type {\n",
       "        vertical-align: middle;\n",
       "    }\n",
       "\n",
       "    .dataframe tbody tr th {\n",
       "        vertical-align: top;\n",
       "    }\n",
       "\n",
       "    .dataframe thead th {\n",
       "        text-align: right;\n",
       "    }\n",
       "</style>\n",
       "<table border=\"1\" class=\"dataframe\">\n",
       "  <thead>\n",
       "    <tr style=\"text-align: right;\">\n",
       "      <th></th>\n",
       "      <th>순위</th>\n",
       "      <th>영화제목</th>\n",
       "    </tr>\n",
       "  </thead>\n",
       "  <tbody>\n",
       "    <tr>\n",
       "      <th>0</th>\n",
       "      <td>1</td>\n",
       "      <td>탑건: 매버릭</td>\n",
       "    </tr>\n",
       "    <tr>\n",
       "      <th>1</th>\n",
       "      <td>2</td>\n",
       "      <td>마녀(魔女) Part2. The Other One</td>\n",
       "    </tr>\n",
       "    <tr>\n",
       "      <th>2</th>\n",
       "      <td>3</td>\n",
       "      <td>범죄도시 2</td>\n",
       "    </tr>\n",
       "    <tr>\n",
       "      <th>3</th>\n",
       "      <td>4</td>\n",
       "      <td>브로커</td>\n",
       "    </tr>\n",
       "    <tr>\n",
       "      <th>4</th>\n",
       "      <td>5</td>\n",
       "      <td>버즈 라이트이어</td>\n",
       "    </tr>\n",
       "    <tr>\n",
       "      <th>5</th>\n",
       "      <td>6</td>\n",
       "      <td>쥬라기 월드: 도미니언</td>\n",
       "    </tr>\n",
       "    <tr>\n",
       "      <th>6</th>\n",
       "      <td>7</td>\n",
       "      <td>극장판 윌벤져스 : 수상한 캠핑 대소동</td>\n",
       "    </tr>\n",
       "    <tr>\n",
       "      <th>7</th>\n",
       "      <td>8</td>\n",
       "      <td>극장판 포켓몬스터DP: 기라티나와 하늘의 꽃다발 쉐이미</td>\n",
       "    </tr>\n",
       "    <tr>\n",
       "      <th>8</th>\n",
       "      <td>9</td>\n",
       "      <td>헤어질 결심</td>\n",
       "    </tr>\n",
       "    <tr>\n",
       "      <th>9</th>\n",
       "      <td>10</td>\n",
       "      <td>룸 쉐어링</td>\n",
       "    </tr>\n",
       "    <tr>\n",
       "      <th>10</th>\n",
       "      <td>11</td>\n",
       "      <td>니 부모 얼굴이 보고 싶다</td>\n",
       "    </tr>\n",
       "    <tr>\n",
       "      <th>11</th>\n",
       "      <td>12</td>\n",
       "      <td>로스트 시티</td>\n",
       "    </tr>\n",
       "    <tr>\n",
       "      <th>12</th>\n",
       "      <td>13</td>\n",
       "      <td>모어</td>\n",
       "    </tr>\n",
       "    <tr>\n",
       "      <th>13</th>\n",
       "      <td>14</td>\n",
       "      <td>니얼굴</td>\n",
       "    </tr>\n",
       "    <tr>\n",
       "      <th>14</th>\n",
       "      <td>15</td>\n",
       "      <td>애프터 양</td>\n",
       "    </tr>\n",
       "  </tbody>\n",
       "</table>\n",
       "</div>"
      ],
      "text/plain": [
       "    순위                            영화제목\n",
       "0    1                         탑건: 매버릭\n",
       "1    2     마녀(魔女) Part2. The Other One\n",
       "2    3                          범죄도시 2\n",
       "3    4                             브로커\n",
       "4    5                        버즈 라이트이어\n",
       "5    6                    쥬라기 월드: 도미니언\n",
       "6    7           극장판 윌벤져스 : 수상한 캠핑 대소동\n",
       "7    8  극장판 포켓몬스터DP: 기라티나와 하늘의 꽃다발 쉐이미\n",
       "8    9                          헤어질 결심\n",
       "9   10                           룸 쉐어링\n",
       "10  11                  니 부모 얼굴이 보고 싶다\n",
       "11  12                          로스트 시티\n",
       "12  13                              모어\n",
       "13  14                             니얼굴\n",
       "14  15                           애프터 양"
      ]
     },
     "execution_count": 6,
     "metadata": {},
     "output_type": "execute_result"
    }
   ],
   "source": [
    "# 기존 df에 컬럼과 List 추가하기 \n",
    "df['영화제목'] = pd.Series(titleLists) # Series는 R에서의 벡터 \n",
    "df"
   ]
  },
  {
   "cell_type": "code",
   "execution_count": 7,
   "metadata": {},
   "outputs": [],
   "source": [
    "# csv로 저장 \n",
    "\n",
    "df.to_csv(\"../Data/DaumList.csv\", encoding='utf-8', index=False)"
   ]
  },
  {
   "cell_type": "code",
   "execution_count": 8,
   "metadata": {},
   "outputs": [
    {
     "data": {
      "text/html": [
       "<div>\n",
       "<style scoped>\n",
       "    .dataframe tbody tr th:only-of-type {\n",
       "        vertical-align: middle;\n",
       "    }\n",
       "\n",
       "    .dataframe tbody tr th {\n",
       "        vertical-align: top;\n",
       "    }\n",
       "\n",
       "    .dataframe thead th {\n",
       "        text-align: right;\n",
       "    }\n",
       "</style>\n",
       "<table border=\"1\" class=\"dataframe\">\n",
       "  <thead>\n",
       "    <tr style=\"text-align: right;\">\n",
       "      <th></th>\n",
       "      <th>순위</th>\n",
       "      <th>영화제목</th>\n",
       "    </tr>\n",
       "  </thead>\n",
       "  <tbody>\n",
       "    <tr>\n",
       "      <th>0</th>\n",
       "      <td>1</td>\n",
       "      <td>탑건: 매버릭</td>\n",
       "    </tr>\n",
       "    <tr>\n",
       "      <th>1</th>\n",
       "      <td>2</td>\n",
       "      <td>마녀(魔女) Part2. The Other One</td>\n",
       "    </tr>\n",
       "    <tr>\n",
       "      <th>2</th>\n",
       "      <td>3</td>\n",
       "      <td>범죄도시 2</td>\n",
       "    </tr>\n",
       "    <tr>\n",
       "      <th>3</th>\n",
       "      <td>4</td>\n",
       "      <td>브로커</td>\n",
       "    </tr>\n",
       "    <tr>\n",
       "      <th>4</th>\n",
       "      <td>5</td>\n",
       "      <td>버즈 라이트이어</td>\n",
       "    </tr>\n",
       "    <tr>\n",
       "      <th>5</th>\n",
       "      <td>6</td>\n",
       "      <td>쥬라기 월드: 도미니언</td>\n",
       "    </tr>\n",
       "    <tr>\n",
       "      <th>6</th>\n",
       "      <td>7</td>\n",
       "      <td>극장판 윌벤져스 : 수상한 캠핑 대소동</td>\n",
       "    </tr>\n",
       "    <tr>\n",
       "      <th>7</th>\n",
       "      <td>8</td>\n",
       "      <td>극장판 포켓몬스터DP: 기라티나와 하늘의 꽃다발 쉐이미</td>\n",
       "    </tr>\n",
       "    <tr>\n",
       "      <th>8</th>\n",
       "      <td>9</td>\n",
       "      <td>헤어질 결심</td>\n",
       "    </tr>\n",
       "    <tr>\n",
       "      <th>9</th>\n",
       "      <td>10</td>\n",
       "      <td>룸 쉐어링</td>\n",
       "    </tr>\n",
       "    <tr>\n",
       "      <th>10</th>\n",
       "      <td>11</td>\n",
       "      <td>니 부모 얼굴이 보고 싶다</td>\n",
       "    </tr>\n",
       "    <tr>\n",
       "      <th>11</th>\n",
       "      <td>12</td>\n",
       "      <td>로스트 시티</td>\n",
       "    </tr>\n",
       "    <tr>\n",
       "      <th>12</th>\n",
       "      <td>13</td>\n",
       "      <td>모어</td>\n",
       "    </tr>\n",
       "    <tr>\n",
       "      <th>13</th>\n",
       "      <td>14</td>\n",
       "      <td>니얼굴</td>\n",
       "    </tr>\n",
       "    <tr>\n",
       "      <th>14</th>\n",
       "      <td>15</td>\n",
       "      <td>애프터 양</td>\n",
       "    </tr>\n",
       "  </tbody>\n",
       "</table>\n",
       "</div>"
      ],
      "text/plain": [
       "    순위                            영화제목\n",
       "0    1                         탑건: 매버릭\n",
       "1    2     마녀(魔女) Part2. The Other One\n",
       "2    3                          범죄도시 2\n",
       "3    4                             브로커\n",
       "4    5                        버즈 라이트이어\n",
       "5    6                    쥬라기 월드: 도미니언\n",
       "6    7           극장판 윌벤져스 : 수상한 캠핑 대소동\n",
       "7    8  극장판 포켓몬스터DP: 기라티나와 하늘의 꽃다발 쉐이미\n",
       "8    9                          헤어질 결심\n",
       "9   10                           룸 쉐어링\n",
       "10  11                  니 부모 얼굴이 보고 싶다\n",
       "11  12                          로스트 시티\n",
       "12  13                              모어\n",
       "13  14                             니얼굴\n",
       "14  15                           애프터 양"
      ]
     },
     "execution_count": 8,
     "metadata": {},
     "output_type": "execute_result"
    }
   ],
   "source": [
    "# csv 불러와서 확인 \n",
    "\n",
    "pd.read_csv(\"../Data/DaumList.csv\")"
   ]
  },
  {
   "cell_type": "markdown",
   "metadata": {},
   "source": [
    "--- \n",
    "# 네이버 영화 랭킹 가져와서 csv 저장하기 "
   ]
  },
  {
   "cell_type": "code",
   "execution_count": 9,
   "metadata": {},
   "outputs": [],
   "source": [
    "url = \"https://movie.naver.com/movie/sdb/rank/rmovie.naver\"\n",
    "page = urlopen(url)\n",
    "soup = BeautifulSoup(page, 'html.parser')"
   ]
  },
  {
   "cell_type": "code",
   "execution_count": 10,
   "metadata": {},
   "outputs": [
    {
     "name": "stdout",
     "output_type": "stream",
     "text": [
      "[<a href=\"/movie/bi/mi/basic.naver?code=81888\" title=\"탑건: 매버릭\">탑건: 매버릭</a>, <a href=\"/movie/bi/mi/basic.naver?code=196367\" title=\"마녀(魔女) Part2. The Other One\">마녀(魔女) Part2. The Other One</a>, <a href=\"/movie/bi/mi/basic.naver?code=192608\" title=\"범죄도시2\">범죄도시2</a>, <a href=\"/movie/bi/mi/basic.naver?code=196854\" title=\"브로커\">브로커</a>, <a href=\"/movie/bi/mi/basic.naver?code=198413\" title=\"헤어질 결심\">헤어질 결심</a>]\n"
     ]
    }
   ],
   "source": [
    "# 크롤링 \n",
    "#old_content > table > tbody > tr:nth-child(2) > td.title > div > a\n",
    "li_list = soup.select(\"#old_content > table > tbody > tr > td.title > div > a\")[:5]\n",
    "print(li_list)\n"
   ]
  },
  {
   "cell_type": "code",
   "execution_count": 11,
   "metadata": {},
   "outputs": [
    {
     "name": "stdout",
     "output_type": "stream",
     "text": [
      "1 탑건: 매버릭\n",
      "2 마녀(魔女) Part2. The Other One\n",
      "3 범죄도시2\n",
      "4 브로커\n",
      "5 헤어질 결심\n"
     ]
    }
   ],
   "source": [
    "# 리스트 만들기 \n",
    "count = 0 # 순위 매기는 숫자 \n",
    "titleLists = [] # 영화제목 리스트 \n",
    "countLists = [] # 순위 리스트 \n",
    "for list in li_list : \n",
    "    count += 1 \n",
    "    print(count, list.string.strip())\n",
    "    countLists.append(count)\n",
    "    titleLists.append(list.string.strip())"
   ]
  },
  {
   "cell_type": "code",
   "execution_count": 12,
   "metadata": {},
   "outputs": [
    {
     "data": {
      "text/html": [
       "<div>\n",
       "<style scoped>\n",
       "    .dataframe tbody tr th:only-of-type {\n",
       "        vertical-align: middle;\n",
       "    }\n",
       "\n",
       "    .dataframe tbody tr th {\n",
       "        vertical-align: top;\n",
       "    }\n",
       "\n",
       "    .dataframe thead th {\n",
       "        text-align: right;\n",
       "    }\n",
       "</style>\n",
       "<table border=\"1\" class=\"dataframe\">\n",
       "  <thead>\n",
       "    <tr style=\"text-align: right;\">\n",
       "      <th></th>\n",
       "      <th>Index</th>\n",
       "      <th>Title</th>\n",
       "    </tr>\n",
       "  </thead>\n",
       "  <tbody>\n",
       "    <tr>\n",
       "      <th>0</th>\n",
       "      <td>1</td>\n",
       "      <td>탑건: 매버릭</td>\n",
       "    </tr>\n",
       "    <tr>\n",
       "      <th>1</th>\n",
       "      <td>2</td>\n",
       "      <td>마녀(魔女) Part2. The Other One</td>\n",
       "    </tr>\n",
       "    <tr>\n",
       "      <th>2</th>\n",
       "      <td>3</td>\n",
       "      <td>범죄도시2</td>\n",
       "    </tr>\n",
       "    <tr>\n",
       "      <th>3</th>\n",
       "      <td>4</td>\n",
       "      <td>브로커</td>\n",
       "    </tr>\n",
       "    <tr>\n",
       "      <th>4</th>\n",
       "      <td>5</td>\n",
       "      <td>헤어질 결심</td>\n",
       "    </tr>\n",
       "  </tbody>\n",
       "</table>\n",
       "</div>"
      ],
      "text/plain": [
       "   Index                        Title\n",
       "0      1                      탑건: 매버릭\n",
       "1      2  마녀(魔女) Part2. The Other One\n",
       "2      3                        범죄도시2\n",
       "3      4                          브로커\n",
       "4      5                       헤어질 결심"
      ]
     },
     "execution_count": 12,
     "metadata": {},
     "output_type": "execute_result"
    }
   ],
   "source": [
    "# dict -> df \n",
    "df_dict = {'Index' : countLists, 'Title'  :titleLists}\n",
    "df = pd.DataFrame(df_dict)\n",
    "df"
   ]
  },
  {
   "cell_type": "code",
   "execution_count": 13,
   "metadata": {},
   "outputs": [],
   "source": [
    "# df 저장 \n",
    "df.to_csv(\"../Data/naverRanking.csv\", encoding='utf-8', index=False)"
   ]
  },
  {
   "cell_type": "code",
   "execution_count": 14,
   "metadata": {},
   "outputs": [
    {
     "data": {
      "text/html": [
       "<div>\n",
       "<style scoped>\n",
       "    .dataframe tbody tr th:only-of-type {\n",
       "        vertical-align: middle;\n",
       "    }\n",
       "\n",
       "    .dataframe tbody tr th {\n",
       "        vertical-align: top;\n",
       "    }\n",
       "\n",
       "    .dataframe thead th {\n",
       "        text-align: right;\n",
       "    }\n",
       "</style>\n",
       "<table border=\"1\" class=\"dataframe\">\n",
       "  <thead>\n",
       "    <tr style=\"text-align: right;\">\n",
       "      <th></th>\n",
       "      <th>Index</th>\n",
       "      <th>Title</th>\n",
       "    </tr>\n",
       "  </thead>\n",
       "  <tbody>\n",
       "    <tr>\n",
       "      <th>0</th>\n",
       "      <td>1</td>\n",
       "      <td>탑건: 매버릭</td>\n",
       "    </tr>\n",
       "    <tr>\n",
       "      <th>1</th>\n",
       "      <td>2</td>\n",
       "      <td>마녀(魔女) Part2. The Other One</td>\n",
       "    </tr>\n",
       "    <tr>\n",
       "      <th>2</th>\n",
       "      <td>3</td>\n",
       "      <td>범죄도시2</td>\n",
       "    </tr>\n",
       "    <tr>\n",
       "      <th>3</th>\n",
       "      <td>4</td>\n",
       "      <td>브로커</td>\n",
       "    </tr>\n",
       "    <tr>\n",
       "      <th>4</th>\n",
       "      <td>5</td>\n",
       "      <td>헤어질 결심</td>\n",
       "    </tr>\n",
       "  </tbody>\n",
       "</table>\n",
       "</div>"
      ],
      "text/plain": [
       "   Index                        Title\n",
       "0      1                      탑건: 매버릭\n",
       "1      2  마녀(魔女) Part2. The Other One\n",
       "2      3                        범죄도시2\n",
       "3      4                          브로커\n",
       "4      5                       헤어질 결심"
      ]
     },
     "execution_count": 14,
     "metadata": {},
     "output_type": "execute_result"
    }
   ],
   "source": [
    "# 읽어오기 \n",
    "pd.read_csv(\"../Data/naverRanking.csv\")"
   ]
  },
  {
   "cell_type": "code",
   "execution_count": null,
   "metadata": {},
   "outputs": [],
   "source": []
  }
 ],
 "metadata": {
  "kernelspec": {
   "display_name": "Python 3.9.7 ('base')",
   "language": "python",
   "name": "python3"
  },
  "language_info": {
   "codemirror_mode": {
    "name": "ipython",
    "version": 3
   },
   "file_extension": ".py",
   "mimetype": "text/x-python",
   "name": "python",
   "nbconvert_exporter": "python",
   "pygments_lexer": "ipython3",
   "version": "3.9.7"
  },
  "orig_nbformat": 4,
  "vscode": {
   "interpreter": {
    "hash": "c34e8390e776d2ee205b71ed5a6130fee3cef8da5e87e926ce18e14f4a070d72"
   }
  }
 },
 "nbformat": 4,
 "nbformat_minor": 2
}
