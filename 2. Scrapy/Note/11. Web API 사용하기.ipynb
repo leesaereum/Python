{
 "cells": [
  {
   "cell_type": "code",
   "execution_count": 8,
   "metadata": {},
   "outputs": [
    {
     "name": "stdout",
     "output_type": "stream",
     "text": [
      "{'status': 'OK', 'meta': {'totalCount': 1, 'page': 1, 'count': 1}, 'addresses': [{'roadAddress': '서울특별시 관악구 장군봉9길 15', 'jibunAddress': '서울특별시 관악구 봉천동 1533-10', 'englishAddress': '15, Janggunbong 9-gil, Gwanak-gu, Seoul, Republic of Korea', 'addressElements': [{'types': ['SIDO'], 'longName': '서울특별시', 'shortName': '서울특별시', 'code': ''}, {'types': ['SIGUGUN'], 'longName': '관악구', 'shortName': '관악구', 'code': ''}, {'types': ['DONGMYUN'], 'longName': '봉천동', 'shortName': '봉천동', 'code': ''}, {'types': ['RI'], 'longName': '', 'shortName': '', 'code': ''}, {'types': ['ROAD_NAME'], 'longName': '장군봉9길', 'shortName': '장군봉9길', 'code': ''}, {'types': ['BUILDING_NUMBER'], 'longName': '15', 'shortName': '15', 'code': ''}, {'types': ['BUILDING_NAME'], 'longName': '', 'shortName': '', 'code': ''}, {'types': ['LAND_NUMBER'], 'longName': '1533-10', 'shortName': '1533-10', 'code': ''}, {'types': ['POSTAL_CODE'], 'longName': '08784', 'shortName': '08784', 'code': ''}], 'x': '126.9394099', 'y': '37.4801542', 'distance': 0.0}], 'errorMessage': ''}\n"
     ]
    }
   ],
   "source": [
    "import urllib.request\n",
    "client_id = \"betup3nrn0\"\n",
    "client_secret = \"I2aAkQI1ZMiUJaNl4dwHTYgUnMTbcSotqt87TFvh\"\n",
    "\n",
    "encText = urllib.parse.quote(\"서울시 관악구 봉천동 1533-10\")\n",
    "url = \"https://naveropenapi.apigw.ntruss.com/map-geocode/v2/geocode?query=\"+encText #JSON\n",
    "request = urllib.request.Request(url)\n",
    "\n",
    "request.add_header(\"X-NCP-APIGW-API-KEY-ID\",client_id)\n",
    "request.add_header(\"X-NCP-APIGW-API-KEY\",client_secret)\n",
    "\n",
    "response = urllib.request.urlopen(request)\n",
    "rescode = response.getcode()\n",
    "\n",
    "if rescode == 200:\n",
    "    response_body = response.read()\n",
    "    enText = response_body.decode('utf-8')\n",
    "else:\n",
    "    print(\"Error Code:\"+rescode)\n",
    "\n",
    "import json\n",
    "data1 = json.loads(enText)\n",
    "print(data1)"
   ]
  },
  {
   "cell_type": "code",
   "execution_count": 9,
   "metadata": {},
   "outputs": [
    {
     "data": {
      "text/plain": [
       "{'status': 'OK',\n",
       " 'meta': {'totalCount': 1, 'page': 1, 'count': 1},\n",
       " 'addresses': [{'roadAddress': '서울특별시 관악구 장군봉9길 15',\n",
       "   'jibunAddress': '서울특별시 관악구 봉천동 1533-10',\n",
       "   'englishAddress': '15, Janggunbong 9-gil, Gwanak-gu, Seoul, Republic of Korea',\n",
       "   'addressElements': [{'types': ['SIDO'],\n",
       "     'longName': '서울특별시',\n",
       "     'shortName': '서울특별시',\n",
       "     'code': ''},\n",
       "    {'types': ['SIGUGUN'], 'longName': '관악구', 'shortName': '관악구', 'code': ''},\n",
       "    {'types': ['DONGMYUN'], 'longName': '봉천동', 'shortName': '봉천동', 'code': ''},\n",
       "    {'types': ['RI'], 'longName': '', 'shortName': '', 'code': ''},\n",
       "    {'types': ['ROAD_NAME'],\n",
       "     'longName': '장군봉9길',\n",
       "     'shortName': '장군봉9길',\n",
       "     'code': ''},\n",
       "    {'types': ['BUILDING_NUMBER'],\n",
       "     'longName': '15',\n",
       "     'shortName': '15',\n",
       "     'code': ''},\n",
       "    {'types': ['BUILDING_NAME'], 'longName': '', 'shortName': '', 'code': ''},\n",
       "    {'types': ['LAND_NUMBER'],\n",
       "     'longName': '1533-10',\n",
       "     'shortName': '1533-10',\n",
       "     'code': ''},\n",
       "    {'types': ['POSTAL_CODE'],\n",
       "     'longName': '08784',\n",
       "     'shortName': '08784',\n",
       "     'code': ''}],\n",
       "   'x': '126.9394099',\n",
       "   'y': '37.4801542',\n",
       "   'distance': 0.0}],\n",
       " 'errorMessage': ''}"
      ]
     },
     "execution_count": 9,
     "metadata": {},
     "output_type": "execute_result"
    }
   ],
   "source": [
    "data1"
   ]
  },
  {
   "cell_type": "code",
   "execution_count": 10,
   "metadata": {},
   "outputs": [
    {
     "name": "stdout",
     "output_type": "stream",
     "text": [
      "126.9394099\n",
      "37.4801542\n"
     ]
    }
   ],
   "source": [
    "# 경도 확인\n",
    "lng = data1['addresses'][0]['x']\n",
    "print(lng)\n",
    "\n",
    "# 위도 확인\n",
    "lat = data1['addresses'][0]['y']\n",
    "print(lat)\n"
   ]
  },
  {
   "cell_type": "markdown",
   "metadata": {},
   "source": [
    "---\n",
    "# OpenWeatherMap\n",
    "- http://openweathermap.org\n",
    ": 기본적으로 유료이지만, 현재 날씨와 5일까지의 날씨는 무료로 사용가능\n",
    "- 등록 : https://home.openweathermap.org/users/sign_up"
   ]
  },
  {
   "cell_type": "code",
   "execution_count": null,
   "metadata": {},
   "outputs": [],
   "source": [
    "### 서울, 도쿄, 북경, 뉴욕의 날씨 출력하기\n"
   ]
  },
  {
   "cell_type": "code",
   "execution_count": 11,
   "metadata": {},
   "outputs": [],
   "source": [
    "import requests\n",
    "import json"
   ]
  },
  {
   "cell_type": "code",
   "execution_count": 12,
   "metadata": {},
   "outputs": [],
   "source": [
    "apikey = \"c32d8366ba369814b84936c9e76e63a4\""
   ]
  },
  {
   "cell_type": "code",
   "execution_count": 58,
   "metadata": {},
   "outputs": [],
   "source": [
    "# 날씨를 확인할 도시 지정하기\n",
    "cities = ['Seoul,KR','Tokyo,JP','New York,US','Beijing, CN']"
   ]
  },
  {
   "cell_type": "code",
   "execution_count": 43,
   "metadata": {},
   "outputs": [],
   "source": [
    "api = \"http://api.openweathermap.org/data/2.5/weather?q={city}&APPID={key}\""
   ]
  },
  {
   "cell_type": "code",
   "execution_count": 54,
   "metadata": {},
   "outputs": [],
   "source": [
    "# 켈빈 온도를 섭씨 온도로 변환\n",
    "k2c = lambda k : k - 273.15"
   ]
  },
  {
   "cell_type": "code",
   "execution_count": 59,
   "metadata": {},
   "outputs": [
    {
     "name": "stdout",
     "output_type": "stream",
     "text": [
      "+ 도시 = Seoul\n",
      "| 날씨 = moderate rain\n",
      "| 최저 기온 = 24.689999999999998\n",
      "| 최고 기온 = 28.660000000000025\n",
      "| 습도 = 92\n",
      "| 기압 = 1003\n",
      "| 풍향 = 213\n",
      "| 풍향 = 6.37\n",
      "\n",
      "+ 도시 = Tokyo\n",
      "| 날씨 = scattered clouds\n",
      "| 최저 기온 = 27.590000000000032\n",
      "| 최고 기온 = 34.879999999999995\n",
      "| 습도 = 63\n",
      "| 기압 = 1008\n",
      "| 풍향 = 180\n",
      "| 풍향 = 7.72\n",
      "\n",
      "+ 도시 = New York\n",
      "| 날씨 = scattered clouds\n",
      "| 최저 기온 = 15.050000000000011\n",
      "| 최고 기온 = 20.55000000000001\n",
      "| 습도 = 61\n",
      "| 기압 = 1018\n",
      "| 풍향 = 358\n",
      "| 풍향 = 3.13\n",
      "\n",
      "+ 도시 = Beijing\n",
      "| 날씨 = overcast clouds\n",
      "| 최저 기온 = 25.939999999999998\n",
      "| 최고 기온 = 25.939999999999998\n",
      "| 습도 = 44\n",
      "| 기압 = 996\n",
      "| 풍향 = 330\n",
      "| 풍향 = 1.64\n",
      "\n"
     ]
    }
   ],
   "source": [
    "# 각 도시의 정보 추출하기\n",
    "for name in cities:\n",
    "    # API의 URL 구성하기\n",
    "    url = api.format(city=name,key = apikey)\n",
    "    # API에 요청을 보내 데이터 추출하기\n",
    "    r = requests.get(url)\n",
    "    # 결과를 Json형식으로 변환\n",
    "    data = json.loads(r.text)\n",
    "    # 결과 출력하기\n",
    "    print(\"+ 도시 =\",data['name'])\n",
    "    print(\"| 날씨 =\",data['weather'][0]['description'])\n",
    "    print(\"| 최저 기온 =\",k2c(data['main']['temp_min']))\n",
    "    print(\"| 최고 기온 =\",k2c(data['main']['temp_max']))\n",
    "    print(\"| 습도 =\",data['main']['humidity'])\n",
    "    print(\"| 기압 =\",data['main']['pressure'])\n",
    "    print(\"| 풍향 =\",data['wind']['deg'])\n",
    "    print(\"| 풍향 =\",data['wind']['speed'])\n",
    "    print(\"\")\n"
   ]
  },
  {
   "cell_type": "code",
   "execution_count": 49,
   "metadata": {},
   "outputs": [
    {
     "data": {
      "text/plain": [
       "{'cod': '404', 'message': 'city not found'}"
      ]
     },
     "execution_count": 49,
     "metadata": {},
     "output_type": "execute_result"
    }
   ],
   "source": [
    "data"
   ]
  },
  {
   "cell_type": "code",
   "execution_count": null,
   "metadata": {},
   "outputs": [],
   "source": []
  }
 ],
 "metadata": {
  "kernelspec": {
   "display_name": "Python 3.9.7 ('base')",
   "language": "python",
   "name": "python3"
  },
  "language_info": {
   "codemirror_mode": {
    "name": "ipython",
    "version": 3
   },
   "file_extension": ".py",
   "mimetype": "text/x-python",
   "name": "python",
   "nbconvert_exporter": "python",
   "pygments_lexer": "ipython3",
   "version": "3.9.7"
  },
  "orig_nbformat": 4,
  "vscode": {
   "interpreter": {
    "hash": "c34e8390e776d2ee205b71ed5a6130fee3cef8da5e87e926ce18e14f4a070d72"
   }
  }
 },
 "nbformat": 4,
 "nbformat_minor": 2
}
