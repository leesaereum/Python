{
 "cells": [
  {
   "cell_type": "code",
   "execution_count": 1,
   "metadata": {},
   "outputs": [
    {
     "name": "stdout",
     "output_type": "stream",
     "text": [
      "나무를 1번 찍었습니다\n",
      "나무를 2번 찍었습니다\n",
      "나무를 3번 찍었습니다\n",
      "나무를 4번 찍었습니다\n",
      "나무를 5번 찍었습니다\n",
      "나무를 6번 찍었습니다\n",
      "나무를 7번 찍었습니다\n",
      "나무를 8번 찍었습니다\n",
      "나무를 9번 찍었습니다\n",
      "나무를 10번 찍었습니다\n",
      "나무 넘어 갑니다.\n"
     ]
    }
   ],
   "source": [
    "treeHit = 0\n",
    "while treeHit < 10:\n",
    "    treeHit += 1\n",
    "    print(\"나무를 %d번 찍었습니다\"%treeHit)\n",
    "    if treeHit == 10:\n",
    "        print(\"나무 넘어 갑니다.\")"
   ]
  },
  {
   "cell_type": "code",
   "execution_count": 4,
   "metadata": {},
   "outputs": [],
   "source": [
    "prompt = \"\"\"\n",
    "    1. 덧셈\n",
    "    2. 곱셈\n",
    "    3. 나눗셈\n",
    "    4. 종료\n",
    "\n",
    "    숫자를 입력하세요:\n",
    "\"\"\"\n"
   ]
  },
  {
   "cell_type": "code",
   "execution_count": 5,
   "metadata": {},
   "outputs": [
    {
     "name": "stdout",
     "output_type": "stream",
     "text": [
      "\n",
      "    1. 덧셈\n",
      "    2. 곱셈\n",
      "    3. 나눗셈\n",
      "    4. 종료\n",
      "\n",
      "    숫자를 입력하세요:\n",
      "\n"
     ]
    }
   ],
   "source": [
    "number = 0\n",
    "while number != 4 :\n",
    "    print(prompt)\n",
    "    number = int(input())\n",
    "    "
   ]
  },
  {
   "cell_type": "markdown",
   "metadata": {},
   "source": [
    "5번의 커피를 판매할 수 있는 커피 자판기가 있다.\n",
    "<br>커피의 금액은 300원이다.\n",
    "<br>300원 보다 큰 금액을 입력하면 커피를 주고(커피의 판매횟수 감소) 거스름돈을 준다.\n",
    "<br>커피의 판매 횟수르 소진하면 판매를 중지한다,"
   ]
  },
  {
   "cell_type": "code",
   "execution_count": 9,
   "metadata": {},
   "outputs": [
    {
     "name": "stdout",
     "output_type": "stream",
     "text": [
      "금액을 입력하세요!\n",
      "현재 금액 200 으로 판매 금액 300원보다 적게 입력되었습니다 \n",
      "추가 금액을 입력해주세요.\n",
      "커피 제공쓰 :)\n",
      "거스름돈은 없습니다.\n",
      "금액을 입력하세요!\n",
      "커피 제공쓰 :)\n",
      "거스름돈은 없습니다.\n",
      "금액을 입력하세요!\n",
      "커피 제공쓰 :)\n",
      "거스름돈은 없습니다.\n",
      "금액을 입력하세요!\n",
      "커피 제공쓰 :)\n",
      "거스름돈은 없습니다.\n",
      "금액을 입력하세요!\n",
      "커피 제공쓰 :)\n",
      "거스름돈은 없습니다.\n",
      "커피 판매 끝~~~~~\n"
     ]
    }
   ],
   "source": [
    "coffee = 5\n",
    "money = 0\n",
    "while coffee != 0 :\n",
    "    print(\"금액을 입력하세요!\")\n",
    "    money = int(input())\n",
    "    if money < 300:\n",
    "        while money < 300:\n",
    "            print(\"현재 금액\",money,\"으로 판매 금액 300원보다 적게 입력되었습니다 \\n추가 금액을 입력해주세요.\")\n",
    "            money = money + int(input())\n",
    "    if money > 300:\n",
    "        print(\"커피 제공쓰 :)\")\n",
    "        print(\"거스름돈은\",money-300,\"원 입니다.\")\n",
    "        money = 0\n",
    "    elif money == 300:\n",
    "        print(\"커피 제공쓰 :)\")\n",
    "        print(\"거스름돈은 없습니다.\")\n",
    "        money = 0\n",
    "    coffee -=1\n",
    "print(\"커피 판매 끝~~~~~\")\n"
   ]
  },
  {
   "cell_type": "code",
   "execution_count": 10,
   "metadata": {},
   "outputs": [
    {
     "name": "stdout",
     "output_type": "stream",
     "text": [
      "0\n",
      "1\n",
      "2\n",
      "3\n",
      "4\n"
     ]
    }
   ],
   "source": [
    "# break 문을 사용하여 a가 5인 경우 while문 빠져나가기\n",
    "\n",
    "var = 0\n",
    "while var < 10 :\n",
    "    print(var)\n",
    "    var += 1\n",
    "    if var == 5 :\n",
    "        break"
   ]
  },
  {
   "cell_type": "code",
   "execution_count": 1,
   "metadata": {},
   "outputs": [
    {
     "name": "stdout",
     "output_type": "stream",
     "text": [
      "1\n",
      "2\n",
      "3\n",
      "4\n",
      "6\n",
      "7\n",
      "8\n",
      "9\n",
      "10\n"
     ]
    }
   ],
   "source": [
    "# 10보다 작은 수 중 5인 경우에만 출력 안하고 나머지 숫자는 출력하기\n",
    "var = 0\n",
    "while var < 10:\n",
    "    var += 1\n",
    "    if var == 5:\n",
    "        continue\n",
    "    print(var)\n",
    "    "
   ]
  },
  {
   "cell_type": "code",
   "execution_count": 3,
   "metadata": {},
   "outputs": [
    {
     "name": "stdout",
     "output_type": "stream",
     "text": [
      "1\n",
      "3\n",
      "5\n",
      "7\n",
      "9\n"
     ]
    }
   ],
   "source": [
    "# continue 문을 사용하여 홀수 숫자만 출력하기\n",
    "\n",
    "var = 0\n",
    "while var < 10:\n",
    "    var += 1\n",
    "    if var % 2 == 0:\n",
    "        continue\n",
    "    print(var)"
   ]
  },
  {
   "cell_type": "code",
   "execution_count": 1,
   "metadata": {},
   "outputs": [
    {
     "name": "stdout",
     "output_type": "stream",
     "text": [
      "노력\n",
      "우수\n",
      "우수\n",
      "노력\n"
     ]
    }
   ],
   "source": [
    "# 점수가 80점 이상이면 우수, 나머지는 노력으로 출력 ver.1\n",
    "scores = [78,85,95,65]\n",
    "\n",
    "var = 0\n",
    "while var < len(scores):\n",
    "    if scores[var] >= 80:\n",
    "        print(\"우수\")\n",
    "    else:\n",
    "        print(\"노력\")\n",
    "\n",
    "    var +=1\n",
    "    "
   ]
  },
  {
   "cell_type": "code",
   "execution_count": 3,
   "metadata": {},
   "outputs": [
    {
     "name": "stdout",
     "output_type": "stream",
     "text": [
      "노력\n",
      "우수\n",
      "우수\n",
      "노력\n"
     ]
    }
   ],
   "source": [
    "# 점수가 80점 이상이면 우수, 나머지는 노력으로 출력 ver.2\n",
    "scores = [78,85,95,65]\n",
    "while scores:\n",
    "    result = \"우수\" if scores.pop(0) >= 80 else \"노력\"\n",
    "    print(result)\n",
    "    "
   ]
  },
  {
   "cell_type": "code",
   "execution_count": 4,
   "metadata": {},
   "outputs": [
    {
     "name": "stdout",
     "output_type": "stream",
     "text": [
      "80.75\n"
     ]
    }
   ],
   "source": [
    "# 평균 구하기 ver.1\n",
    "\n",
    "list_length = len(scores)\n",
    "total = 0\n",
    "\n",
    "while scores:\n",
    "    total += scores.pop()\n",
    "\n",
    "print(total/list_length)"
   ]
  },
  {
   "cell_type": "code",
   "execution_count": 5,
   "metadata": {},
   "outputs": [],
   "source": [
    "import numpy as np"
   ]
  },
  {
   "cell_type": "code",
   "execution_count": 7,
   "metadata": {},
   "outputs": [
    {
     "data": {
      "text/plain": [
       "80.75"
      ]
     },
     "execution_count": 7,
     "metadata": {},
     "output_type": "execute_result"
    }
   ],
   "source": [
    "scores = [78,85,95,65]\n",
    "np.mean(scores)"
   ]
  },
  {
   "cell_type": "code",
   "execution_count": 9,
   "metadata": {},
   "outputs": [],
   "source": [
    "# 표준편차 : 분산(평균과 각 Data의 차이의 제곱한 것의 합의 평균)의 제곱근"
   ]
  },
  {
   "cell_type": "code",
   "execution_count": 12,
   "metadata": {},
   "outputs": [
    {
     "name": "stdout",
     "output_type": "stream",
     "text": [
      "80.75\n",
      "119.1875\n"
     ]
    },
    {
     "data": {
      "text/plain": [
       "10.917302780449024"
      ]
     },
     "execution_count": 12,
     "metadata": {},
     "output_type": "execute_result"
    }
   ],
   "source": [
    "import math\n",
    "scores = [78,85,95,65]\n",
    "\n",
    "# 평균 구하기\n",
    "total = 0\n",
    "var = 0\n",
    "while var < len(scores):\n",
    "    total += scores[var]\n",
    "    var += 1\n",
    "\n",
    "avg = total / var\n",
    "print(avg)\n",
    "\n",
    "# 각 데이터와 평균의 차이의 제곱의 합의 평균 구하기\n",
    "total = 0\n",
    "var = 0\n",
    "while var < len(scores):\n",
    "    total += (scores[var]-avg)**2\n",
    "    var += 1\n",
    "\n",
    "avg = total / var\n",
    "print(avg)\n",
    "\n",
    "# 제곱근 씌우기\n",
    "math.sqrt(avg)"
   ]
  },
  {
   "cell_type": "code",
   "execution_count": 13,
   "metadata": {},
   "outputs": [
    {
     "data": {
      "text/plain": [
       "10.917302780449024"
      ]
     },
     "execution_count": 13,
     "metadata": {},
     "output_type": "execute_result"
    }
   ],
   "source": [
    "scores = [78,85,95,65]\n",
    "np.std(scores)"
   ]
  },
  {
   "cell_type": "code",
   "execution_count": null,
   "metadata": {},
   "outputs": [],
   "source": []
  }
 ],
 "metadata": {
  "kernelspec": {
   "display_name": "Python 3.9.7 ('base')",
   "language": "python",
   "name": "python3"
  },
  "language_info": {
   "codemirror_mode": {
    "name": "ipython",
    "version": 3
   },
   "file_extension": ".py",
   "mimetype": "text/x-python",
   "name": "python",
   "nbconvert_exporter": "python",
   "pygments_lexer": "ipython3",
   "version": "3.9.7"
  },
  "orig_nbformat": 4,
  "vscode": {
   "interpreter": {
    "hash": "f3b43e4bd4bbcc86dd5566c7a363c0ccf178284afe72937e9ac3cb2743b4c23c"
   }
  }
 },
 "nbformat": 4,
 "nbformat_minor": 2
}
