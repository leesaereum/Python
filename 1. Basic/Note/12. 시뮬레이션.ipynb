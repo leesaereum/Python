{
 "cells": [
  {
   "cell_type": "markdown",
   "metadata": {},
   "source": [
    "# 몬테카를로 시뮬레이션\n",
    ": 자료가 없을 경우 난수를 통해서 가설 증명"
   ]
  },
  {
   "cell_type": "code",
   "execution_count": 11,
   "metadata": {},
   "outputs": [
    {
     "data": {
      "text/plain": [
       "0"
      ]
     },
     "execution_count": 11,
     "metadata": {},
     "output_type": "execute_result"
    }
   ],
   "source": [
    "# 동전의 앞면과 뒷면이 나올 확률이 같다는 것을 증명\n",
    "import random\n",
    "\n",
    "random.randint(0,1)"
   ]
  },
  {
   "cell_type": "code",
   "execution_count": 4,
   "metadata": {},
   "outputs": [],
   "source": [
    "def coinF(n):\n",
    "    coinFront = coinRear = 0\n",
    "    for i in range(1,n+1):\n",
    "        x = random.randint(1,2)\n",
    "        if x == 1:\n",
    "            coinFront +=1\n",
    "        else:\n",
    "            coinRear +=1\n",
    "    print(\"%7d번 시도시 동전의 앞면은 %6d번이고 동전의 뒷면은 %6d번 입니다.\"%(n,coinFront,coinRear))"
   ]
  },
  {
   "cell_type": "code",
   "execution_count": 5,
   "metadata": {},
   "outputs": [
    {
     "name": "stdout",
     "output_type": "stream",
     "text": [
      "     10번 시도시 동전의 앞면은      5번이고 동전의 뒷면은      5번 입니다.\n",
      "    100번 시도시 동전의 앞면은     43번이고 동전의 뒷면은     57번 입니다.\n",
      "   1000번 시도시 동전의 앞면은    512번이고 동전의 뒷면은    488번 입니다.\n",
      "  10000번 시도시 동전의 앞면은   5020번이고 동전의 뒷면은   4980번 입니다.\n",
      " 100000번 시도시 동전의 앞면은  49970번이고 동전의 뒷면은  50030번 입니다.\n"
     ]
    }
   ],
   "source": [
    "coinF(10)\n",
    "coinF(100)\n",
    "coinF(1000)\n",
    "coinF(10000)\n",
    "coinF(100000)"
   ]
  },
  {
   "cell_type": "code",
   "execution_count": 14,
   "metadata": {},
   "outputs": [],
   "source": [
    "def gameF(n):\n",
    "    r1=r2=r3=0\n",
    "    for i in range(1,n+1):\n",
    "        x = random.randint(0,2)\n",
    "        if x == 0:\n",
    "            r1 +=1\n",
    "        elif x == 1:\n",
    "            r2 +=1\n",
    "        else:\n",
    "            r3 +=1\n",
    "    print(\"%7d번 시도시 가위는 %6d번이고 바위는 %6d번이고 보는 %6d번입니다.\"%(n,r1,r2,r3))"
   ]
  },
  {
   "cell_type": "code",
   "execution_count": 18,
   "metadata": {},
   "outputs": [
    {
     "name": "stdout",
     "output_type": "stream",
     "text": [
      "     10번 시도시 가위는      4번이고 바위는      3번이고 보는      3번입니다.\n",
      "    100번 시도시 가위는     33번이고 바위는     34번이고 보는     33번입니다.\n",
      "   1000번 시도시 가위는    349번이고 바위는    322번이고 보는    329번입니다.\n",
      "  10000번 시도시 가위는   3396번이고 바위는   3274번이고 보는   3330번입니다.\n",
      " 100000번 시도시 가위는  33666번이고 바위는  33227번이고 보는  33107번입니다.\n",
      "1000000번 시도시 가위는 333769번이고 바위는 333124번이고 보는 333107번입니다.\n"
     ]
    }
   ],
   "source": [
    "gameF(10)\n",
    "gameF(100)\n",
    "gameF(1000)\n",
    "gameF(10000)\n",
    "gameF(100000)\n",
    "gameF(1000000)"
   ]
  },
  {
   "cell_type": "code",
   "execution_count": null,
   "metadata": {},
   "outputs": [],
   "source": []
  }
 ],
 "metadata": {
  "kernelspec": {
   "display_name": "Python 3.8.9 64-bit",
   "language": "python",
   "name": "python3"
  },
  "language_info": {
   "codemirror_mode": {
    "name": "ipython",
    "version": 3
   },
   "file_extension": ".py",
   "mimetype": "text/x-python",
   "name": "python",
   "nbconvert_exporter": "python",
   "pygments_lexer": "ipython3",
   "version": "3.8.9"
  },
  "orig_nbformat": 4,
  "vscode": {
   "interpreter": {
    "hash": "31f2aee4e71d21fbe5cf8b01ff0e069b9275f58929596ceb00d14d90e3e16cd6"
   }
  }
 },
 "nbformat": 4,
 "nbformat_minor": 2
}
