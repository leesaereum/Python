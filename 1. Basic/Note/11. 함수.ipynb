{
 "cells": [
  {
   "cell_type": "markdown",
   "metadata": {},
   "source": [
    "# numpy 내장함수"
   ]
  },
  {
   "cell_type": "code",
   "execution_count": 4,
   "metadata": {},
   "outputs": [],
   "source": [
    "import numpy as np"
   ]
  },
  {
   "cell_type": "code",
   "execution_count": 10,
   "metadata": {},
   "outputs": [
    {
     "name": "stdout",
     "output_type": "stream",
     "text": [
      "5.5\n",
      "55\n",
      "8.25\n",
      "2.8722813232690143\n",
      "True\n"
     ]
    }
   ],
   "source": [
    "# 평균\n",
    "print(np.mean(range(1,11)))\n",
    "\n",
    "# 합계\n",
    "print(np.sum(range(1,11)))\n",
    "\n",
    "# 분산\n",
    "print(np.var(range(1,11)))\n",
    "\n",
    "# 표준편차\n",
    "print(np.std(range(1,11)))\n",
    "\n",
    "# 분산의 제곱근이 표준편차?\n",
    "print(np.sqrt(np.var(range(1,11))) == np.std(range(1,11)))"
   ]
  },
  {
   "cell_type": "code",
   "execution_count": 24,
   "metadata": {},
   "outputs": [
    {
     "name": "stdout",
     "output_type": "stream",
     "text": [
      "10\n",
      "1\n",
      "5.5\n",
      "[ 1  3  6 10 15 21 28 36 45 55]\n",
      "55\n"
     ]
    }
   ],
   "source": [
    "# 최댓값 \n",
    "print(np.max(range(1,11)))\n",
    "\n",
    "# 최소값 \n",
    "print(np.min(range(1,11)))\n",
    "\n",
    "# 중앙값\n",
    "print(np.median(range(1,11)))\n",
    "\n",
    "# 누적합\n",
    "print(np.cumsum(range(1,11)))\n",
    "\n",
    "# 누적합 마지막 값만 노출\n",
    "print(list(np.cumsum(range(1,11)))[-1])"
   ]
  },
  {
   "cell_type": "code",
   "execution_count": 18,
   "metadata": {},
   "outputs": [
    {
     "data": {
      "text/plain": [
       "array([      1,       2,       6,      24,     120,     720,    5040,\n",
       "         40320,  362880, 3628800])"
      ]
     },
     "execution_count": 18,
     "metadata": {},
     "output_type": "execute_result"
    }
   ],
   "source": [
    "# 누적곱\n",
    "np.cumprod(range(1,11))"
   ]
  },
  {
   "cell_type": "markdown",
   "metadata": {},
   "source": [
    "---\n",
    "# 사용자 정의 함수"
   ]
  },
  {
   "cell_type": "code",
   "execution_count": 25,
   "metadata": {},
   "outputs": [],
   "source": [
    "def hiF():\n",
    "    return \"Hi\""
   ]
  },
  {
   "cell_type": "code",
   "execution_count": 27,
   "metadata": {},
   "outputs": [
    {
     "name": "stdout",
     "output_type": "stream",
     "text": [
      "Hi\n"
     ]
    }
   ],
   "source": [
    "var = hiF()\n",
    "print(var)"
   ]
  },
  {
   "cell_type": "code",
   "execution_count": 28,
   "metadata": {},
   "outputs": [],
   "source": [
    "def test2(x,y):\n",
    "    return x + y"
   ]
  },
  {
   "cell_type": "code",
   "execution_count": 29,
   "metadata": {},
   "outputs": [
    {
     "data": {
      "text/plain": [
       "5"
      ]
     },
     "execution_count": 29,
     "metadata": {},
     "output_type": "execute_result"
    }
   ],
   "source": [
    "test2(2,3)"
   ]
  },
  {
   "cell_type": "code",
   "execution_count": 30,
   "metadata": {},
   "outputs": [],
   "source": [
    "# 함수에 입력되는 인수가 몇개인지 모를 경우\n",
    "def sumManyF(*inputValue):\n",
    "    sum = 0\n",
    "    for i in inputValue:\n",
    "        sum += i\n",
    "    return sum"
   ]
  },
  {
   "cell_type": "code",
   "execution_count": 33,
   "metadata": {},
   "outputs": [
    {
     "name": "stdout",
     "output_type": "stream",
     "text": [
      "55\n",
      "6\n"
     ]
    }
   ],
   "source": [
    "print(sumManyF(1,2,3,4,5,6,7,8,9,10))\n",
    "print(sumManyF(1,2,3))"
   ]
  },
  {
   "cell_type": "code",
   "execution_count": 36,
   "metadata": {},
   "outputs": [
    {
     "name": "stdout",
     "output_type": "stream",
     "text": [
      "8\n"
     ]
    }
   ],
   "source": [
    "# 여러개의 숫자를 받아 최대값과 최소값의 차이를 구하는 함수 만들기\n",
    "def sumManyF2(*input):\n",
    "    print(np.max(input)-np.min(input))\n",
    "sumManyF2(1,3,5,7,9)"
   ]
  },
  {
   "cell_type": "code",
   "execution_count": 46,
   "metadata": {},
   "outputs": [],
   "source": [
    "# 구구단에서 단과 곱해지는 수를 리스트로 입력하여 출력하기\n",
    "def gugu(x,y):\n",
    "    for i in x:\n",
    "        for j in y:\n",
    "            print(i,\"X\",j,\"=\",i*j)\n",
    "        print(\"-\"*15)"
   ]
  },
  {
   "cell_type": "code",
   "execution_count": 47,
   "metadata": {},
   "outputs": [
    {
     "name": "stdout",
     "output_type": "stream",
     "text": [
      "2 X 6 = 12\n",
      "2 X 7 = 14\n",
      "2 X 8 = 16\n",
      "2 X 9 = 18\n",
      "---------------\n",
      "5 X 6 = 30\n",
      "5 X 7 = 35\n",
      "5 X 8 = 40\n",
      "5 X 9 = 45\n",
      "---------------\n",
      "8 X 6 = 48\n",
      "8 X 7 = 56\n",
      "8 X 8 = 64\n",
      "8 X 9 = 72\n",
      "---------------\n"
     ]
    }
   ],
   "source": [
    "x = [2,5,8]\n",
    "y = [6,7,8,9]\n",
    "\n",
    "gugu(x,y)"
   ]
  },
  {
   "cell_type": "code",
   "execution_count": 50,
   "metadata": {},
   "outputs": [],
   "source": [
    "# 덧셈 기능과 곱셈 기능을 구분하여 결과내기\n",
    "def sum_mulF(calc,*num):\n",
    "    if calc == \"sum\":\n",
    "        result = 0\n",
    "        for i in num:\n",
    "            result += i\n",
    "        return result\n",
    "    elif calc ==\"mul\":\n",
    "        result = 1\n",
    "        for i in num:\n",
    "            result *= i\n",
    "        return result\n",
    "    else:\n",
    "        return \"What are you taking about?\"\n"
   ]
  },
  {
   "cell_type": "code",
   "execution_count": 51,
   "metadata": {},
   "outputs": [
    {
     "name": "stdout",
     "output_type": "stream",
     "text": [
      "15\n",
      "120\n",
      "What are you taking about?\n"
     ]
    }
   ],
   "source": [
    "result = sum_mulF('sum',1,2,3,4,5)\n",
    "print(result)\n",
    "\n",
    "result = sum_mulF('mul',1,2,3,4,5)\n",
    "print(result)\n",
    "\n",
    "result = sum_mulF('add',1,2,3,4,5)\n",
    "print(result)"
   ]
  },
  {
   "cell_type": "code",
   "execution_count": 52,
   "metadata": {},
   "outputs": [],
   "source": [
    "# return 결과값은 항상 하나이다."
   ]
  },
  {
   "cell_type": "code",
   "execution_count": 55,
   "metadata": {},
   "outputs": [
    {
     "data": {
      "text/plain": [
       "(7, 12)"
      ]
     },
     "execution_count": 55,
     "metadata": {},
     "output_type": "execute_result"
    }
   ],
   "source": [
    "def sum_mul(a,b):\n",
    "    return a+b, a*b\n",
    "\n",
    "sum_mul(3,4)"
   ]
  },
  {
   "cell_type": "code",
   "execution_count": 56,
   "metadata": {},
   "outputs": [
    {
     "name": "stdout",
     "output_type": "stream",
     "text": [
      "7\n",
      "12\n"
     ]
    }
   ],
   "source": [
    "return_sum, return_mul = sum_mul(3,4)\n",
    "print(return_sum)\n",
    "print(return_mul)"
   ]
  },
  {
   "cell_type": "code",
   "execution_count": 58,
   "metadata": {},
   "outputs": [
    {
     "name": "stdout",
     "output_type": "stream",
     "text": [
      "13\n",
      "30\n"
     ]
    }
   ],
   "source": [
    "# 함수에 초기값 설정하기\n",
    "# b = 10 <- 가장 많이 쓰는 숫자라 가정\n",
    "def sum_mul(a,b=10):\n",
    "    return a+b, a*b\n",
    "return_sum, return_mul = sum_mul(3)\n",
    "print(return_sum)\n",
    "print(return_mul)\n"
   ]
  },
  {
   "cell_type": "markdown",
   "metadata": {},
   "source": [
    "\n",
    "---\n",
    "# 람다(lamda) 함수\n",
    "- 보통 함수를 한줄로 간결하게 만들때 사용\n",
    "- return 명령어가 필요 없다.\n"
   ]
  },
  {
   "cell_type": "code",
   "execution_count": 60,
   "metadata": {},
   "outputs": [
    {
     "data": {
      "text/plain": [
       "8"
      ]
     },
     "execution_count": 60,
     "metadata": {},
     "output_type": "execute_result"
    }
   ],
   "source": [
    "def addFuction(a,b):\n",
    "    return a+b\n",
    "\n",
    "addFuction(3,5)"
   ]
  },
  {
   "cell_type": "code",
   "execution_count": 61,
   "metadata": {},
   "outputs": [
    {
     "data": {
      "text/plain": [
       "8"
      ]
     },
     "execution_count": 61,
     "metadata": {},
     "output_type": "execute_result"
    }
   ],
   "source": [
    "addLamda = lambda a, b : a + b\n",
    "addLamda(3,5)"
   ]
  },
  {
   "cell_type": "code",
   "execution_count": null,
   "metadata": {},
   "outputs": [],
   "source": []
  },
  {
   "cell_type": "code",
   "execution_count": null,
   "metadata": {},
   "outputs": [],
   "source": []
  },
  {
   "cell_type": "code",
   "execution_count": null,
   "metadata": {},
   "outputs": [],
   "source": []
  },
  {
   "cell_type": "code",
   "execution_count": null,
   "metadata": {},
   "outputs": [],
   "source": []
  }
 ],
 "metadata": {
  "kernelspec": {
   "display_name": "Python 3.9.7 ('base')",
   "language": "python",
   "name": "python3"
  },
  "language_info": {
   "codemirror_mode": {
    "name": "ipython",
    "version": 3
   },
   "file_extension": ".py",
   "mimetype": "text/x-python",
   "name": "python",
   "nbconvert_exporter": "python",
   "pygments_lexer": "ipython3",
   "version": "3.9.7"
  },
  "orig_nbformat": 4,
  "vscode": {
   "interpreter": {
    "hash": "f3b43e4bd4bbcc86dd5566c7a363c0ccf178284afe72937e9ac3cb2743b4c23c"
   }
  }
 },
 "nbformat": 4,
 "nbformat_minor": 2
}
